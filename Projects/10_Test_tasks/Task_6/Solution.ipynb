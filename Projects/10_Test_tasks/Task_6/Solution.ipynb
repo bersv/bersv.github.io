{
 "cells": [
  {
   "cell_type": "markdown",
   "id": "9cb58fba-d4fa-48eb-bcc7-2d8a23a5f1b0",
   "metadata": {},
   "source": [
    "### 1. Импорт необходимых библиотек"
   ]
  },
  {
   "cell_type": "code",
   "execution_count": 17,
   "id": "9a625260-48a0-4c0c-a844-bdd1a14fe3bd",
   "metadata": {},
   "outputs": [],
   "source": [
    "import os\n",
    "import re\n",
    "import jiwer\n",
    "import pandas as pd\n",
    "import Levenshtein\n",
    "from num2words import num2words\n",
    "from pymorphy2 import MorphAnalyzer\n",
    "from sklearn.metrics.pairwise import cosine_similarity\n",
    "from sklearn.feature_extraction.text import TfidfVectorizer\n",
    "from nltk.translate.bleu_score import sentence_bleu, SmoothingFunction"
   ]
  },
  {
   "cell_type": "markdown",
   "id": "58a45f3d-ec9f-49ac-a5f4-40950828d5dc",
   "metadata": {},
   "source": [
    "### 2. Считывание данных"
   ]
  },
  {
   "cell_type": "markdown",
   "id": "c79e3fe5-1202-4b85-b9fd-46471e64071c",
   "metadata": {},
   "source": [
    "Прочитаем данные из файла с транскрибацией Whisper в датафрейм. Для начала оставим данные в \"сыром\" виде"
   ]
  },
  {
   "cell_type": "code",
   "execution_count": 21,
   "id": "dea4a2c0-2f9c-49fb-b990-dc5af805d13d",
   "metadata": {},
   "outputs": [],
   "source": [
    "with open('Транскрипт Whisper.txt', 'r', encoding='utf-8') as f:\n",
    "    lines = f.readlines()"
   ]
  },
  {
   "cell_type": "code",
   "execution_count": 23,
   "id": "5ea837b0-b821-4cbb-99b6-0dc005f0b2e6",
   "metadata": {},
   "outputs": [
    {
     "data": {
      "text/html": [
       "<div>\n",
       "<style scoped>\n",
       "    .dataframe tbody tr th:only-of-type {\n",
       "        vertical-align: middle;\n",
       "    }\n",
       "\n",
       "    .dataframe tbody tr th {\n",
       "        vertical-align: top;\n",
       "    }\n",
       "\n",
       "    .dataframe thead th {\n",
       "        text-align: right;\n",
       "    }\n",
       "</style>\n",
       "<table border=\"1\" class=\"dataframe\">\n",
       "  <thead>\n",
       "    <tr style=\"text-align: right;\">\n",
       "      <th></th>\n",
       "      <th>raw</th>\n",
       "    </tr>\n",
       "  </thead>\n",
       "  <tbody>\n",
       "    <tr>\n",
       "      <th>0</th>\n",
       "      <td>###1 [0:00:00 --&gt; 0:00:03]  -  Здравствуйте, в...</td>\n",
       "    </tr>\n",
       "    <tr>\n",
       "      <th>1</th>\n",
       "      <td>###1 [0:00:04 --&gt; 0:00:10]  -  Уважаемый клиен...</td>\n",
       "    </tr>\n",
       "    <tr>\n",
       "      <th>2</th>\n",
       "      <td>###1 [0:00:11 --&gt; 0:00:16]  -  Вы можете сформ...</td>\n",
       "    </tr>\n",
       "  </tbody>\n",
       "</table>\n",
       "</div>"
      ],
      "text/plain": [
       "                                                 raw\n",
       "0  ###1 [0:00:00 --> 0:00:03]  -  Здравствуйте, в...\n",
       "1  ###1 [0:00:04 --> 0:00:10]  -  Уважаемый клиен...\n",
       "2  ###1 [0:00:11 --> 0:00:16]  -  Вы можете сформ..."
      ]
     },
     "execution_count": 23,
     "metadata": {},
     "output_type": "execute_result"
    }
   ],
   "source": [
    "df = pd.DataFrame({'raw': [line.strip() for line in lines if line.strip()]})\n",
    "df.head(3)"
   ]
  },
  {
   "cell_type": "markdown",
   "id": "7f5c0735-05e3-44db-ada8-dbf571293770",
   "metadata": {},
   "source": [
    "Рассмотрим отдельную строку датафрейма:"
   ]
  },
  {
   "cell_type": "code",
   "execution_count": 24,
   "id": "8c758d0c-71e0-4012-897b-7025c70bff30",
   "metadata": {},
   "outputs": [
    {
     "data": {
      "text/plain": [
       "'###1 [0:00:04 --> 0:00:10]  -  Уважаемый клиент, информируем вас, что срок предоставления актов сверки и закрывающих документов составляет 7 рабочих дней.'"
      ]
     },
     "execution_count": 24,
     "metadata": {},
     "output_type": "execute_result"
    }
   ],
   "source": [
    "df.iloc[1]['raw']"
   ]
  },
  {
   "cell_type": "markdown",
   "id": "c534b8b7-fe6c-44dc-a1c7-cfef996344e7",
   "metadata": {},
   "source": [
    "Выполним разделение считанных строк данных на столбцы, используя регулярное выражение"
   ]
  },
  {
   "cell_type": "code",
   "execution_count": null,
   "id": "abf9a69c-fa43-4b1b-a5b4-70d70f6517a7",
   "metadata": {},
   "outputs": [],
   "source": [
    "pattern = r'###(\\d+)\\s+\\[(.*?)\\s*-->\\s*(.*?)\\]\\s*-\\s*(.*)'"
   ]
  },
  {
   "cell_type": "code",
   "execution_count": 26,
   "id": "9abcbf9a-7d86-4787-a21b-ee06039efcc0",
   "metadata": {},
   "outputs": [
    {
     "data": {
      "text/html": [
       "<div>\n",
       "<style scoped>\n",
       "    .dataframe tbody tr th:only-of-type {\n",
       "        vertical-align: middle;\n",
       "    }\n",
       "\n",
       "    .dataframe tbody tr th {\n",
       "        vertical-align: top;\n",
       "    }\n",
       "\n",
       "    .dataframe thead th {\n",
       "        text-align: right;\n",
       "    }\n",
       "</style>\n",
       "<table border=\"1\" class=\"dataframe\">\n",
       "  <thead>\n",
       "    <tr style=\"text-align: right;\">\n",
       "      <th></th>\n",
       "      <th>0</th>\n",
       "      <th>1</th>\n",
       "      <th>2</th>\n",
       "      <th>3</th>\n",
       "    </tr>\n",
       "  </thead>\n",
       "  <tbody>\n",
       "    <tr>\n",
       "      <th>0</th>\n",
       "      <td>1</td>\n",
       "      <td>0:00:00</td>\n",
       "      <td>0:00:03</td>\n",
       "      <td>Здравствуйте, вы позвонили в центр сопровожден...</td>\n",
       "    </tr>\n",
       "    <tr>\n",
       "      <th>1</th>\n",
       "      <td>1</td>\n",
       "      <td>0:00:04</td>\n",
       "      <td>0:00:10</td>\n",
       "      <td>Уважаемый клиент, информируем вас, что срок пр...</td>\n",
       "    </tr>\n",
       "    <tr>\n",
       "      <th>2</th>\n",
       "      <td>1</td>\n",
       "      <td>0:00:11</td>\n",
       "      <td>0:00:16</td>\n",
       "      <td>Вы можете сформировать документы прямо сейчас,...</td>\n",
       "    </tr>\n",
       "  </tbody>\n",
       "</table>\n",
       "</div>"
      ],
      "text/plain": [
       "   0        1        2                                                  3\n",
       "0  1  0:00:00  0:00:03  Здравствуйте, вы позвонили в центр сопровожден...\n",
       "1  1  0:00:04  0:00:10  Уважаемый клиент, информируем вас, что срок пр...\n",
       "2  1  0:00:11  0:00:16  Вы можете сформировать документы прямо сейчас,..."
      ]
     },
     "execution_count": 26,
     "metadata": {},
     "output_type": "execute_result"
    }
   ],
   "source": [
    "whisper = df['raw'].str.extract(pattern)\n",
    "whisper.head(3)"
   ]
  },
  {
   "cell_type": "markdown",
   "id": "61358ccd-f9c9-4e89-b00b-d24a05552d10",
   "metadata": {},
   "source": [
    "Переименуем столбцы в соответствии с содержимым"
   ]
  },
  {
   "cell_type": "code",
   "execution_count": 27,
   "id": "ad5525bf-e9e5-4f33-86c2-eab3760a35ee",
   "metadata": {},
   "outputs": [
    {
     "data": {
      "text/html": [
       "<div>\n",
       "<style scoped>\n",
       "    .dataframe tbody tr th:only-of-type {\n",
       "        vertical-align: middle;\n",
       "    }\n",
       "\n",
       "    .dataframe tbody tr th {\n",
       "        vertical-align: top;\n",
       "    }\n",
       "\n",
       "    .dataframe thead th {\n",
       "        text-align: right;\n",
       "    }\n",
       "</style>\n",
       "<table border=\"1\" class=\"dataframe\">\n",
       "  <thead>\n",
       "    <tr style=\"text-align: right;\">\n",
       "      <th></th>\n",
       "      <th>speaker</th>\n",
       "      <th>start_time</th>\n",
       "      <th>end_time</th>\n",
       "      <th>text</th>\n",
       "    </tr>\n",
       "  </thead>\n",
       "  <tbody>\n",
       "    <tr>\n",
       "      <th>0</th>\n",
       "      <td>1</td>\n",
       "      <td>0:00:00</td>\n",
       "      <td>0:00:03</td>\n",
       "      <td>Здравствуйте, вы позвонили в центр сопровожден...</td>\n",
       "    </tr>\n",
       "    <tr>\n",
       "      <th>1</th>\n",
       "      <td>1</td>\n",
       "      <td>0:00:04</td>\n",
       "      <td>0:00:10</td>\n",
       "      <td>Уважаемый клиент, информируем вас, что срок пр...</td>\n",
       "    </tr>\n",
       "    <tr>\n",
       "      <th>2</th>\n",
       "      <td>1</td>\n",
       "      <td>0:00:11</td>\n",
       "      <td>0:00:16</td>\n",
       "      <td>Вы можете сформировать документы прямо сейчас,...</td>\n",
       "    </tr>\n",
       "  </tbody>\n",
       "</table>\n",
       "</div>"
      ],
      "text/plain": [
       "  speaker start_time end_time  \\\n",
       "0       1    0:00:00  0:00:03   \n",
       "1       1    0:00:04  0:00:10   \n",
       "2       1    0:00:11  0:00:16   \n",
       "\n",
       "                                                text  \n",
       "0  Здравствуйте, вы позвонили в центр сопровожден...  \n",
       "1  Уважаемый клиент, информируем вас, что срок пр...  \n",
       "2  Вы можете сформировать документы прямо сейчас,...  "
      ]
     },
     "execution_count": 27,
     "metadata": {},
     "output_type": "execute_result"
    }
   ],
   "source": [
    "whisper.columns=['speaker', 'start_time', 'end_time', 'text']\n",
    "whisper.head(3)"
   ]
  },
  {
   "cell_type": "markdown",
   "id": "b909efc7-51a8-47fb-b654-5c28c5b670cc",
   "metadata": {},
   "source": [
    "Рассмотрим распределение данных"
   ]
  },
  {
   "cell_type": "code",
   "execution_count": 28,
   "id": "72c15941-daef-451c-adb0-f21e3885cbd9",
   "metadata": {},
   "outputs": [
    {
     "data": {
      "text/plain": [
       "speaker       0\n",
       "start_time    0\n",
       "end_time      0\n",
       "text          0\n",
       "dtype: int64"
      ]
     },
     "execution_count": 28,
     "metadata": {},
     "output_type": "execute_result"
    }
   ],
   "source": [
    "# Проверка на пропущенные значения\n",
    "whisper.isnull().sum()"
   ]
  },
  {
   "cell_type": "code",
   "execution_count": 29,
   "id": "70e126fd-1ce0-476e-b53b-0676da27f618",
   "metadata": {},
   "outputs": [
    {
     "data": {
      "text/plain": [
       "0"
      ]
     },
     "execution_count": 29,
     "metadata": {},
     "output_type": "execute_result"
    }
   ],
   "source": [
    "# Проверка на дубликаты\n",
    "whisper.duplicated().sum()"
   ]
  },
  {
   "cell_type": "code",
   "execution_count": 30,
   "id": "fe5e5910-2d6a-47d0-a7f6-8e43143252ed",
   "metadata": {},
   "outputs": [
    {
     "data": {
      "text/plain": [
       "(70, 4)"
      ]
     },
     "execution_count": 30,
     "metadata": {},
     "output_type": "execute_result"
    }
   ],
   "source": [
    "# Количество строк\n",
    "whisper.shape"
   ]
  },
  {
   "cell_type": "markdown",
   "id": "cfbb4756-00cc-4806-a0be-617990eff6c7",
   "metadata": {},
   "source": [
    "#### Функция для всей обработки"
   ]
  },
  {
   "cell_type": "markdown",
   "id": "ea1109f0-1ea8-42db-b6c3-3fcace49192a",
   "metadata": {},
   "source": [
    "Запишем функцию для выполнения необходимой предобработки и загрузки данных"
   ]
  },
  {
   "cell_type": "code",
   "execution_count": 55,
   "id": "78ab1e65-c19f-4d37-808d-801b3bf709b8",
   "metadata": {},
   "outputs": [],
   "source": [
    "def process_file(file_path: str) -> pd.DataFrame:\n",
    "    with open(file_path, 'r', encoding='utf-8') as f:\n",
    "        lines = f.readlines()\n",
    "    \n",
    "    df = pd.DataFrame({'raw': [line.strip() for line in lines if line.strip()]})\n",
    "    pattern = r'###(\\d+)\\s+\\[(.*?)\\s*-->\\s*(.*?)\\]\\s*-\\s*(.*)'\n",
    "\n",
    "    df = (\n",
    "        df['raw']\n",
    "        .str.extract(pattern)\n",
    "        .rename(columns={\n",
    "            0: 'speaker',\n",
    "            1: 'start_time',\n",
    "            2: 'end_time',\n",
    "            3: 'text'\n",
    "        })\n",
    "    )\n",
    "\n",
    "    return df"
   ]
  },
  {
   "cell_type": "markdown",
   "id": "22fdcec5-83cd-4cad-9606-75ad61f6e2c7",
   "metadata": {},
   "source": [
    "Загрузим данные эталонной и Yandex транскрибации"
   ]
  },
  {
   "cell_type": "code",
   "execution_count": 56,
   "id": "cbe1b983-74fe-43ca-8af6-f95d22dec6b4",
   "metadata": {},
   "outputs": [
    {
     "data": {
      "text/html": [
       "<div>\n",
       "<style scoped>\n",
       "    .dataframe tbody tr th:only-of-type {\n",
       "        vertical-align: middle;\n",
       "    }\n",
       "\n",
       "    .dataframe tbody tr th {\n",
       "        vertical-align: top;\n",
       "    }\n",
       "\n",
       "    .dataframe thead th {\n",
       "        text-align: right;\n",
       "    }\n",
       "</style>\n",
       "<table border=\"1\" class=\"dataframe\">\n",
       "  <thead>\n",
       "    <tr style=\"text-align: right;\">\n",
       "      <th></th>\n",
       "      <th>speaker</th>\n",
       "      <th>start_time</th>\n",
       "      <th>end_time</th>\n",
       "      <th>text</th>\n",
       "    </tr>\n",
       "  </thead>\n",
       "  <tbody>\n",
       "    <tr>\n",
       "      <th>0</th>\n",
       "      <td>1</td>\n",
       "      <td>0:00:00.199000</td>\n",
       "      <td>0:00:41.590000</td>\n",
       "      <td>Здравствуйте, вы позвонили в Центр сопровожден...</td>\n",
       "    </tr>\n",
       "    <tr>\n",
       "      <th>1</th>\n",
       "      <td>1</td>\n",
       "      <td>0:00:44.079000</td>\n",
       "      <td>0:01:05.519000</td>\n",
       "      <td>Нужно обновить программу, нажмите, 1 не получа...</td>\n",
       "    </tr>\n",
       "    <tr>\n",
       "      <th>2</th>\n",
       "      <td>1</td>\n",
       "      <td>0:01:15.640000</td>\n",
       "      <td>0:02:07.150000</td>\n",
       "      <td>Мы не получили действительный ответ. Подождите...</td>\n",
       "    </tr>\n",
       "  </tbody>\n",
       "</table>\n",
       "</div>"
      ],
      "text/plain": [
       "  speaker      start_time        end_time  \\\n",
       "0       1  0:00:00.199000  0:00:41.590000   \n",
       "1       1  0:00:44.079000  0:01:05.519000   \n",
       "2       1  0:01:15.640000  0:02:07.150000   \n",
       "\n",
       "                                                text  \n",
       "0  Здравствуйте, вы позвонили в Центр сопровожден...  \n",
       "1  Нужно обновить программу, нажмите, 1 не получа...  \n",
       "2  Мы не получили действительный ответ. Подождите...  "
      ]
     },
     "execution_count": 56,
     "metadata": {},
     "output_type": "execute_result"
    }
   ],
   "source": [
    "yandex = process_file('Транскрипт Yandex.txt')\n",
    "yandex.head(3)"
   ]
  },
  {
   "cell_type": "code",
   "execution_count": 58,
   "id": "204ff8df-36c8-4657-b625-eccb7f1bebf8",
   "metadata": {},
   "outputs": [
    {
     "data": {
      "text/html": [
       "<div>\n",
       "<style scoped>\n",
       "    .dataframe tbody tr th:only-of-type {\n",
       "        vertical-align: middle;\n",
       "    }\n",
       "\n",
       "    .dataframe tbody tr th {\n",
       "        vertical-align: top;\n",
       "    }\n",
       "\n",
       "    .dataframe thead th {\n",
       "        text-align: right;\n",
       "    }\n",
       "</style>\n",
       "<table border=\"1\" class=\"dataframe\">\n",
       "  <thead>\n",
       "    <tr style=\"text-align: right;\">\n",
       "      <th></th>\n",
       "      <th>speaker</th>\n",
       "      <th>start_time</th>\n",
       "      <th>end_time</th>\n",
       "      <th>text</th>\n",
       "    </tr>\n",
       "  </thead>\n",
       "  <tbody>\n",
       "    <tr>\n",
       "      <th>0</th>\n",
       "      <td>1</td>\n",
       "      <td>0:00:00</td>\n",
       "      <td>0:00:03</td>\n",
       "      <td>Здравствуйте. Вы позвонили в центр сопровожден...</td>\n",
       "    </tr>\n",
       "    <tr>\n",
       "      <th>1</th>\n",
       "      <td>1</td>\n",
       "      <td>0:00:03</td>\n",
       "      <td>0:00:10</td>\n",
       "      <td>Уважаемый клиент, информируем вас, что срок пр...</td>\n",
       "    </tr>\n",
       "    <tr>\n",
       "      <th>2</th>\n",
       "      <td>1</td>\n",
       "      <td>0:00:11</td>\n",
       "      <td>0:00:16</td>\n",
       "      <td>Вы можете сформировать документы прямо сейчас,...</td>\n",
       "    </tr>\n",
       "  </tbody>\n",
       "</table>\n",
       "</div>"
      ],
      "text/plain": [
       "  speaker start_time end_time  \\\n",
       "0       1    0:00:00  0:00:03   \n",
       "1       1    0:00:03  0:00:10   \n",
       "2       1    0:00:11  0:00:16   \n",
       "\n",
       "                                                text  \n",
       "0  Здравствуйте. Вы позвонили в центр сопровожден...  \n",
       "1  Уважаемый клиент, информируем вас, что срок пр...  \n",
       "2  Вы можете сформировать документы прямо сейчас,...  "
      ]
     },
     "execution_count": 58,
     "metadata": {},
     "output_type": "execute_result"
    }
   ],
   "source": [
    "reference = process_file('Эталонный транскрипт.txt')\n",
    "reference.head(3)"
   ]
  },
  {
   "cell_type": "code",
   "execution_count": 59,
   "id": "e80c913f-9a29-44e6-96f1-a2ab3b30a380",
   "metadata": {},
   "outputs": [
    {
     "name": "stdout",
     "output_type": "stream",
     "text": [
      "Строк в Whisper: 70\n",
      "Строк в Yandex: 30\n",
      "Строк в Reference: 59\n"
     ]
    }
   ],
   "source": [
    "print('Строк в Whisper:', whisper.shape[0])\n",
    "print('Строк в Yandex:', yandex.shape[0])\n",
    "print('Строк в Reference:', reference.shape[0])"
   ]
  },
  {
   "cell_type": "markdown",
   "id": "782762d1-3063-413a-b433-573db2639721",
   "metadata": {},
   "source": [
    "#### Альтернативный способ считывания данных"
   ]
  },
  {
   "cell_type": "markdown",
   "id": "5a2bdbab-7e30-498a-ab1d-904a7c0483b0",
   "metadata": {},
   "source": [
    "Если изначально ознакомиться с содержимым файлов (до загрузки данных в pandas), можно заметить, что текстовая часть транскрибации всегда начинается после одного и того же сочетания символов. Так же видно, что результаты транскрибации для Whisper и Yandex существенно различаются по разбиению текста на временные интервалы и количеству строк соответственно.  Учитывая это, можно произвести загрузку данных иным способом: извлечь сразу только текст, игнорируя временные метки и информацию о текущем участнике разговора"
   ]
  },
  {
   "cell_type": "code",
   "execution_count": 60,
   "id": "bdb4b3b9-051b-4414-9a1f-c131b666fccb",
   "metadata": {},
   "outputs": [
    {
     "data": {
      "text/html": [
       "<div>\n",
       "<style scoped>\n",
       "    .dataframe tbody tr th:only-of-type {\n",
       "        vertical-align: middle;\n",
       "    }\n",
       "\n",
       "    .dataframe tbody tr th {\n",
       "        vertical-align: top;\n",
       "    }\n",
       "\n",
       "    .dataframe thead th {\n",
       "        text-align: right;\n",
       "    }\n",
       "</style>\n",
       "<table border=\"1\" class=\"dataframe\">\n",
       "  <thead>\n",
       "    <tr style=\"text-align: right;\">\n",
       "      <th></th>\n",
       "      <th>Text</th>\n",
       "    </tr>\n",
       "  </thead>\n",
       "  <tbody>\n",
       "    <tr>\n",
       "      <th>0</th>\n",
       "      <td>Здравствуйте, вы позвонили в центр сопровожден...</td>\n",
       "    </tr>\n",
       "    <tr>\n",
       "      <th>1</th>\n",
       "      <td>Уважаемый клиент, информируем вас, что срок пр...</td>\n",
       "    </tr>\n",
       "    <tr>\n",
       "      <th>2</th>\n",
       "      <td>Вы можете сформировать документы прямо сейчас,...</td>\n",
       "    </tr>\n",
       "  </tbody>\n",
       "</table>\n",
       "</div>"
      ],
      "text/plain": [
       "                                                Text\n",
       "0  Здравствуйте, вы позвонили в центр сопровожден...\n",
       "1  Уважаемый клиент, информируем вас, что срок пр...\n",
       "2  Вы можете сформировать документы прямо сейчас,..."
      ]
     },
     "execution_count": 60,
     "metadata": {},
     "output_type": "execute_result"
    }
   ],
   "source": [
    "delimiter = ']  -  '   # Разделитель, после которого начинается текст\n",
    "texts = []\n",
    "\n",
    "with open('Транскрипт Whisper.txt', 'r', encoding='utf-8') as f:\n",
    "    for line in f:\n",
    "        line = line.strip()\n",
    "        if not line:\n",
    "            continue   # Пропускаем пустые строки и переходим к следующей итерации цикла\n",
    "        # Разбиваем строку по разделителю, извлекаем текст после него\n",
    "        parts = line.split(delimiter, 1)\n",
    "        text = parts[1].strip()\n",
    "        texts.append({'Text': text})\n",
    "\n",
    "# Создаем DataFrame\n",
    "df = pd.DataFrame(texts)\n",
    "df.head(3)"
   ]
  },
  {
   "cell_type": "markdown",
   "id": "c2ad02c7-4e77-4fa3-aefe-18f0d5d348d4",
   "metadata": {},
   "source": [
    "### 3. Обработка текста"
   ]
  },
  {
   "cell_type": "markdown",
   "id": "0f2fe8c0-dc66-4d38-83c9-d0509cad84f4",
   "metadata": {},
   "source": [
    "Нормализация текста для подсчёта метрик качества транскрибации может включать:\n",
    "- Удаление пунктуации\n",
    "- Приведение символов к нижнему регистру\n",
    "- Удаление лишних пробелов\n",
    "- Замена \"ё\" на \"е\"\n",
    "- Замена цифровой записи числительных на буквенную"
   ]
  },
  {
   "cell_type": "markdown",
   "id": "d8919505-d542-4c86-867b-e7fb30656029",
   "metadata": {},
   "source": [
    "#### Своя функция"
   ]
  },
  {
   "cell_type": "markdown",
   "id": "8d448621-bd8b-4676-ba09-0aeb3ca1b921",
   "metadata": {},
   "source": [
    "Для выполнения нормализации можно записать собственную функцию следующего вида:"
   ]
  },
  {
   "cell_type": "code",
   "execution_count": 61,
   "id": "e012a43d-87bc-4d08-b2dd-07a970bec792",
   "metadata": {},
   "outputs": [],
   "source": [
    "def clean_text(text: str) -> str:\n",
    "    text = re.sub(r'[^\\w\\s]', ' ', text).lower()   # Удаление пунктуации и приведение к нижнему регистру\n",
    "    text = re.sub(r'\\s+', ' ', text).strip()   # Удаление лишних пробелов\n",
    "    text = text.replace('ё', 'е')   # Замена 'ё' на 'е'\n",
    "    return text"
   ]
  },
  {
   "cell_type": "code",
   "execution_count": 62,
   "id": "1a243c4a-8623-452a-bc79-6bdb6fab5d51",
   "metadata": {},
   "outputs": [
    {
     "name": "stdout",
     "output_type": "stream",
     "text": [
      " Съешь ещё этих   мягких французских  булок, да выпей [же] чаю.\n",
      "съешь еще этих мягких французских булок да выпей же чаю\n"
     ]
    }
   ],
   "source": [
    "# Пример для визуализации работоспособности функции\n",
    "row = ' Съешь ещё этих   мягких французских  булок, да выпей [же] чаю.'\n",
    "\n",
    "print(row)\n",
    "print(clean_text(row))"
   ]
  },
  {
   "cell_type": "markdown",
   "id": "7f5f6f9a-a0cd-457b-8a46-ef02a4e8fc18",
   "metadata": {},
   "source": [
    "#### Jiwer"
   ]
  },
  {
   "cell_type": "markdown",
   "id": "12c1b2d1-806a-4bfa-94dc-544de5cb735a",
   "metadata": {},
   "source": [
    "А можно воспользоваться встроенными методами библиотеки `jiwer`, которая в дальнейшем потребуется для вычисления метрик качества транскрибации:"
   ]
  },
  {
   "cell_type": "code",
   "execution_count": 63,
   "id": "ffafcdb4-41e6-40bd-b326-25d33ca7a4d8",
   "metadata": {},
   "outputs": [],
   "source": [
    "def preprocess_text(text: str) -> str:\n",
    "    transformation = jiwer.Compose([\n",
    "        jiwer.ToLowerCase(),\n",
    "        jiwer.SubstituteRegexes({r'ё': r'е', r':': r' '}),   # Для корректной обработки сочетаний вида \"1С:Управление\"\n",
    "        jiwer.RemovePunctuation(),\n",
    "        jiwer.RemoveWhiteSpace(replace_by_space=True),\n",
    "        jiwer.RemoveMultipleSpaces(),\n",
    "        jiwer.Strip()\n",
    "    ])\n",
    "    \n",
    "    return transformation(text)"
   ]
  },
  {
   "cell_type": "code",
   "execution_count": 64,
   "id": "4d8c74b8-7155-44e2-8b26-f53fe08098cd",
   "metadata": {},
   "outputs": [
    {
     "name": "stdout",
     "output_type": "stream",
     "text": [
      " Съешь ещё этих   мягких французских  булок, да выпей [же] чаю.\n",
      "съешь еще этих мягких французских булок да выпей же чаю\n"
     ]
    }
   ],
   "source": [
    "print(row)\n",
    "print(preprocess_text(row))"
   ]
  },
  {
   "cell_type": "markdown",
   "id": "4355fbb8-ae63-4dbb-b89d-41e9c6ceda93",
   "metadata": {},
   "source": [
    "Передадим в одну строку весь текст транскрибации Whisper в предобработанном виде"
   ]
  },
  {
   "cell_type": "code",
   "execution_count": null,
   "id": "07de156b-eb63-481a-baea-2f6364a8999e",
   "metadata": {},
   "outputs": [],
   "source": [
    "whisper_text = preprocess_text(' '.join(whisper['text']))"
   ]
  },
  {
   "cell_type": "markdown",
   "id": "c37cffbd-08e4-43a6-9103-1f8f6002c61e",
   "metadata": {},
   "source": [
    "Аналогично поступим для эталонной и Yandex транскрибации"
   ]
  },
  {
   "cell_type": "code",
   "execution_count": 66,
   "id": "39e70b48-da9f-4955-80aa-5b65a8921b07",
   "metadata": {},
   "outputs": [],
   "source": [
    "yandex_text = preprocess_text(' '.join(yandex['text']))\n",
    "reference_text = preprocess_text(' '.join(reference['text']))"
   ]
  },
  {
   "cell_type": "markdown",
   "id": "f3bd11b3-cb45-4284-8914-bc6754ba0c2c",
   "metadata": {},
   "source": [
    "### 4. Вычисление метрик"
   ]
  },
  {
   "cell_type": "markdown",
   "id": "f737a22f-4c0e-4b12-821b-0e8188fd455f",
   "metadata": {},
   "source": [
    "Существует ряд общепринятых метрик для оценки точности автоматического распознавания речи.\n",
    "В основном будем ориентироваться на метрики *Word Error Rate (WER)* и *Character Error Rate (CER)*, как наиболее популярные, понятные интуитивно и простые для вычисления."
   ]
  },
  {
   "cell_type": "markdown",
   "id": "d03189ff-7db2-4d47-b8eb-7d509c970a61",
   "metadata": {},
   "source": [
    "#### WER"
   ]
  },
  {
   "cell_type": "code",
   "execution_count": 67,
   "id": "7fc1f419-42c3-4476-bd5e-85a1cf967c9e",
   "metadata": {},
   "outputs": [
    {
     "name": "stdout",
     "output_type": "stream",
     "text": [
      "WER Whisper: 21.15%\n",
      "WER Yandex: 29.70%\n"
     ]
    }
   ],
   "source": [
    "wer_whisper = jiwer.wer(reference_text, whisper_text)\n",
    "wer_yandex = jiwer.wer(reference_text, yandex_text)\n",
    "\n",
    "print(f'WER Whisper: {wer_whisper:.2%}')\n",
    "print(f'WER Yandex: {wer_yandex:.2%}')"
   ]
  },
  {
   "cell_type": "markdown",
   "id": "f564483e-4a48-4e2d-bbb7-bba73401b557",
   "metadata": {},
   "source": [
    "#### CER"
   ]
  },
  {
   "cell_type": "code",
   "execution_count": 68,
   "id": "6c5a34fc-4ed1-4be5-9d54-dd55268d0085",
   "metadata": {
    "scrolled": true
   },
   "outputs": [
    {
     "name": "stdout",
     "output_type": "stream",
     "text": [
      "CER Whisper: 13.99%\n",
      "CER Yandex: 16.88%\n"
     ]
    }
   ],
   "source": [
    "cer_whisper = jiwer.cer(reference_text, whisper_text)\n",
    "cer_yandex = jiwer.cer(reference_text, yandex_text)\n",
    "\n",
    "print(f'CER Whisper: {cer_whisper:.2%}')\n",
    "print(f'CER Yandex: {cer_yandex:.2%}')"
   ]
  },
  {
   "cell_type": "markdown",
   "id": "db3ef455-04f2-4927-b9ad-01f94acea693",
   "metadata": {},
   "source": [
    "Дополнительно можно попробовать улучшить метрики путём замены записи числительных цифрами на буквенную запись (при этом стоит учесть характерное для текста сочетание \"1С\", где цифра \"1\" является частью устойчивого обозначения – его лучше оставить без изменений)"
   ]
  },
  {
   "cell_type": "code",
   "execution_count": null,
   "id": "e7f4a4d1-1a43-4889-b2ba-f325c7df2e93",
   "metadata": {},
   "outputs": [],
   "source": [
    "# Учтём все возможные варианты записи \"1С\"\n",
    "reference_text_without_num = re.sub(r'\\b(?<!1[СсCcSs])\\d+\\b', lambda x: num2words(int(x.group(0)), lang='ru'), reference_text)\n",
    "whisper_text_without_num = re.sub(r'\\b(?<!1[СсCcSs])\\d+\\b', lambda x: num2words(int(x.group(0)), lang='ru'), whisper_text)\n",
    "yandex_text_without_num = re.sub(r'\\b(?<!1[СсCcSs])\\d+\\b', lambda x: num2words(int(x.group(0)), lang='ru'), yandex_text)"
   ]
  },
  {
   "cell_type": "code",
   "execution_count": 70,
   "id": "17e40417-8f86-4799-94c0-e0268799464e",
   "metadata": {},
   "outputs": [
    {
     "name": "stdout",
     "output_type": "stream",
     "text": [
      "WER Whisper: 21.15%\n",
      "WER Yandex: 29.70%\n"
     ]
    }
   ],
   "source": [
    "wer_whisper_ = jiwer.wer(reference_text_without_num, whisper_text_without_num)\n",
    "wer_yandex_ = jiwer.wer(reference_text_without_num, yandex_text_without_num)\n",
    "\n",
    "print(f'WER Whisper: {wer_whisper_:.2%}')\n",
    "print(f'WER Yandex: {wer_yandex_:.2%}')"
   ]
  },
  {
   "cell_type": "code",
   "execution_count": 71,
   "id": "5ea36911-9305-4bf6-9c30-8f7de256756b",
   "metadata": {},
   "outputs": [
    {
     "name": "stdout",
     "output_type": "stream",
     "text": [
      "CER Whisper: 13.74%\n",
      "CER Yandex: 17.58%\n"
     ]
    }
   ],
   "source": [
    "cer_whisper_ = jiwer.cer(reference_text_without_num, whisper_text_without_num)\n",
    "cer_yandex_ = jiwer.cer(reference_text_without_num, yandex_text_without_num)\n",
    "\n",
    "print(f\"CER Whisper: {cer_whisper_:.2%}\")\n",
    "print(f\"CER Yandex: {cer_yandex_:.2%}\")"
   ]
  },
  {
   "cell_type": "markdown",
   "id": "6d4cb1be-9a81-431a-83b8-2b261ecbd5f0",
   "metadata": {},
   "source": [
    "Метрику CER действительно удалось немного улучшить. Метрика WER осталось той же – это объясняется тем, что обе модели (Whisper и Yandex) изначально внесли в текст распознанные числительные аналогично эталонной транскрибации"
   ]
  },
  {
   "cell_type": "markdown",
   "id": "4d139d1f-cd92-42cd-8a3c-26ec22fcc1e2",
   "metadata": {},
   "source": [
    "#### IWER"
   ]
  },
  {
   "cell_type": "markdown",
   "id": "69be7fe0-98dc-4d67-8c21-9f0f164c9811",
   "metadata": {},
   "source": [
    "Помимо стандартных метрик WER и CER, существуют более адаптированные подходы. Например, для русского языка с его сложной морфологией эффективным инструментом является IWER (*Inflectional Word Error Rate, Флективная ошибка распознавания слов*). Эта метрика учитывает грамматические вариации слов: падежи, спряжения, склонения"
   ]
  },
  {
   "cell_type": "markdown",
   "id": "14d316fc-0cad-46a1-993d-685896896833",
   "metadata": {},
   "source": [
    "Для расчёта метрики IWER необходимо привести слова текста к базовой форме (лемме)"
   ]
  },
  {
   "cell_type": "code",
   "execution_count": 72,
   "id": "90a8dfed-226a-4cdb-ab28-d538e0fbbc28",
   "metadata": {},
   "outputs": [],
   "source": [
    "morph = MorphAnalyzer()"
   ]
  },
  {
   "cell_type": "code",
   "execution_count": 73,
   "id": "9f17e78d-85b4-411d-a073-3fa717009025",
   "metadata": {},
   "outputs": [],
   "source": [
    "def lemmatize_text(text: str) -> str:\n",
    "    return ' '.join([morph.parse(word)[0].normal_form for word in text.split()])"
   ]
  },
  {
   "cell_type": "code",
   "execution_count": 74,
   "id": "7e7f983b-a797-4801-8ffe-e6af4cbe34ab",
   "metadata": {},
   "outputs": [],
   "source": [
    "def calculate_iwer(reference: str, hypothesis: str) -> float:\n",
    "    ref_processed = lemmatize_text(reference)\n",
    "    hyp_processed = lemmatize_text(hypothesis)\n",
    "\n",
    "    return jiwer.wer(ref_processed, hyp_processed)"
   ]
  },
  {
   "cell_type": "code",
   "execution_count": 75,
   "id": "f3d5930b-c414-4638-aea8-aab113dd810c",
   "metadata": {},
   "outputs": [
    {
     "name": "stdout",
     "output_type": "stream",
     "text": [
      "IWER Whisper: 20.73%\n",
      "IWER Yandex: 29.06%\n"
     ]
    }
   ],
   "source": [
    "print(f'IWER Whisper: {calculate_iwer(reference_text, whisper_text):.2%}')\n",
    "print(f'IWER Yandex: {calculate_iwer(reference_text, yandex_text):.2%}')"
   ]
  },
  {
   "cell_type": "markdown",
   "id": "60dbc174-ba14-4d03-9e1c-cc8df1d9648d",
   "metadata": {},
   "source": [
    "#### Другие метрики"
   ]
  },
  {
   "cell_type": "markdown",
   "id": "6ba3c609-d190-4f07-a960-79b5b2948377",
   "metadata": {},
   "source": [
    "Дополнительно рассмотрим следующие метрики:\n",
    "- *MER (Match Error Rate)* – процент несоответствия слов, чувствительна к перестановкам\n",
    "- *WIL (Word Information Lost)* – мера потерянной информации в словах, близка к 1 при сильной ошибке\n",
    "- *WIP (Word Information Preserved)* – сколько информации сохранено (1 – идеально)\n",
    "- *BLEU (Bilingual Evaluation Understudy)* – схожесть n-граммам (обычно для перевода, но применим и к транскрибации)\n",
    "- *Cosine similarity* – косинусная близость текстов по TF-IDF, от 0 до 1 (1 – идентичны)\n",
    "- *Levenshtein distance* – количество изменений, нужных для превращения одного текста в другой"
   ]
  },
  {
   "cell_type": "code",
   "execution_count": 83,
   "id": "298134de-b065-4a98-a662-9cb1d4e0bbde",
   "metadata": {},
   "outputs": [],
   "source": [
    "# Вспомогательные функции для вычисления доп метрик\n",
    "def bleu_score(reference: str, hypothesis: str) -> float:\n",
    "    ref_tokens = reference.split()\n",
    "    hyp_tokens = hypothesis.split()\n",
    "    smoothie = SmoothingFunction().method1\n",
    "    return sentence_bleu([ref_tokens], hyp_tokens, smoothing_function=smoothie)\n",
    "\n",
    "def cosine_sim(text1: str, text2: str) -> float:\n",
    "    vec = TfidfVectorizer().fit_transform([text1, text2])\n",
    "    return cosine_similarity(vec[0:1], vec[1:2])[0][0]"
   ]
  },
  {
   "cell_type": "code",
   "execution_count": 80,
   "id": "76f239cd-2f36-432a-aba0-65b0fb8c1d7e",
   "metadata": {},
   "outputs": [
    {
     "name": "stdout",
     "output_type": "stream",
     "text": [
      "Whisper additional metrics:\n",
      "MER: 19.30%\n",
      "WIL: 24.33%\n",
      "WIP: 0.76\n",
      "BLEU: 0.77\n",
      "Cosine similarity: 0.93\n",
      "Levenshtein distance: 445\n"
     ]
    }
   ],
   "source": [
    "whisper_measures = jiwer.compute_measures(reference_text, whisper_text)\n",
    "\n",
    "print('Whisper additional metrics:')\n",
    "print(f'MER: {whisper_measures[\"mer\"]:.2%}')\n",
    "print(f'WIL: {whisper_measures[\"wil\"]:.2%}')\n",
    "print(f'WIP: {whisper_measures[\"wip\"]:.2f}')\n",
    "print(f'BLEU: {bleu_score(reference_text, whisper_text):.2f}')\n",
    "print(f'Cosine similarity: {cosine_sim(reference_text, whisper_text):.2f}')\n",
    "print(f'Levenshtein distance: {Levenshtein.distance(reference_text, whisper_text)}')"
   ]
  },
  {
   "cell_type": "code",
   "execution_count": 81,
   "id": "b076088f-81c6-4a93-b365-ea7aaefc84be",
   "metadata": {},
   "outputs": [
    {
     "name": "stdout",
     "output_type": "stream",
     "text": [
      "Yandex additional metrics:\n",
      "MER: 25.23%\n",
      "WIL: 33.33%\n",
      "WIP: 0.67\n",
      "BLEU: 0.67\n",
      "Cosine Similarity: 0.84\n",
      "Levenshtein distance: 537\n"
     ]
    }
   ],
   "source": [
    "yandex_measures = jiwer.compute_measures(reference_text, yandex_text)\n",
    "\n",
    "print('Yandex additional metrics:')\n",
    "print(f'MER: {yandex_measures[\"mer\"]:.2%}')\n",
    "print(f'WIL: {yandex_measures[\"wil\"]:.2%}')\n",
    "print(f'WIP: {yandex_measures[\"wip\"]:.2f}')\n",
    "print(f'BLEU: {bleu_score(reference_text, yandex_text):.2f}')\n",
    "print(f'Cosine Similarity: {cosine_sim(reference_text, yandex_text):.2f}')\n",
    "print(f'Levenshtein distance: {Levenshtein.distance(reference_text, yandex_text)}')"
   ]
  },
  {
   "cell_type": "markdown",
   "id": "b9e36fec-3bda-4fbb-becf-e9a318521cea",
   "metadata": {},
   "source": [
    "*Общий вывод по проделанной работе: исходя из расчитанных метрик, можно утверждать, что с задачей транскрибации лучше справился Whisper*"
   ]
  }
 ],
 "metadata": {
  "kernelspec": {
   "display_name": "Python 3 (ipykernel)",
   "language": "python",
   "name": "python3"
  },
  "language_info": {
   "codemirror_mode": {
    "name": "ipython",
    "version": 3
   },
   "file_extension": ".py",
   "mimetype": "text/x-python",
   "name": "python",
   "nbconvert_exporter": "python",
   "pygments_lexer": "ipython3",
   "version": "3.9.21"
  }
 },
 "nbformat": 4,
 "nbformat_minor": 5
}
