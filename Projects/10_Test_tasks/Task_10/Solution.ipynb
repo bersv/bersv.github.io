{
 "cells": [
  {
   "cell_type": "markdown",
   "id": "82b2d02e-9ac0-49bd-be91-17bdec107518",
   "metadata": {},
   "source": [
    "### План реализации проекта"
   ]
  },
  {
   "cell_type": "markdown",
   "id": "327b07f6-be9b-4b03-b167-126328d9456d",
   "metadata": {},
   "source": [
    "#### 1. Загрузка и первичный анализ данных"
   ]
  },
  {
   "cell_type": "markdown",
   "id": "5a71b445-1101-48c4-b5e2-68ca3c21b76f",
   "metadata": {},
   "source": [
    "- Загрузим предоставленные CSV-файлы\n",
    "- Проверим типы данных, наличие дубликатов id и пропусков значений\n",
    "- Объединим информацию о коровах и быках, чтобы упростить работу с родословной"
   ]
  },
  {
   "cell_type": "markdown",
   "id": "32f53816-e6d2-461e-9707-7b121e15c0f7",
   "metadata": {},
   "source": [
    "#### 2. Вменение пропущенных значений EBV"
   ]
  },
  {
   "cell_type": "markdown",
   "id": "f4d91699-acd8-44d3-a5dd-3ca7f064d84e",
   "metadata": {},
   "source": [
    "_Ключевой проблемой в данных является большое количество пропущенных значений EBV у коров и одного среди быков. Простое удаление этих данных или заполнение средним значением приведёт к потере ценной генетической информации. Попробуем восстановить (вменить) EBV на основе родословной. Если после нескольких итераций у животного невозможно посчитать EBV (например, у родителей тоже нет данных и так до основателей рода), в качестве крайней меры будем использовать средний EBV по всем животным (коровам\\быкам), у которых он был изначально известен._"
   ]
  },
  {
   "cell_type": "markdown",
   "id": "cc3d4c9e-2b2b-404c-ac3f-2275d9cd7038",
   "metadata": {},
   "source": [
    "- Представим `pedigree.csv` в виде направленного графа, где узлы – это животные, а рёбра ведут от родителей к потомкам\n",
    "- Для единственного быка с пропущенным EBV данных по родителям не оказалось, будем использовать среднее EBV по всем остальным быкам _(забегая вперёд, этот неизвестный бык в итоговую селективную подборку всё равно не вошёл)_\n",
    "- Для каждой потенциальной пары \"корова-бык\" рассчитаем коэффициент инбридинга их гипотетического потомка"
   ]
  },
  {
   "cell_type": "markdown",
   "id": "438bdcfe-3555-40d1-89d4-c0c40dea285d",
   "metadata": {},
   "source": [
    "__Ограничения__\n",
    "- Каждая корова закрепляется ровно за одним быком\n",
    "- Ограничение на использование каждого быка _(10% от общего числа коров)_\n",
    "- Ограничение по инбридингу _(используем бинарный параметр допустимости пары (1, если инбридинг ≤0.05, иначе 0))_"
   ]
  },
  {
   "cell_type": "markdown",
   "id": "f704801d-5454-4473-980f-43196c31ccb0",
   "metadata": {},
   "source": [
    "#### 3. Реализация жадного алгоритма"
   ]
  },
  {
   "cell_type": "markdown",
   "id": "6e1643fc-7c71-4455-bf2d-8df0413380a6",
   "metadata": {},
   "source": [
    "- Инициализация\n",
    "   - Создадим список всех коров для осеменения\n",
    "   - Создадим словарь, в котором будем фиксировать использование каждого быка\n",
    "   - Установим максимальное значение использования быка\n",
    "- Расчёт оценки для пар\n",
    "   - Найдём средний EBV по всем возможным потомкам от всех _допустимых_ пар\n",
    "   - Для каждой такой пары рассчитаем оценку, которая будет поощрять разнообразие и вознаграждать как высокий EBV, так и отклонение от среднего\n",
    "- Итеративное применение\n",
    "   - Запуск цикла, который будет продолжаться, пока не будет найдена идеальная пара для каждой коровы\n",
    "   - Чтобы избежать случая, когда первые коровы в списке получат лучших быков, можно обрабатывать коров в случайном порядке, либо в порядке убывания их собственного EBV"
   ]
  },
  {
   "cell_type": "markdown",
   "id": "1f853c18-3b6b-4451-b874-632ec2ff659b",
   "metadata": {},
   "source": [
    "#### 4. Формирование и проверка результата"
   ]
  },
  {
   "cell_type": "markdown",
   "id": "30c01eb7-ec0c-4146-a4bd-e012d440f6a4",
   "metadata": {},
   "source": [
    "- Создадим и сохраним выходной файл\n",
    "- Ещё раз убедимся, что задействованы все коровы, а быки используются в рамках заданного ограничения\n",
    "- Расчитаем некоторые статистики по полученным парам"
   ]
  },
  {
   "cell_type": "markdown",
   "id": "ea5c9087-dc02-440c-9979-a854dab38b11",
   "metadata": {},
   "source": [
    "### Python-скрипт"
   ]
  },
  {
   "cell_type": "code",
   "execution_count": 7,
   "id": "4bf8112a-7f13-46ff-88fc-5d5a7f2d3243",
   "metadata": {},
   "outputs": [],
   "source": [
    "# Импорт необходимых библиотек\n",
    "import numpy as np\n",
    "import pandas as pd\n",
    "import networkx as nx\n",
    "from tqdm import tqdm\n",
    "from functools import lru_cache"
   ]
  },
  {
   "cell_type": "code",
   "execution_count": 2,
   "id": "22d96fcf-e8c8-422f-a141-8ab0f561ebd4",
   "metadata": {},
   "outputs": [],
   "source": [
    "# Константы и параметры\n",
    "DATA_PATH = './' # Путь к папке с данными\n",
    "\n",
    "# Файлы с входными данными\n",
    "BULLS_FILE = DATA_PATH + 'bulls.csv'\n",
    "COWS_FILE = DATA_PATH + 'cows.csv'\n",
    "PEDIGREE_FILE = DATA_PATH + 'pedigree.csv'\n",
    "\n",
    "# Выходной файл\n",
    "OUTPUT_FILE = 'cow_bull_assignments.csv'\n",
    "\n",
    "# Параметры модели\n",
    "INBREEDING_THRESHOLD = 0.05\n",
    "BULL_USAGE_RATIO = 0.10\n",
    "LAMBDA_SCORE = 0.7  # 70% важности для среднего EBV, 30% для разнообразия"
   ]
  },
  {
   "cell_type": "code",
   "execution_count": null,
   "id": "8cbeb6c6-c7e3-45dd-af32-71d576f72938",
   "metadata": {},
   "outputs": [],
   "source": [
    "# Функции подготовки данных\n",
    "def load_and_prepare_data(bulls_file, cows_file, pedigree_file):\n",
    "    \"\"\"\n",
    "    Загружает и подготавливает исходные данные\n",
    "    \"\"\"\n",
    "    print(\"Этап 1: Загрузка и подготовка данных...\")\n",
    "    bulls = pd.read_csv(bulls_file)\n",
    "    cows = pd.read_csv(cows_file)\n",
    "    pedigree_df = pd.read_csv(pedigree_file)\n",
    "\n",
    "    pedigree_graph = nx.DiGraph()\n",
    "    for _, row in pedigree_df.iterrows():\n",
    "        animal_id, mother_id, father_id = row['id'], row['mother_id'], row['father_id']\n",
    "        if pd.notna(mother_id):\n",
    "            pedigree_graph.add_edge(mother_id, animal_id)\n",
    "        if pd.notna(father_id):\n",
    "            pedigree_graph.add_edge(father_id, animal_id)\n",
    "            \n",
    "    print(f\"Загружено {len(bulls)} быков, {len(cows)} коров и {len(pedigree_df)} записей о родословной\")\n",
    "    print(\"Данные загружены, граф родословной построен\\n\")\n",
    "    return bulls, cows, pedigree_df, pedigree_graph\n",
    "\n",
    "def impute_ebv_values(bulls, cows, pedigree_df):\n",
    "    \"\"\"\n",
    "    Вменяет пропущенные значения EBV, используя родословную\n",
    "    \"\"\"\n",
    "    print(\"Этап 2: Вменение пропущенных значений EBV...\")\n",
    "    # Объединяем всех животных для удобства\n",
    "    animals = pd.concat([\n",
    "        bulls[['id', 'ebv']],\n",
    "        cows[['id', 'ebv']]\n",
    "    ]).set_index('id')\n",
    "\n",
    "    # Обработка быка с пропущенным EBV\n",
    "    bull_missing_ebv = bulls[bulls['ebv'].isna()]\n",
    "    if not bull_missing_ebv.empty:\n",
    "        bull_id = bull_missing_ebv['id'].iloc[0]\n",
    "        mean_bull_ebv = bulls['ebv'].mean()\n",
    "        animals.loc[bull_id, 'ebv'] = mean_bull_ebv\n",
    "        print(f\"EBV для быка {bull_id} был вменен средним значением по быкам: {mean_bull_ebv:.2f}\")\n",
    "\n",
    "    # Итеративное вменение EBV для коров на основе родителей\n",
    "    ebv_dict = animals['ebv'].to_dict()\n",
    "    pedigree_map = pedigree_df.set_index('id').T.to_dict()\n",
    "\n",
    "    imputed_in_iteration = -1\n",
    "    iteration = 0\n",
    "    while imputed_in_iteration != 0:\n",
    "        imputed_in_iteration = 0\n",
    "        iteration += 1\n",
    "        ids_to_impute = [id for id, val in ebv_dict.items() if pd.isna(val)]\n",
    "        \n",
    "        for animal_id in ids_to_impute:\n",
    "            parents = pedigree_map.get(animal_id)\n",
    "            if not parents:\n",
    "                continue\n",
    "\n",
    "            mother_id, father_id = parents.get('mother_id'), parents.get('father_id')\n",
    "            \n",
    "            mother_ebv = ebv_dict.get(mother_id)\n",
    "            father_ebv = ebv_dict.get(father_id)\n",
    "\n",
    "            if pd.notna(mother_ebv) and pd.notna(father_ebv):\n",
    "                imputed_val = 0.5 * mother_ebv + 0.5 * father_ebv\n",
    "                ebv_dict[animal_id] = imputed_val\n",
    "                imputed_in_iteration += 1\n",
    "        \n",
    "        print(f\"Итерация {iteration}: вменено {imputed_in_iteration} значений EBV\")\n",
    "\n",
    "    # Обработка оставшихся пропусков (основатели рода без EBV)\n",
    "    remaining_missing_ids = [id for id, val in ebv_dict.items() if pd.isna(val)]\n",
    "    if remaining_missing_ids:\n",
    "        print(f\"Осталось {len(remaining_missing_ids)} животных без EBV (вероятно, основатели рода)\")\n",
    "        # Используем среднее по коровам с известным изначальным EBV\n",
    "        mean_cow_ebv = cows['ebv'].dropna().mean()\n",
    "        for animal_id in remaining_missing_ids:\n",
    "            ebv_dict[animal_id] = mean_cow_ebv\n",
    "        print(f\"Заполняем оставшиеся пропуски средним EBV коров: {mean_cow_ebv:.2f}\")\n",
    "    \n",
    "    print(\"Вменение EBV завершено\\n\")\n",
    "    return ebv_dict"
   ]
  },
  {
   "cell_type": "code",
   "execution_count": null,
   "id": "e38e64ec-1359-4c72-ba71-ba109b0d6326",
   "metadata": {},
   "outputs": [],
   "source": [
    "# Основной альгоритм подбора пар\n",
    "def run_mating_algorithm(bulls, cows, ebv_dict, pedigree_graph):\n",
    "    \"\"\"\n",
    "    Основной алгоритм подбора пар\n",
    "    \"\"\"\n",
    "    print(\"Этап 3: Запуск алгоритма подбора пар...\")\n",
    "    \n",
    "    # Максимальное количество осеменений на одного быка\n",
    "    max_bull_usage = int(len(cows) * BULL_USAGE_RATIO)\n",
    "    print(f\"Ограничение на одного быка: не более {max_bull_usage} коров\")\n",
    "\n",
    "    # Создаем кешированную функцию для расчета инбридинга, чтобы избежать повторных вычислений\n",
    "    @lru_cache(maxsize=None)\n",
    "    def get_inbreeding_coefficient(animal1_id, animal2_id):\n",
    "        if not pedigree_graph.has_node(animal1_id) or not pedigree_graph.has_node(animal2_id):\n",
    "            return 0.0\n",
    "        \n",
    "        ancestors1 = nx.ancestors(pedigree_graph, animal1_id)\n",
    "        ancestors2 = nx.ancestors(pedigree_graph, animal2_id)\n",
    "        common_ancestors = ancestors1.intersection(ancestors2)\n",
    "\n",
    "        if not common_ancestors:\n",
    "            return 0.0\n",
    "\n",
    "        inbreeding_sum = 0.0\n",
    "        for ancestor in common_ancestors:\n",
    "            # Находим длину пути (количество поколений) от каждого родителя до общего предка\n",
    "            # Используем BFS для поиска кратчайшего пути вверх по графу\n",
    "            try:\n",
    "                path_len1 = len(nx.shortest_path(pedigree_graph, ancestor, animal1_id))\n",
    "                path_len2 = len(nx.shortest_path(pedigree_graph, ancestor, animal2_id))\n",
    "                n1, n2 = path_len1 - 1, path_len2 - 1\n",
    "                inbreeding_sum += (0.5) ** (n1 + n2 + 1)\n",
    "            except nx.NetworkXNoPath:\n",
    "                # Такое может быть в неполных родословных, пропускаем\n",
    "                continue\n",
    "                \n",
    "        return inbreeding_sum\n",
    "\n",
    "    # Создание и фильтрация всех возможных пар\n",
    "    print(\"Создание и фильтрация всех возможных пар...\")\n",
    "    valid_pairs = []\n",
    "    bull_ids = bulls['id'].tolist()\n",
    "    cow_ids = cows['id'].tolist()\n",
    "\n",
    "    for cow_id in tqdm(cow_ids, desc=\"Проверка пар\"):\n",
    "        for bull_id in bull_ids:\n",
    "            inbreeding_f = get_inbreeding_coefficient(cow_id, bull_id)\n",
    "            if inbreeding_f <= INBREEDING_THRESHOLD:\n",
    "                offspring_ebv = 0.5 * (ebv_dict[cow_id] + ebv_dict[bull_id])\n",
    "                valid_pairs.append({\n",
    "                    'cow_id': cow_id,\n",
    "                    'bull_id': bull_id,\n",
    "                    'offspring_ebv': offspring_ebv\n",
    "                })\n",
    "\n",
    "    print(f\"Найдено {len(valid_pairs)} допустимых пар (инбридинг <= {INBREEDING_THRESHOLD * 100}%)\")\n",
    "    \n",
    "    if not valid_pairs:\n",
    "        raise ValueError(\"Не найдено ни одной допустимой пары. Проверьте порог инбридинга\")\n",
    "\n",
    "    # Расчёт оценки привлекательности для каждой пары\n",
    "    pairs_df = pd.DataFrame(valid_pairs)\n",
    "    global_mean_ebv = pairs_df['offspring_ebv'].mean()\n",
    "    \n",
    "    pairs_df['score'] = (LAMBDA_SCORE * pairs_df['offspring_ebv'] +\n",
    "                         (1 - LAMBDA_SCORE) * abs(pairs_df['offspring_ebv'] - global_mean_ebv))\n",
    "    \n",
    "    # Жадный алгоритм назначения\n",
    "    print(\"Запуск жадного алгоритма назначения...\")\n",
    "    pairs_df = pairs_df.sort_values(by='score', ascending=False)\n",
    "    \n",
    "    assignments = {}\n",
    "    bull_usage_counts = {bull_id: 0 for bull_id in bull_ids}\n",
    "    assigned_cows = set()\n",
    "\n",
    "    for _, pair in tqdm(pairs_df.iterrows(), total=len(pairs_df), desc=\"Назначение пар\"):\n",
    "        cow_id, bull_id = pair['cow_id'], pair['bull_id']\n",
    "        \n",
    "        if cow_id not in assigned_cows and bull_usage_counts[bull_id] < max_bull_usage:\n",
    "            assignments[cow_id] = bull_id\n",
    "            bull_usage_counts[bull_id] += 1\n",
    "            assigned_cows.add(cow_id)\n",
    "            \n",
    "        if len(assigned_cows) == len(cows):\n",
    "            break # Все коровы назначены\n",
    "            \n",
    "    print(\"Алгоритм подбора пар завершён\\n\")\n",
    "    return assignments, bull_usage_counts"
   ]
  },
  {
   "cell_type": "code",
   "execution_count": 5,
   "id": "0017f1ac-2f4d-4f7c-9017-8cb2909426e6",
   "metadata": {},
   "outputs": [
    {
     "name": "stdout",
     "output_type": "stream",
     "text": [
      "Этап 1: Загрузка и подготовка данных...\n",
      "Загружено 39 быков, 17177 коров и 94400 записей о родословной\n",
      "Данные загружены, граф родословной построен\n",
      "\n",
      "Этап 2: Вменение пропущенных значений EBV...\n",
      "EBV для быка GB00000052082 был вменен средним значением по быкам: 480.37\n",
      "Итерация 1: вменено 95 значений EBV\n",
      "Итерация 2: вменено 0 значений EBV\n",
      "Осталось 1754 животных без EBV (вероятно, основатели рода)\n",
      "Заполняем оставшиеся пропуски средним EBV коров: 362.15\n",
      "Вменение EBV завершено\n",
      "\n",
      "Этап 3: Запуск алгоритма подбора пар...\n",
      "Ограничение на одного быка: не более 1717 коров\n",
      "Создание и фильтрация всех возможных пар...\n"
     ]
    },
    {
     "name": "stderr",
     "output_type": "stream",
     "text": [
      "Проверка пар: 100%|████████████████████████████████████████████████████████████| 17177/17177 [1:39:36<00:00,  2.87it/s]\n"
     ]
    },
    {
     "name": "stdout",
     "output_type": "stream",
     "text": [
      "Найдено 643963 допустимых пар (инбридинг <= 5.0%)\n",
      "Запуск жадного алгоритма назначения...\n"
     ]
    },
    {
     "name": "stderr",
     "output_type": "stream",
     "text": [
      "Назначение пар:  93%|███████████████████████████████████████████████████▎   | 600880/643963 [00:31<00:02, 19371.34it/s]\n"
     ]
    },
    {
     "name": "stdout",
     "output_type": "stream",
     "text": [
      "Алгоритм подбора пар завершен\n",
      "\n",
      "Этап 4: Формирование и проверка результата...\n",
      "Результаты сохранены в файл: cow_bull_assignments.csv\n",
      "\n",
      "Итоговая статистика по потомству\n",
      "Средний ожидаемый EBV потомства: 908.57\n",
      "Стандартное отклонение EBV потомства: 357.70\n",
      "Минимальный EBV потомства: -351.70\n",
      "Максимальный EBV потомства: 1957.05\n",
      "\n",
      "Статистика использования быков\n",
      "US00000003459    1717\n",
      "US00000003013    1717\n",
      "US00000001653    1717\n",
      "DE00000001742    1717\n",
      "GB00000002348    1717\n",
      "US00000002804    1717\n",
      "FR00000002912    1717\n",
      "US00000000795    1717\n",
      "US00000003507    1717\n",
      "GB00000002585    1669\n",
      "DE00000003760      55\n",
      "dtype: int64\n"
     ]
    }
   ],
   "source": [
    "# Главный блок выполнения\n",
    "def main():\n",
    "    \"\"\"\n",
    "    Главная функция для выполнения всего процесса\n",
    "    \"\"\"\n",
    "    bulls, cows, pedigree_df, pedigree_graph = load_and_prepare_data(BULLS_FILE, COWS_FILE, PEDIGREE_FILE)\n",
    "    ebv_dict = impute_ebv_values(bulls, cows, pedigree_df)\n",
    "    \n",
    "    bulls['ebv'] = bulls['id'].map(ebv_dict)\n",
    "    cows['ebv'] = cows['id'].map(ebv_dict)\n",
    "\n",
    "    assignments, bull_usage_counts = run_mating_algorithm(bulls, cows, ebv_dict, pedigree_graph)\n",
    "\n",
    "    print(\"Этап 4: Формирование и проверка результата...\")\n",
    "    if len(assignments) != len(cows):\n",
    "        print(f\"ВНИМАНИЕ: Назначено {len(assignments)} из {len(cows)} коров. Возможно, стоит ослабить ограничения\")\n",
    "\n",
    "    assignments_df = pd.DataFrame(list(assignments.items()), columns=['cow_id', 'bull_id'])\n",
    "    assignments_df.to_csv(OUTPUT_FILE, index=False)\n",
    "    print(f\"Результаты сохранены в файл: {OUTPUT_FILE}\")\n",
    "\n",
    "    # Финальная статистика\n",
    "    assigned_bulls_ebv = assignments_df['bull_id'].map(ebv_dict)\n",
    "    assigned_cows_ebv = assignments_df['cow_id'].map(ebv_dict)\n",
    "    final_offspring_ebv = (assigned_bulls_ebv + assigned_cows_ebv) / 2\n",
    "    \n",
    "    print(\"\\nИтоговая статистика по потомству\")\n",
    "    print(f\"Средний ожидаемый EBV потомства: {final_offspring_ebv.mean():.2f}\")\n",
    "    print(f\"Стандартное отклонение EBV потомства: {final_offspring_ebv.std():.2f}\")\n",
    "    print(f\"Минимальный EBV потомства: {final_offspring_ebv.min():.2f}\")\n",
    "    print(f\"Максимальный EBV потомства: {final_offspring_ebv.max():.2f}\")\n",
    "    \n",
    "    print(\"\\nСтатистика использования быков\")\n",
    "    usage_df = pd.Series(bull_usage_counts).sort_values(ascending=False)\n",
    "    print(usage_df[usage_df > 0])\n",
    "    \n",
    "if __name__ == '__main__':\n",
    "    main()"
   ]
  }
 ],
 "metadata": {
  "kernelspec": {
   "display_name": "Python 3 (ipykernel)",
   "language": "python",
   "name": "python3"
  },
  "language_info": {
   "codemirror_mode": {
    "name": "ipython",
    "version": 3
   },
   "file_extension": ".py",
   "mimetype": "text/x-python",
   "name": "python",
   "nbconvert_exporter": "python",
   "pygments_lexer": "ipython3",
   "version": "3.9.21"
  }
 },
 "nbformat": 4,
 "nbformat_minor": 5
}
