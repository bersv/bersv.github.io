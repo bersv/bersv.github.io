{
 "cells": [
  {
   "cell_type": "markdown",
   "id": "e295b5d6-c181-47b2-8d47-be1c80cf1fea",
   "metadata": {},
   "source": [
    "#### План проекта"
   ]
  },
  {
   "cell_type": "markdown",
   "id": "fb215845-dce6-46c2-b10d-e33fbf8bad57",
   "metadata": {},
   "source": [
    "В рамках данной работы планируется реализовать систему оптимального показа рекламных баннеров на основе пользовательской активности, зафиксированной в логах `actions.csv` (показы и клики) и `triggers.csv` (посещения сайтов). Цель — максимизировать прибыль при соблюдении бизнес-ограничений: стоимость показа баннера составляет *1\\$*, прибыль с клика — *5\\$*, одному пользователю можно показывать рекламу не чаще одного раза в 14 дней.\n",
    "\n",
    "На первом этапе будет проведена загрузка и предварительная обработка данных, включая фильтрацию по пересечению пользователей между двумя таблицами и, при необходимости, ограничение выборки (например, 100 000 пользователей для тестирования). Далее, для каждого показа будут сформированы поведенческие признаки, описывающие активность пользователя перед моментом взаимодействия. В качестве таких признаков будут использоваться: частота и уникальность посещений за разные интервалы времени, временные характеристики последнего посещения, история взаимодействия с рекламой и рассчитанный пользовательский CTR.\n",
    "\n",
    "После построения фичей планируется обучение модели машинного обучения (например, LightGBM) для предсказания вероятности клика. В связи с сильным дисбалансом классов (около 3% положительных примеров), будет применено стратифицированное разбиение и метод SMOTE, что позволит улучшить возможность модели различать интересующих нас пользователей и снизить риск игнорирования положительного класса. На основе выходов модели будет реализован жадный алгоритм показа: реклама будет показана только тем пользователям, для которых уровень вероятности клика превысит минимальный для окупаемости.\n",
    "\n",
    "Финальная часть проекта включает имитацию кампании с учетом 14-дневного ограничения на частоту показа, расчёт ключевых бизнес-метрик (показов, кликов, расходов, выручки и прибыли) и анализ эффективности выбранного порога."
   ]
  },
  {
   "cell_type": "markdown",
   "id": "6b2ae63c-6a16-4603-8f41-e4e7b6a8e91e",
   "metadata": {},
   "source": [
    "#### 1. Загрузка, анализ и предварительная обработка данных"
   ]
  },
  {
   "cell_type": "code",
   "execution_count": 62,
   "id": "3729fbb1-635c-47ee-9094-0d6f93476b99",
   "metadata": {},
   "outputs": [],
   "source": [
    "# Импорт необходимых библиотек\n",
    "import numpy as np\n",
    "import pandas as pd\n",
    "import lightgbm as lgb\n",
    "from imblearn.over_sampling import SMOTE\n",
    "from sklearn.preprocessing import StandardScaler\n",
    "from sklearn.model_selection import train_test_split\n",
    "from sklearn.metrics import precision_score, recall_score, f1_score, roc_auc_score, average_precision_score"
   ]
  },
  {
   "cell_type": "code",
   "execution_count": 61,
   "id": "676c6d87-0db9-4703-995c-4de6c85fd3f2",
   "metadata": {},
   "outputs": [],
   "source": [
    "import warnings\n",
    "warnings.filterwarnings('ignore')"
   ]
  },
  {
   "cell_type": "code",
   "execution_count": 64,
   "id": "33530db4-a8aa-4a1a-ad0e-da152bbb9173",
   "metadata": {},
   "outputs": [],
   "source": [
    "# Загрузим имеющиеся наборы данных\n",
    "actions_df = pd.read_csv('actions.csv', parse_dates=['date'])\n",
    "triggers_df = pd.read_csv('triggers.csv', parse_dates=['date'])"
   ]
  },
  {
   "cell_type": "code",
   "execution_count": 65,
   "id": "aee04173-4202-4245-8bb0-b64ab4e5e753",
   "metadata": {},
   "outputs": [
    {
     "name": "stdout",
     "output_type": "stream",
     "text": [
      "Количество данных: \n",
      "actions_df – (378204, 3) \n",
      "triggers_df – (43074627, 4)\n"
     ]
    }
   ],
   "source": [
    "# Оценим размеры датасетов\n",
    "print(f'Количество данных: \\nactions_df – {actions_df.shape} \\ntriggers_df – {triggers_df.shape}')"
   ]
  },
  {
   "cell_type": "code",
   "execution_count": 66,
   "id": "ab52cdd8-b69e-4bff-b966-c92cb523e8f0",
   "metadata": {},
   "outputs": [
    {
     "data": {
      "text/html": [
       "<div>\n",
       "<style scoped>\n",
       "    .dataframe tbody tr th:only-of-type {\n",
       "        vertical-align: middle;\n",
       "    }\n",
       "\n",
       "    .dataframe tbody tr th {\n",
       "        vertical-align: top;\n",
       "    }\n",
       "\n",
       "    .dataframe thead th {\n",
       "        text-align: right;\n",
       "    }\n",
       "</style>\n",
       "<table border=\"1\" class=\"dataframe\">\n",
       "  <thead>\n",
       "    <tr style=\"text-align: right;\">\n",
       "      <th></th>\n",
       "      <th>guid</th>\n",
       "      <th>date</th>\n",
       "      <th>result</th>\n",
       "    </tr>\n",
       "  </thead>\n",
       "  <tbody>\n",
       "    <tr>\n",
       "      <th>0</th>\n",
       "      <td>0187a45c-6784-7e2f-5d84-f3c89dee6a60</td>\n",
       "      <td>2024-05-20 08:28:13</td>\n",
       "      <td>0</td>\n",
       "    </tr>\n",
       "    <tr>\n",
       "      <th>1</th>\n",
       "      <td>0187a45d-650b-4a4f-ea59-9432556c9b1d</td>\n",
       "      <td>2024-05-31 08:19:10</td>\n",
       "      <td>0</td>\n",
       "    </tr>\n",
       "    <tr>\n",
       "      <th>2</th>\n",
       "      <td>018ba1bd-3c62-0269-e77f-655655f10b3e</td>\n",
       "      <td>2024-05-13 09:01:37</td>\n",
       "      <td>0</td>\n",
       "    </tr>\n",
       "  </tbody>\n",
       "</table>\n",
       "</div>"
      ],
      "text/plain": [
       "                                   guid                date  result\n",
       "0  0187a45c-6784-7e2f-5d84-f3c89dee6a60 2024-05-20 08:28:13       0\n",
       "1  0187a45d-650b-4a4f-ea59-9432556c9b1d 2024-05-31 08:19:10       0\n",
       "2  018ba1bd-3c62-0269-e77f-655655f10b3e 2024-05-13 09:01:37       0"
      ]
     },
     "execution_count": 66,
     "metadata": {},
     "output_type": "execute_result"
    }
   ],
   "source": [
    "# Пример данных\n",
    "actions_df.head(3)"
   ]
  },
  {
   "cell_type": "code",
   "execution_count": 67,
   "id": "639ef2fb-a01f-4cd7-80c9-89c8a59d61eb",
   "metadata": {},
   "outputs": [
    {
     "name": "stdout",
     "output_type": "stream",
     "text": [
      "<class 'pandas.core.frame.DataFrame'>\n",
      "RangeIndex: 378204 entries, 0 to 378203\n",
      "Data columns (total 3 columns):\n",
      " #   Column  Non-Null Count   Dtype         \n",
      "---  ------  --------------   -----         \n",
      " 0   guid    378204 non-null  object        \n",
      " 1   date    378204 non-null  datetime64[ns]\n",
      " 2   result  378204 non-null  int64         \n",
      "dtypes: datetime64[ns](1), int64(1), object(1)\n",
      "memory usage: 8.7+ MB\n"
     ]
    }
   ],
   "source": [
    "actions_df.info()"
   ]
  },
  {
   "cell_type": "code",
   "execution_count": 68,
   "id": "8f780859-2a48-493c-b708-05bb0501859c",
   "metadata": {},
   "outputs": [
    {
     "name": "stdout",
     "output_type": "stream",
     "text": [
      "Пропуски в actions_df:\n",
      "guid      0\n",
      "date      0\n",
      "result    0\n",
      "dtype: int64\n",
      "\n",
      "Пропуски в triggers_df:\n",
      "guid       0\n",
      "date       0\n",
      "trigger    0\n",
      "type       0\n",
      "dtype: int64\n"
     ]
    }
   ],
   "source": [
    "# Проверим, нет ли пропусков в данных\n",
    "print('Пропуски в actions_df:')\n",
    "print(actions_df.isnull().sum().sort_values(ascending=False))\n",
    "print('\\nПропуски в triggers_df:')\n",
    "print(triggers_df.isnull().sum().sort_values(ascending=False))"
   ]
  },
  {
   "cell_type": "code",
   "execution_count": 69,
   "id": "a83f633c-9037-4e9e-91b2-e2aa6aa6b98d",
   "metadata": {},
   "outputs": [
    {
     "name": "stdout",
     "output_type": "stream",
     "text": [
      "result\n",
      "0    0.97055\n",
      "1    0.02945\n",
      "Name: proportion, dtype: float64\n"
     ]
    }
   ],
   "source": [
    "# Проверим распределение таргета \n",
    "print(actions_df['result'].value_counts(normalize=True))"
   ]
  },
  {
   "cell_type": "markdown",
   "id": "37991065-a158-4c7a-98ac-c69e08e1ce2e",
   "metadata": {},
   "source": [
    "Так как целевая переменная _(result)_ есть только в actions.csv, разумно ограничиться только пользователями, у которых есть хоть один action, то есть выбираем из triggers.csv только те guid, которые есть в actions.csv"
   ]
  },
  {
   "cell_type": "code",
   "execution_count": 70,
   "id": "456a1819-d827-4203-922a-d12feda22237",
   "metadata": {},
   "outputs": [],
   "source": [
    "# Получение уникальных пользователей, у которых были взаимодействия\n",
    "action_guids = actions_df['guid'].unique()"
   ]
  },
  {
   "cell_type": "markdown",
   "id": "4ef459a7-8f79-4d1e-b3ec-1d8923538517",
   "metadata": {},
   "source": [
    "В целях увеличения скорости работы и оптимизации загрузки памяти, ограничимся 100k пользователей"
   ]
  },
  {
   "cell_type": "code",
   "execution_count": 71,
   "id": "e76fee22-f6ff-4842-95ed-7bd75affa12a",
   "metadata": {},
   "outputs": [],
   "source": [
    "# Случайная выборка 100_000 пользователей из тех, кто взаимодействовал\n",
    "sample_guids = np.random.choice(action_guids, size=100_000, replace=False)"
   ]
  },
  {
   "cell_type": "code",
   "execution_count": 72,
   "id": "d6e87da2-5f39-46eb-8f57-6e1374381860",
   "metadata": {},
   "outputs": [],
   "source": [
    "# Отфильтруем данные по выбранным пользователям\n",
    "actions_small_df = actions_df[actions_df['guid'].isin(sample_guids)].copy()\n",
    "triggers_small_df = triggers_df[triggers_df['guid'].isin(sample_guids)].copy()"
   ]
  },
  {
   "cell_type": "code",
   "execution_count": 73,
   "id": "0ac69f39-ebca-48fa-8af9-c5e8fa0c27fe",
   "metadata": {},
   "outputs": [],
   "source": [
    "# Выполним сортировку по пользователю и дате\n",
    "actions_small_df = actions_small_df.sort_values(by=['guid', 'date'])\n",
    "triggers_small_df = triggers_small_df.sort_values(by=['guid', 'date'])"
   ]
  },
  {
   "cell_type": "markdown",
   "id": "8e0489a1-73c5-44c1-8940-0cfd4ed1ffce",
   "metadata": {},
   "source": [
    "#### 2. Генерация признаков"
   ]
  },
  {
   "cell_type": "markdown",
   "id": "142d0a71-9922-4c06-8ef1-346abb2cbb94",
   "metadata": {},
   "source": [
    "Временные признаки из `triggers`"
   ]
  },
  {
   "cell_type": "code",
   "execution_count": 74,
   "id": "0ebb5146-9753-45be-9a8f-e907d744a7d8",
   "metadata": {},
   "outputs": [],
   "source": [
    "# Последняя дата посещения для каждого пользователя\n",
    "last_trigger_date = triggers_small_df.groupby('guid')['date'].max().reset_index()\n",
    "last_trigger_date.rename(columns={'date': 'last_trigger_date'}, inplace=True)"
   ]
  },
  {
   "cell_type": "code",
   "execution_count": 75,
   "id": "3daa29fc-aa70-4f9f-a374-c1384b9dac54",
   "metadata": {},
   "outputs": [],
   "source": [
    "# Количество дней с момента последнего посещения\n",
    "current_date_triggers = triggers_small_df['date'].max()\n",
    "last_trigger_date['days_since_last_trigger'] = (current_date_triggers - last_trigger_date['last_trigger_date']).dt.days"
   ]
  },
  {
   "cell_type": "code",
   "execution_count": 76,
   "id": "818244c1-8e94-4094-a766-6c53dd1f67f1",
   "metadata": {},
   "outputs": [],
   "source": [
    "# Общее количество посещений\n",
    "trigger_counts = triggers_small_df.groupby('guid').size().reset_index(name='total_triggers')"
   ]
  },
  {
   "cell_type": "code",
   "execution_count": 77,
   "id": "f4c0dd53-2232-4c83-a483-e053e82868bc",
   "metadata": {},
   "outputs": [],
   "source": [
    "# Количество уникальных ресурсов, которые посещал пользователь\n",
    "unique_triggers_count = triggers_small_df.groupby('guid')['trigger'].nunique().reset_index(name='unique_trigger_ids')"
   ]
  },
  {
   "cell_type": "code",
   "execution_count": 78,
   "id": "c14490f1-354b-4cb0-834a-c429936bf6fb",
   "metadata": {},
   "outputs": [],
   "source": [
    "# Час и день недели последнего посещения\n",
    "triggers_small_df['hour_of_day'] = triggers_small_df['date'].dt.hour\n",
    "triggers_small_df['day_of_week'] = triggers_small_df['date'].dt.dayofweek\n",
    "\n",
    "last_trigger_time_features = triggers_small_df.groupby('guid').tail(1)[['guid', 'hour_of_day', 'day_of_week']]\n",
    "last_trigger_time_features.rename(columns={\n",
    "    'hour_of_day': 'hour_of_day_last_trigger',\n",
    "    'day_of_week': 'day_of_week_last_trigger'\n",
    "}, inplace=True)"
   ]
  },
  {
   "cell_type": "markdown",
   "id": "ed17307a-3047-42b8-882f-22d0a11951a0",
   "metadata": {},
   "source": [
    "Поведенческие признаки из `actions`"
   ]
  },
  {
   "cell_type": "code",
   "execution_count": 79,
   "id": "3c539579-626b-4fcf-8c04-5bdaeb99c8ec",
   "metadata": {},
   "outputs": [],
   "source": [
    "# Количество кликов и показов рекламы\n",
    "past_ad_interactions = actions_small_df.groupby('guid').agg(\n",
    "    past_ad_clicks=('result', lambda x: (x == 1).sum()),\n",
    "    past_ad_impressions=('result', 'count')\n",
    ").reset_index()"
   ]
  },
  {
   "cell_type": "code",
   "execution_count": 80,
   "id": "0b077ca7-b6ff-4970-baf6-c6567b16d953",
   "metadata": {},
   "outputs": [],
   "source": [
    "# Обработка деления на ноль\n",
    "past_ad_interactions['user_historical_ctr'] = past_ad_interactions.apply(\n",
    "    lambda row: row['past_ad_clicks'] / row['past_ad_impressions'] if row['past_ad_impressions'] > 0 else 0,\n",
    "    axis=1\n",
    ")"
   ]
  },
  {
   "cell_type": "code",
   "execution_count": 81,
   "id": "a6dd2283-fd54-421b-94d4-598c8c6ae429",
   "metadata": {},
   "outputs": [],
   "source": [
    "# Дата последнего показа рекламы\n",
    "last_ad_impression_date = actions_small_df.groupby('guid')['date'].max().reset_index()\n",
    "last_ad_impression_date.rename(columns={'date': 'last_ad_impression_date'}, inplace=True)"
   ]
  },
  {
   "cell_type": "code",
   "execution_count": 82,
   "id": "811d93b4-ce70-4339-841d-3d26a5dfac92",
   "metadata": {},
   "outputs": [],
   "source": [
    "# Количество дней с момента последнего показа\n",
    "current_date_actions = actions_small_df['date'].max()\n",
    "last_ad_impression_date['days_since_last_ad_impression'] = (\n",
    "    current_date_actions - last_ad_impression_date['last_ad_impression_date']\n",
    ").dt.days"
   ]
  },
  {
   "cell_type": "markdown",
   "id": "2245555e-97a2-4058-9071-574e88f02249",
   "metadata": {},
   "source": [
    "RFM признаки (адаптированные)"
   ]
  },
  {
   "cell_type": "code",
   "execution_count": 83,
   "id": "7048844a-a2e6-4818-91fa-7f3746393cdb",
   "metadata": {},
   "outputs": [],
   "source": [
    "# R (давность): минимум из дней с момента последнего показа и последнего посещения\n",
    "rfm_recency = pd.merge(last_trigger_date[['guid', 'days_since_last_trigger']],\n",
    "                       last_ad_impression_date[['guid', 'days_since_last_ad_impression']],\n",
    "                       on='guid', how='outer')\n",
    "rfm_recency['rfm_recency_score'] = rfm_recency[['days_since_last_trigger', 'days_since_last_ad_impression']].min(axis=1)"
   ]
  },
  {
   "cell_type": "code",
   "execution_count": 84,
   "id": "893b208b-0647-4143-aeb2-2390485eedda",
   "metadata": {},
   "outputs": [],
   "source": [
    "# F (частота): сумма всех показов и посещений\n",
    "rfm_frequency = pd.merge(trigger_counts, past_ad_interactions[['guid', 'past_ad_impressions']],\n",
    "                         on='guid', how='outer').fillna(0)\n",
    "rfm_frequency['rfm_frequency_score'] = rfm_frequency['total_triggers'] + rfm_frequency['past_ad_impressions']"
   ]
  },
  {
   "cell_type": "code",
   "execution_count": 85,
   "id": "00b18eb9-c16c-4e32-a4db-0b67e0754d36",
   "metadata": {},
   "outputs": [],
   "source": [
    "# M (ценность): сумма всех кликов и нормализованное число уникальных триггеров\n",
    "rfm_engagement = pd.merge(past_ad_interactions[['guid', 'past_ad_clicks']],\n",
    "                          unique_triggers_count, on='guid', how='outer').fillna(0)\n",
    "rfm_engagement['rfm_engagement_score'] = (\n",
    "    rfm_engagement['past_ad_clicks']\n",
    "    + (rfm_engagement['unique_trigger_ids'] / rfm_engagement['unique_trigger_ids'].max())\n",
    ")"
   ]
  },
  {
   "cell_type": "markdown",
   "id": "f5af10e4-eb02-41fe-aa08-876ae03b8c46",
   "metadata": {},
   "source": [
    "Объединение всех признаков "
   ]
  },
  {
   "cell_type": "code",
   "execution_count": 86,
   "id": "fd4a61e3-20b0-4fe8-853c-30748313b22e",
   "metadata": {},
   "outputs": [],
   "source": [
    "user_features = pd.DataFrame(sample_guids, columns=['guid'])\n",
    "\n",
    "user_features = pd.merge(user_features, last_trigger_date[['guid', 'days_since_last_trigger']], on='guid', how='left')\n",
    "user_features = pd.merge(user_features, trigger_counts, on='guid', how='left')\n",
    "user_features = pd.merge(user_features, unique_triggers_count, on='guid', how='left')\n",
    "user_features = pd.merge(user_features, last_trigger_time_features, on='guid', how='left')\n",
    "user_features = pd.merge(user_features, past_ad_interactions, on='guid', how='left')\n",
    "user_features = pd.merge(user_features, last_ad_impression_date, on='guid', how='left')\n",
    "user_features = pd.merge(user_features, rfm_recency[['guid', 'rfm_recency_score']], on='guid', how='left')\n",
    "user_features = pd.merge(user_features, rfm_frequency[['guid', 'rfm_frequency_score']], on='guid', how='left')\n",
    "user_features = pd.merge(user_features, rfm_engagement[['guid', 'rfm_engagement_score']], on='guid', how='left')\n",
    "\n",
    "# Замена пропусков на 0\n",
    "user_features = user_features.fillna(0)"
   ]
  },
  {
   "cell_type": "markdown",
   "id": "2fc59956-1dc2-4a16-98c8-684f943e7ad9",
   "metadata": {},
   "source": [
    "#### 3. Построение модели"
   ]
  },
  {
   "cell_type": "code",
   "execution_count": 88,
   "id": "4122ca5d-e2ea-442b-a639-b98e1e60140f",
   "metadata": {},
   "outputs": [],
   "source": [
    "# Получение метки (result) из последнего действия пользователя\n",
    "user_latest_action = actions_small_df.sort_values('date').groupby('guid').tail(1).reset_index(drop=True)\n",
    "modeling_df = pd.merge(user_features, user_latest_action[['guid', 'result']], on='guid', how='inner')"
   ]
  },
  {
   "cell_type": "code",
   "execution_count": 89,
   "id": "34da417f-abab-4332-8dab-fde5e09312bd",
   "metadata": {},
   "outputs": [],
   "source": [
    "# Подготовка данных\n",
    "X = modeling_df.drop(columns=['guid', 'last_ad_impression_date', 'result'])\n",
    "y = modeling_df['result']"
   ]
  },
  {
   "cell_type": "code",
   "execution_count": 90,
   "id": "0ec94502-28b2-4c55-ac2e-6b90dd0404c0",
   "metadata": {},
   "outputs": [],
   "source": [
    "# Масштабирование признаков\n",
    "scaler = StandardScaler()\n",
    "X_scaled = scaler.fit_transform(X)\n",
    "X_scaled = pd.DataFrame(X_scaled, columns=X.columns)"
   ]
  },
  {
   "cell_type": "code",
   "execution_count": 91,
   "id": "42c00ca9-9922-4cf6-9ee6-81c9d9f387fd",
   "metadata": {},
   "outputs": [],
   "source": [
    "# Разделение на обучающую и тестовую выборки\n",
    "X_train, X_test, y_train, y_test = train_test_split(X_scaled, y, test_size=0.2, random_state=42, stratify=y)"
   ]
  },
  {
   "cell_type": "code",
   "execution_count": 93,
   "id": "8fd751d0-d5c2-4c23-a0b7-6e896dd4f705",
   "metadata": {},
   "outputs": [],
   "source": [
    "# Балансировка классов через SMOTE\n",
    "smote = SMOTE(random_state=42)\n",
    "X_train_resampled, y_train_resampled = smote.fit_resample(X_train, y_train)"
   ]
  },
  {
   "cell_type": "code",
   "execution_count": 95,
   "id": "707c7125-9a5d-432b-b166-a7d18f23d19a",
   "metadata": {},
   "outputs": [
    {
     "name": "stdout",
     "output_type": "stream",
     "text": [
      "[LightGBM] [Info] Number of positive: 77815, number of negative: 77815\n",
      "[LightGBM] [Info] Auto-choosing col-wise multi-threading, the overhead of testing was 0.005273 seconds.\n",
      "You can set `force_col_wise=true` to remove the overhead.\n",
      "[LightGBM] [Info] Total Bins 2863\n",
      "[LightGBM] [Info] Number of data points in the train set: 155630, number of used features: 12\n",
      "[LightGBM] [Info] [binary:BoostFromScore]: pavg=0.500000 -> initscore=0.000000\n"
     ]
    },
    {
     "data": {
      "text/html": [
       "<style>#sk-container-id-2 {color: black;}#sk-container-id-2 pre{padding: 0;}#sk-container-id-2 div.sk-toggleable {background-color: white;}#sk-container-id-2 label.sk-toggleable__label {cursor: pointer;display: block;width: 100%;margin-bottom: 0;padding: 0.3em;box-sizing: border-box;text-align: center;}#sk-container-id-2 label.sk-toggleable__label-arrow:before {content: \"▸\";float: left;margin-right: 0.25em;color: #696969;}#sk-container-id-2 label.sk-toggleable__label-arrow:hover:before {color: black;}#sk-container-id-2 div.sk-estimator:hover label.sk-toggleable__label-arrow:before {color: black;}#sk-container-id-2 div.sk-toggleable__content {max-height: 0;max-width: 0;overflow: hidden;text-align: left;background-color: #f0f8ff;}#sk-container-id-2 div.sk-toggleable__content pre {margin: 0.2em;color: black;border-radius: 0.25em;background-color: #f0f8ff;}#sk-container-id-2 input.sk-toggleable__control:checked~div.sk-toggleable__content {max-height: 200px;max-width: 100%;overflow: auto;}#sk-container-id-2 input.sk-toggleable__control:checked~label.sk-toggleable__label-arrow:before {content: \"▾\";}#sk-container-id-2 div.sk-estimator input.sk-toggleable__control:checked~label.sk-toggleable__label {background-color: #d4ebff;}#sk-container-id-2 div.sk-label input.sk-toggleable__control:checked~label.sk-toggleable__label {background-color: #d4ebff;}#sk-container-id-2 input.sk-hidden--visually {border: 0;clip: rect(1px 1px 1px 1px);clip: rect(1px, 1px, 1px, 1px);height: 1px;margin: -1px;overflow: hidden;padding: 0;position: absolute;width: 1px;}#sk-container-id-2 div.sk-estimator {font-family: monospace;background-color: #f0f8ff;border: 1px dotted black;border-radius: 0.25em;box-sizing: border-box;margin-bottom: 0.5em;}#sk-container-id-2 div.sk-estimator:hover {background-color: #d4ebff;}#sk-container-id-2 div.sk-parallel-item::after {content: \"\";width: 100%;border-bottom: 1px solid gray;flex-grow: 1;}#sk-container-id-2 div.sk-label:hover label.sk-toggleable__label {background-color: #d4ebff;}#sk-container-id-2 div.sk-serial::before {content: \"\";position: absolute;border-left: 1px solid gray;box-sizing: border-box;top: 0;bottom: 0;left: 50%;z-index: 0;}#sk-container-id-2 div.sk-serial {display: flex;flex-direction: column;align-items: center;background-color: white;padding-right: 0.2em;padding-left: 0.2em;position: relative;}#sk-container-id-2 div.sk-item {position: relative;z-index: 1;}#sk-container-id-2 div.sk-parallel {display: flex;align-items: stretch;justify-content: center;background-color: white;position: relative;}#sk-container-id-2 div.sk-item::before, #sk-container-id-2 div.sk-parallel-item::before {content: \"\";position: absolute;border-left: 1px solid gray;box-sizing: border-box;top: 0;bottom: 0;left: 50%;z-index: -1;}#sk-container-id-2 div.sk-parallel-item {display: flex;flex-direction: column;z-index: 1;position: relative;background-color: white;}#sk-container-id-2 div.sk-parallel-item:first-child::after {align-self: flex-end;width: 50%;}#sk-container-id-2 div.sk-parallel-item:last-child::after {align-self: flex-start;width: 50%;}#sk-container-id-2 div.sk-parallel-item:only-child::after {width: 0;}#sk-container-id-2 div.sk-dashed-wrapped {border: 1px dashed gray;margin: 0 0.4em 0.5em 0.4em;box-sizing: border-box;padding-bottom: 0.4em;background-color: white;}#sk-container-id-2 div.sk-label label {font-family: monospace;font-weight: bold;display: inline-block;line-height: 1.2em;}#sk-container-id-2 div.sk-label-container {text-align: center;}#sk-container-id-2 div.sk-container {/* jupyter's `normalize.less` sets `[hidden] { display: none; }` but bootstrap.min.css set `[hidden] { display: none !important; }` so we also need the `!important` here to be able to override the default hidden behavior on the sphinx rendered scikit-learn.org. See: https://github.com/scikit-learn/scikit-learn/issues/21755 */display: inline-block !important;position: relative;}#sk-container-id-2 div.sk-text-repr-fallback {display: none;}</style><div id=\"sk-container-id-2\" class=\"sk-top-container\"><div class=\"sk-text-repr-fallback\"><pre>LGBMClassifier(class_weight=&#x27;balanced&#x27;, random_state=42)</pre><b>In a Jupyter environment, please rerun this cell to show the HTML representation or trust the notebook. <br />On GitHub, the HTML representation is unable to render, please try loading this page with nbviewer.org.</b></div><div class=\"sk-container\" hidden><div class=\"sk-item\"><div class=\"sk-estimator sk-toggleable\"><input class=\"sk-toggleable__control sk-hidden--visually\" id=\"sk-estimator-id-2\" type=\"checkbox\" checked><label for=\"sk-estimator-id-2\" class=\"sk-toggleable__label sk-toggleable__label-arrow\">LGBMClassifier</label><div class=\"sk-toggleable__content\"><pre>LGBMClassifier(class_weight=&#x27;balanced&#x27;, random_state=42)</pre></div></div></div></div></div>"
      ],
      "text/plain": [
       "LGBMClassifier(class_weight='balanced', random_state=42)"
      ]
     },
     "execution_count": 95,
     "metadata": {},
     "output_type": "execute_result"
    }
   ],
   "source": [
    "# Обучение модели LightGBM\n",
    "lgb_clf = lgb.LGBMClassifier(random_state=42, class_weight='balanced')\n",
    "lgb_clf.fit(X_train_resampled, y_train_resampled)"
   ]
  },
  {
   "cell_type": "code",
   "execution_count": 96,
   "id": "4d1990e7-8085-46aa-bcbd-67a01b6cfc8f",
   "metadata": {},
   "outputs": [],
   "source": [
    "# Предсказания на тестовой выборке\n",
    "y_pred_proba = lgb_clf.predict_proba(X_test)[:, 1]\n",
    "y_pred = lgb_clf.predict(X_test)"
   ]
  },
  {
   "cell_type": "code",
   "execution_count": 97,
   "id": "fe5e5cb8-1d81-4b1f-b985-fb848fb1e3d2",
   "metadata": {},
   "outputs": [
    {
     "name": "stdout",
     "output_type": "stream",
     "text": [
      "Оценка модели:\n",
      "Precision: 0.7776\n",
      "Recall: 0.9158\n",
      "F1-score: 0.8410\n",
      "AUC-ROC: 0.9987\n",
      "AUC-PR: 0.9601\n"
     ]
    }
   ],
   "source": [
    "# Метрики качества\n",
    "precision = precision_score(y_test, y_pred)\n",
    "recall = recall_score(y_test, y_pred)\n",
    "f1 = f1_score(y_test, y_pred)\n",
    "roc_auc = roc_auc_score(y_test, y_pred_proba)\n",
    "pr_auc = average_precision_score(y_test, y_pred_proba)\n",
    "\n",
    "print(f'Оценка модели:')\n",
    "print(f'Precision: {precision:.4f}')\n",
    "print(f'Recall: {recall:.4f}')\n",
    "print(f'F1-score: {f1:.4f}')\n",
    "print(f'AUC-ROC: {roc_auc:.4f}')\n",
    "print(f'AUC-PR: {pr_auc:.4f}')"
   ]
  },
  {
   "cell_type": "markdown",
   "id": "feaace02-237b-4a9b-bee1-6865667aea7d",
   "metadata": {},
   "source": [
    "#### 4. Оптимизация показа рекламы при положительном балансе"
   ]
  },
  {
   "cell_type": "code",
   "execution_count": 98,
   "id": "bbd0875c-7e0f-4514-ad54-e32047fb85c8",
   "metadata": {},
   "outputs": [],
   "source": [
    "# Стоимость и вознаграждение\n",
    "cost_per_impression = 1\n",
    "reward_per_conversion = 5\n",
    "profit_per_conversion = reward_per_conversion - cost_per_impression"
   ]
  },
  {
   "cell_type": "code",
   "execution_count": 141,
   "id": "836625fe-5718-47b0-9ea8-2d115ca36a4b",
   "metadata": {},
   "outputs": [],
   "source": [
    "# Минимальный уровень вероятности клика для окупаемости:\n",
    "# P*5 - 1 > 0 => P > 0.2\n",
    "break_even_ctr = 0.20"
   ]
  },
  {
   "cell_type": "code",
   "execution_count": 136,
   "id": "33babaef-3858-45e6-942d-52cab7744688",
   "metadata": {},
   "outputs": [],
   "source": [
    "# Предсказание вероятностей клика для всех пользователей\n",
    "X_all_users = X_scaled\n",
    "all_user_guids = modeling_df['guid']\n",
    "predicted_probabilities = lgb_clf.predict_proba(X_all_users)[:, 1]\n",
    "\n",
    "predictions_df = pd.DataFrame({\n",
    "    'guid': all_user_guids,\n",
    "    'predicted_p_click': predicted_probabilities\n",
    "})"
   ]
  },
  {
   "cell_type": "code",
   "execution_count": 137,
   "id": "f74ac183-27dd-4e7a-8920-a9e53ed3dfc4",
   "metadata": {},
   "outputs": [],
   "source": [
    "# Отбор пользователей с ожидаемой положительной прибылью\n",
    "profitable_users = predictions_df[predictions_df['predicted_p_click'] > break_even_ctr].copy()"
   ]
  },
  {
   "cell_type": "code",
   "execution_count": 138,
   "id": "a70e2024-8b50-43fb-a607-13b8d422edaf",
   "metadata": {},
   "outputs": [],
   "source": [
    "# Применение ограничения на частоту показов — не чаще одного раза в 14 дней\n",
    "profitable_users_with_recency = pd.merge(\n",
    "    profitable_users,\n",
    "    user_features[['guid', 'days_since_last_ad_impression']],\n",
    "    on='guid',\n",
    "    how='left'\n",
    ")\n",
    "\n",
    "eligible_users_for_ad = profitable_users_with_recency[\n",
    "    (profitable_users_with_recency['days_since_last_ad_impression'] >= 14) |\n",
    "    (profitable_users_with_recency['days_since_last_ad_impression'].isna())\n",
    "].copy()"
   ]
  },
  {
   "cell_type": "code",
   "execution_count": 139,
   "id": "9f01b4f9-dc3f-4866-a33d-a8377ea56911",
   "metadata": {},
   "outputs": [],
   "source": [
    "# Сортировка по вероятности клика для приоритезации\n",
    "eligible_users_for_ad = eligible_users_for_ad.sort_values(by='predicted_p_click', ascending=False)"
   ]
  },
  {
   "cell_type": "code",
   "execution_count": 140,
   "id": "031f8ecd-268e-47c0-8f4b-45b5903560c4",
   "metadata": {},
   "outputs": [
    {
     "name": "stdout",
     "output_type": "stream",
     "text": [
      "Результаты оптимизации:\n",
      "Всего показов: 1313\n",
      "Смоделированных конверсий: 1273\n",
      "Общие затраты: $1313\n",
      "Общий доход: $6365\n",
      "Итоговая прибыль: $5052\n"
     ]
    }
   ],
   "source": [
    "# Симуляция показов\n",
    "total_impressions = 0\n",
    "total_conversions = 0\n",
    "total_cost = 0\n",
    "total_revenue = 0\n",
    "\n",
    "for index, row in eligible_users_for_ad.iterrows():\n",
    "    total_impressions += 1\n",
    "    total_cost += cost_per_impression\n",
    "    \n",
    "    if np.random.rand() < row['predicted_p_click']:\n",
    "        total_conversions += 1\n",
    "        total_revenue += reward_per_conversion\n",
    "    \n",
    "    current_balance = total_revenue - total_cost\n",
    "    if current_balance < 0:\n",
    "        total_impressions -= 1\n",
    "        total_cost -= cost_per_impression\n",
    "        if np.random.rand() < row['predicted_p_click']:\n",
    "            total_revenue -= reward_per_conversion\n",
    "        break\n",
    "\n",
    "final_net_profit = total_revenue - total_cost\n",
    "\n",
    "print(f'Результаты оптимизации:')\n",
    "print(f'Всего показов: {total_impressions}')\n",
    "print(f'Смоделированных конверсий: {total_conversions}')\n",
    "print(f'Общие затраты: ${total_cost}')\n",
    "print(f'Общий доход: ${total_revenue}')\n",
    "print(f'Итоговая прибыль: ${final_net_profit}')"
   ]
  }
 ],
 "metadata": {
  "kernelspec": {
   "display_name": "Python 3 (ipykernel)",
   "language": "python",
   "name": "python3"
  },
  "language_info": {
   "codemirror_mode": {
    "name": "ipython",
    "version": 3
   },
   "file_extension": ".py",
   "mimetype": "text/x-python",
   "name": "python",
   "nbconvert_exporter": "python",
   "pygments_lexer": "ipython3",
   "version": "3.9.21"
  }
 },
 "nbformat": 4,
 "nbformat_minor": 5
}
