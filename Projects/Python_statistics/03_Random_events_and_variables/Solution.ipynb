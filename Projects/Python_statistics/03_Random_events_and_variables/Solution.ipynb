{
 "cells": [
  {
   "cell_type": "markdown",
   "id": "7dd50e18",
   "metadata": {},
   "source": [
    "### Задание"
   ]
  },
  {
   "cell_type": "markdown",
   "id": "580b4dc8",
   "metadata": {},
   "source": [
    "Смоделировать игру против лотерейного автомата типа \"777\". Игрок платит 1 руб., после чего выпадает случайное целое число, равномерно распределенное от 0 до 999. При некоторых значениях числа игрок получает выигрыш."
   ]
  },
  {
   "cell_type": "markdown",
   "id": "39bdc227",
   "metadata": {},
   "source": [
    "Теоретически рассчитать средний выигрыш (проигрыш) и сравнить с результатами моделирования."
   ]
  },
  {
   "cell_type": "markdown",
   "id": "9294bff4",
   "metadata": {},
   "source": [
    "Вопросы:\n",
    "- Выгодна ли игра игроку?\n",
    "- Сколько в среднем приобретает или теряет игрок за одну игру?"
   ]
  },
  {
   "cell_type": "code",
   "execution_count": 1,
   "id": "48c91fb2",
   "metadata": {},
   "outputs": [],
   "source": [
    "import numpy as np"
   ]
  },
  {
   "cell_type": "code",
   "execution_count": 2,
   "id": "8350b9a8",
   "metadata": {},
   "outputs": [],
   "source": [
    "# Напишем функцию, которая проверяет число и возвращает сумму выигрыша:\n",
    "def winning(number):\n",
    "    win = {\n",
    "        '777': 200,\n",
    "        '999': 100,\n",
    "        '555': 50,\n",
    "        '333': 14,\n",
    "        '111': 10,\n",
    "        '77': 5,\n",
    "        '7': 3,\n",
    "        '00': 2,\n",
    "        '0': 1\n",
    "    }\n",
    "    string_number = str(number)\n",
    "    if string_number in win:\n",
    "        return win[string_number]\n",
    "    elif string_number[-2:] in win:\n",
    "        return win[string_number[-2:]]\n",
    "    elif string_number[-1] in win:\n",
    "        return win[string_number[-1]]\n",
    "    else:\n",
    "        return 0  "
   ]
  },
  {
   "cell_type": "code",
   "execution_count": 32,
   "id": "abb8e2ab",
   "metadata": {
    "scrolled": true
   },
   "outputs": [
    {
     "name": "stdout",
     "output_type": "stream",
     "text": [
      "Общий выигрыш: 800518 руб.\n",
      "Среднее значение выигрыша: 0.800518 руб.\n",
      "Итоговый результат игры: -199482 руб.\n"
     ]
    }
   ],
   "source": [
    "attempt_price = 1\n",
    "attempts = 1000000\n",
    "all_results = np.random.randint(0, 1000, attempts)\n",
    "prize_sum = 0\n",
    "\n",
    "for res in all_results:\n",
    "    prize_sum += winning(res)\n",
    "\n",
    "print(f'Общий выигрыш: {prize_sum} руб.')\n",
    "print(f'Среднее значение выигрыша: {prize_sum / (attempts * attempt_price)} руб.')\n",
    "print(f'Итоговый результат игры: {prize_sum - attempt_price * attempts} руб.' )"
   ]
  },
  {
   "cell_type": "code",
   "execution_count": 13,
   "id": "819dc7d1",
   "metadata": {
    "scrolled": true
   },
   "outputs": [
    {
     "name": "stdout",
     "output_type": "stream",
     "text": [
      "0.804\n"
     ]
    }
   ],
   "source": [
    "# Рассчитаем теоретический средний выигрыш:\n",
    "x = 200 * (1 / 1000) + 100 * (1 / 1000) + 50 * (1 / 1000) \\\n",
    "    + 15 * (1 / 1000) + 10 * (1 / 1000) + 5 * (10 / 1000) \\\n",
    "    + 3 * (90 / 1000) + 2 * (9 / 1000) + 1 * (91 / 1000) \n",
    "print(x)"
   ]
  },
  {
   "cell_type": "markdown",
   "id": "dad31301",
   "metadata": {},
   "source": [
    "#### Выводы:"
   ]
  },
  {
   "cell_type": "markdown",
   "id": "ffb72ee8",
   "metadata": {},
   "source": [
    "Теоретически рассчитанный средний выигрыш в данной игре составляет 0.804 рубля и соответствует полученным  результатам моделирования. В среднем, игрок будет проигрывать 20 копеек с каждой попытки стоимостью в 1 рубль, что делает игру невыгодной."
   ]
  }
 ],
 "metadata": {
  "kernelspec": {
   "display_name": "Python 3 (ipykernel)",
   "language": "python",
   "name": "python3"
  },
  "language_info": {
   "codemirror_mode": {
    "name": "ipython",
    "version": 3
   },
   "file_extension": ".py",
   "mimetype": "text/x-python",
   "name": "python",
   "nbconvert_exporter": "python",
   "pygments_lexer": "ipython3",
   "version": "3.10.9"
  }
 },
 "nbformat": 4,
 "nbformat_minor": 5
}
