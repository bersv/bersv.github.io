{
 "cells": [
  {
   "cell_type": "markdown",
   "id": "3eed41a3-1eae-45e0-8d00-3f70fa1e5630",
   "metadata": {},
   "source": [
    "#### Задание"
   ]
  },
  {
   "cell_type": "markdown",
   "id": "75fac014-e132-4e59-b48c-264843adc15c",
   "metadata": {},
   "source": [
    "1. Используйте данные `MovieLens`.\n",
    "2. Можно использовать любые модели из пакета.\n",
    "3. Получите `RMSE` на тестовом сете 0,87 и ниже."
   ]
  },
  {
   "cell_type": "markdown",
   "id": "e9704dbb-ff79-405b-90a4-d79cc21e21e8",
   "metadata": {},
   "source": [
    "#### Загрузка необходимых данных и библиотек в рабочую среду"
   ]
  },
  {
   "cell_type": "code",
   "execution_count": 1,
   "id": "718e831b-0761-4f4a-8cce-985e236c3604",
   "metadata": {},
   "outputs": [],
   "source": [
    "import pandas as pd\n",
    "import numpy as np"
   ]
  },
  {
   "cell_type": "code",
   "execution_count": 2,
   "id": "edff37bb-6fd2-4418-a0e3-de5055e7d049",
   "metadata": {},
   "outputs": [],
   "source": [
    "from surprise import SVD\n",
    "from surprise import Dataset\n",
    "from surprise import accuracy\n",
    "from surprise import Reader\n",
    "from surprise.model_selection import train_test_split"
   ]
  },
  {
   "cell_type": "code",
   "execution_count": 4,
   "id": "bc8eb444-148e-4b59-b7f3-69a8768e1abe",
   "metadata": {},
   "outputs": [
    {
     "data": {
      "text/html": [
       "<div>\n",
       "<style scoped>\n",
       "    .dataframe tbody tr th:only-of-type {\n",
       "        vertical-align: middle;\n",
       "    }\n",
       "\n",
       "    .dataframe tbody tr th {\n",
       "        vertical-align: top;\n",
       "    }\n",
       "\n",
       "    .dataframe thead th {\n",
       "        text-align: right;\n",
       "    }\n",
       "</style>\n",
       "<table border=\"1\" class=\"dataframe\">\n",
       "  <thead>\n",
       "    <tr style=\"text-align: right;\">\n",
       "      <th></th>\n",
       "      <th>movieId</th>\n",
       "      <th>title</th>\n",
       "      <th>genres</th>\n",
       "      <th>userId</th>\n",
       "      <th>rating</th>\n",
       "      <th>timestamp</th>\n",
       "    </tr>\n",
       "  </thead>\n",
       "  <tbody>\n",
       "    <tr>\n",
       "      <th>0</th>\n",
       "      <td>1</td>\n",
       "      <td>Toy Story (1995)</td>\n",
       "      <td>Adventure|Animation|Children|Comedy|Fantasy</td>\n",
       "      <td>1</td>\n",
       "      <td>4.0</td>\n",
       "      <td>964982703</td>\n",
       "    </tr>\n",
       "    <tr>\n",
       "      <th>1</th>\n",
       "      <td>1</td>\n",
       "      <td>Toy Story (1995)</td>\n",
       "      <td>Adventure|Animation|Children|Comedy|Fantasy</td>\n",
       "      <td>5</td>\n",
       "      <td>4.0</td>\n",
       "      <td>847434962</td>\n",
       "    </tr>\n",
       "    <tr>\n",
       "      <th>2</th>\n",
       "      <td>1</td>\n",
       "      <td>Toy Story (1995)</td>\n",
       "      <td>Adventure|Animation|Children|Comedy|Fantasy</td>\n",
       "      <td>7</td>\n",
       "      <td>4.5</td>\n",
       "      <td>1106635946</td>\n",
       "    </tr>\n",
       "    <tr>\n",
       "      <th>3</th>\n",
       "      <td>1</td>\n",
       "      <td>Toy Story (1995)</td>\n",
       "      <td>Adventure|Animation|Children|Comedy|Fantasy</td>\n",
       "      <td>15</td>\n",
       "      <td>2.5</td>\n",
       "      <td>1510577970</td>\n",
       "    </tr>\n",
       "    <tr>\n",
       "      <th>4</th>\n",
       "      <td>1</td>\n",
       "      <td>Toy Story (1995)</td>\n",
       "      <td>Adventure|Animation|Children|Comedy|Fantasy</td>\n",
       "      <td>17</td>\n",
       "      <td>4.5</td>\n",
       "      <td>1305696483</td>\n",
       "    </tr>\n",
       "  </tbody>\n",
       "</table>\n",
       "</div>"
      ],
      "text/plain": [
       "   movieId             title                                       genres  \\\n",
       "0        1  Toy Story (1995)  Adventure|Animation|Children|Comedy|Fantasy   \n",
       "1        1  Toy Story (1995)  Adventure|Animation|Children|Comedy|Fantasy   \n",
       "2        1  Toy Story (1995)  Adventure|Animation|Children|Comedy|Fantasy   \n",
       "3        1  Toy Story (1995)  Adventure|Animation|Children|Comedy|Fantasy   \n",
       "4        1  Toy Story (1995)  Adventure|Animation|Children|Comedy|Fantasy   \n",
       "\n",
       "   userId  rating   timestamp  \n",
       "0       1     4.0   964982703  \n",
       "1       5     4.0   847434962  \n",
       "2       7     4.5  1106635946  \n",
       "3      15     2.5  1510577970  \n",
       "4      17     4.5  1305696483  "
      ]
     },
     "execution_count": 4,
     "metadata": {},
     "output_type": "execute_result"
    }
   ],
   "source": [
    "movies_with_ratings = movies.merge(ratings, on='movieId').reset_index(drop=True)\n",
    "movies_with_ratings.dropna(inplace=True)\n",
    "movies_with_ratings.head()"
   ]
  },
  {
   "cell_type": "code",
   "execution_count": 5,
   "id": "15059fdb-377a-4ab4-8efb-ef3d86363871",
   "metadata": {},
   "outputs": [],
   "source": [
    "dataset = pd.DataFrame({\n",
    "    'uid': movies_with_ratings.userId,\n",
    "    'iid': movies_with_ratings.title,\n",
    "    'rating': movies_with_ratings.rating\n",
    "})"
   ]
  },
  {
   "cell_type": "code",
   "execution_count": 6,
   "id": "a919d8cf-b26c-45c6-b02e-7db9ae0f6ab4",
   "metadata": {},
   "outputs": [
    {
     "data": {
      "text/plain": [
       "5.0"
      ]
     },
     "execution_count": 6,
     "metadata": {},
     "output_type": "execute_result"
    }
   ],
   "source": [
    "ratings.rating.max()"
   ]
  },
  {
   "cell_type": "code",
   "execution_count": 7,
   "id": "b7b7f965-027c-4ada-b733-291796234cd7",
   "metadata": {},
   "outputs": [],
   "source": [
    "reader = Reader(rating_scale=(0.5, 5.0))\n",
    "data = Dataset.load_from_df(dataset, reader)"
   ]
  },
  {
   "cell_type": "code",
   "execution_count": 8,
   "id": "eb77589e-f34d-43c1-8796-335954dc6243",
   "metadata": {},
   "outputs": [],
   "source": [
    "trainset, testset = train_test_split(data, test_size=0.2, random_state=42)"
   ]
  },
  {
   "cell_type": "code",
   "execution_count": 9,
   "id": "d734bd94-2ba8-4343-b7f2-c9dd886e4fe4",
   "metadata": {},
   "outputs": [
    {
     "name": "stdout",
     "output_type": "stream",
     "text": [
      "Computing the cosine similarity matrix...\n",
      "Done computing similarity matrix.\n"
     ]
    },
    {
     "data": {
      "text/plain": [
       "<surprise.prediction_algorithms.knns.KNNWithMeans at 0x17f0a82f550>"
      ]
     },
     "execution_count": 9,
     "metadata": {},
     "output_type": "execute_result"
    }
   ],
   "source": [
    "algo = KNNWithMeans(k=50, sim_options={\n",
    "    'name': 'cosine',\n",
    "    'user_based': True  # compute  similarities between users\n",
    "})\n",
    "algo.fit(trainset)"
   ]
  },
  {
   "cell_type": "code",
   "execution_count": 10,
   "id": "4eaa720e-a3db-4fea-a323-9a4fb0bfb786",
   "metadata": {},
   "outputs": [
    {
     "name": "stdout",
     "output_type": "stream",
     "text": [
      "RMSE: 0.8959\n"
     ]
    },
    {
     "data": {
      "text/plain": [
       "0.8959492188641812"
      ]
     },
     "execution_count": 10,
     "metadata": {},
     "output_type": "execute_result"
    }
   ],
   "source": [
    "test_pred = algo.test(testset)\n",
    "accuracy.rmse(test_pred, verbose=True)"
   ]
  },
  {
   "cell_type": "code",
   "execution_count": 3,
   "id": "805357b2-0c65-47b6-9a7e-c6a26a78c755",
   "metadata": {},
   "outputs": [],
   "source": [
    "data = pd.read_csv('ratings.csv')"
   ]
  },
  {
   "cell_type": "markdown",
   "id": "a154d4b2-3d32-404d-8228-8e3466cc8c88",
   "metadata": {},
   "source": [
    "#### Перевод pandas датафрейма в формат SURPRISE"
   ]
  },
  {
   "cell_type": "code",
   "execution_count": 4,
   "id": "07d52014-015b-4a1c-ad13-170d0e96c22c",
   "metadata": {},
   "outputs": [],
   "source": [
    "# Создаем объект Reader\n",
    "reader = Reader(rating_scale=(0.5, 5))"
   ]
  },
  {
   "cell_type": "code",
   "execution_count": 5,
   "id": "1e693505-6670-4784-9b32-0c34e048a1bc",
   "metadata": {},
   "outputs": [],
   "source": [
    "# Загружаем данные в формате Surprise\n",
    "data_surprise = Dataset.load_from_df(data[['userId', 'movieId', 'rating']], reader)"
   ]
  },
  {
   "cell_type": "code",
   "execution_count": 6,
   "id": "2f21f599-13a7-42e1-9520-a3964e9005ef",
   "metadata": {},
   "outputs": [],
   "source": [
    "# Разбиваем данные на train и test\n",
    "trainset, testset = train_test_split(data_surprise, test_size=0.2)"
   ]
  },
  {
   "cell_type": "markdown",
   "id": "11d111ac-9e3d-4123-8028-6837140236d0",
   "metadata": {},
   "source": [
    "#### Подбор лучших параметров для выбранной модели, используя GridSearchCV"
   ]
  },
  {
   "cell_type": "markdown",
   "id": "471ed0b3-23c6-4b3e-8763-d81f0ad233ba",
   "metadata": {},
   "source": [
    "_Изучив тесты различных моделей из библиотеки SURPRISE, решил остановить свой выбор на SVD._"
   ]
  },
  {
   "cell_type": "code",
   "execution_count": 21,
   "id": "e22c2c92-7def-4b70-b235-92cfb26275c9",
   "metadata": {},
   "outputs": [],
   "source": [
    "from surprise.model_selection import GridSearchCV"
   ]
  },
  {
   "cell_type": "code",
   "execution_count": 8,
   "id": "d88ab769-c814-4cb3-a4e5-32c75eeff911",
   "metadata": {},
   "outputs": [],
   "source": [
    "param_grid = {\n",
    "    'n_factors': [10, 20, 100, 350, 500],\n",
    "    'n_epochs': [10, 20, 35, 50, 70],\n",
    "    'lr_all': [0.002, 0.007, 0.02, 0.05, 0.09],\n",
    "    'reg_all': [0.008, 0.02, 0.09, 0.15, 0.3]\n",
    "}"
   ]
  },
  {
   "cell_type": "code",
   "execution_count": 9,
   "id": "eccfe3d9-df54-4b1e-adf4-e94f46be265a",
   "metadata": {},
   "outputs": [],
   "source": [
    "gs = GridSearchCV(SVD, param_grid, measures=['rmse'], cv=5)\n",
    "gs.fit(data_surprise)"
   ]
  },
  {
   "cell_type": "code",
   "execution_count": 14,
   "id": "4d37ab72-f645-4445-8111-ff2ba4f86e7e",
   "metadata": {},
   "outputs": [
    {
     "name": "stdout",
     "output_type": "stream",
     "text": [
      "{'n_factors': 350, 'n_epochs': 70, 'lr_all': 0.007, 'reg_all': 0.09}\n"
     ]
    }
   ],
   "source": [
    "# Лучшие параметры\n",
    "print(gs.best_params['rmse'])"
   ]
  },
  {
   "cell_type": "code",
   "execution_count": 18,
   "id": "f29e9668-a5d9-4a90-a596-1c0f4e2255c4",
   "metadata": {},
   "outputs": [],
   "source": [
    "# Лучший алгоритм\n",
    "best_algo = gs.best_estimator['rmse']"
   ]
  },
  {
   "cell_type": "code",
   "execution_count": 19,
   "id": "058316ef-5d1c-4156-a73c-33438c58ab0f",
   "metadata": {},
   "outputs": [
    {
     "data": {
      "text/plain": [
       "<surprise.prediction_algorithms.matrix_factorization.SVD at 0x17f0804aeb0>"
      ]
     },
     "execution_count": 19,
     "metadata": {},
     "output_type": "execute_result"
    }
   ],
   "source": [
    "# Обучаем модель\n",
    "algo.fit(trainset)"
   ]
  },
  {
   "cell_type": "code",
   "execution_count": 20,
   "id": "9b3796ac-3610-4d2b-8332-ff852c4aea7c",
   "metadata": {},
   "outputs": [],
   "source": [
    "# Получаем предсказания\n",
    "predictions = algo.test(testset)"
   ]
  },
  {
   "cell_type": "code",
   "execution_count": 21,
   "id": "3ea06c46-9fa8-4cb6-b0e8-f2b1fe4c62c1",
   "metadata": {},
   "outputs": [
    {
     "name": "stdout",
     "output_type": "stream",
     "text": [
      "RMSE: 0.8763\n",
      "RMSE на тестовом сете: 0.8763489231778587\n"
     ]
    }
   ],
   "source": [
    "# Оцениваем качество модели\n",
    "rmse = accuracy.rmse(predictions)\n",
    "print(\"RMSE на тестовом сете:\", rmse)"
   ]
  },
  {
   "cell_type": "markdown",
   "id": "1cf1cdf0-8aea-4348-9243-96232114aefc",
   "metadata": {},
   "source": [
    "#### Кросс-валидация"
   ]
  },
  {
   "cell_type": "code",
   "execution_count": 16,
   "id": "4f3ce27f-679e-4c50-ba14-d27ec7f16540",
   "metadata": {},
   "outputs": [],
   "source": [
    "from surprise.model_selection import cross_validate"
   ]
  },
  {
   "cell_type": "code",
   "execution_count": 19,
   "id": "14b30034-047e-4b46-8113-4d8cae53b3b5",
   "metadata": {},
   "outputs": [
    {
     "name": "stdout",
     "output_type": "stream",
     "text": [
      "Evaluating RMSE of algorithm SVD on 5 split(s).\n",
      "\n",
      "                  Fold 1  Fold 2  Fold 3  Fold 4  Fold 5  Mean    Std     \n",
      "RMSE (testset)    0.8497  0.8469  0.8523  0.8484  0.8471  0.8489  0.0020  \n",
      "Fit time          5.41    5.48    5.60    5.67    5.52    5.54    0.09    \n",
      "Test time         0.19    0.11    0.19    0.11    0.19    0.16    0.04    \n"
     ]
    }
   ],
   "source": [
    "# Проверка на 5 фолдах и оценка RMSE\n",
    "results = cross_validate(best_algo, data_surprise, measures=['RMSE'], cv=5, verbose=True)"
   ]
  },
  {
   "cell_type": "code",
   "execution_count": 20,
   "id": "b7fcda45-26e7-4c0a-827d-cc6c317770e0",
   "metadata": {},
   "outputs": [
    {
     "name": "stdout",
     "output_type": "stream",
     "text": [
      "Mean RMSE: 0.8488580106541658\n"
     ]
    }
   ],
   "source": [
    "# Вывод среднего RMSE по 5 фолдам\n",
    "print('Mean RMSE:', results['test_rmse'].mean())"
   ]
  }
 ],
 "metadata": {
  "kernelspec": {
   "display_name": "Python 3 (ipykernel)",
   "language": "python",
   "name": "python3"
  },
  "language_info": {
   "codemirror_mode": {
    "name": "ipython",
    "version": 3
   },
   "file_extension": ".py",
   "mimetype": "text/x-python",
   "name": "python",
   "nbconvert_exporter": "python",
   "pygments_lexer": "ipython3",
   "version": "3.9.18"
  }
 },
 "nbformat": 4,
 "nbformat_minor": 5
}
