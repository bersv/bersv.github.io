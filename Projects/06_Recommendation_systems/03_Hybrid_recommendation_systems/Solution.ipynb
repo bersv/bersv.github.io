{
 "cells": [
  {
   "cell_type": "markdown",
   "id": "072e60e0-a45e-46ab-80d5-a4e34d0e61b5",
   "metadata": {},
   "source": [
    "#### Загрузка необходимых данных и библиотек в рабочую среду"
   ]
  },
  {
   "cell_type": "code",
   "execution_count": 1,
   "id": "f5dfabe9-d1c9-45c9-a6d7-49cab7a14338",
   "metadata": {},
   "outputs": [],
   "source": [
    "import pandas as pd\n",
    "from surprise import Reader, Dataset, SVD\n",
    "from surprise.model_selection import train_test_split"
   ]
  },
  {
   "cell_type": "code",
   "execution_count": 2,
   "id": "f686f9df-7272-43bf-a0bc-3b6f4f8bcce1",
   "metadata": {},
   "outputs": [],
   "source": [
    "ratings = pd.read_csv('ratings.csv')"
   ]
  },
  {
   "cell_type": "markdown",
   "id": "d63ca7cd-7cec-4d71-81db-3c6dc44ac124",
   "metadata": {},
   "source": [
    "#### Перевод pandas датафрейма в формат surprise"
   ]
  },
  {
   "cell_type": "code",
   "execution_count": 3,
   "id": "47dcc263-e96e-4c46-9ad3-1c55711b2f38",
   "metadata": {},
   "outputs": [],
   "source": [
    "# Создаем объект Reader\n",
    "reader = Reader(rating_scale=(0.5, 5))"
   ]
  },
  {
   "cell_type": "code",
   "execution_count": 4,
   "id": "e901cf52-39ba-4da9-8298-2bc531743b45",
   "metadata": {},
   "outputs": [],
   "source": [
    "# Загружаем данные в формате Surprise\n",
    "data_surprise = Dataset.load_from_df(ratings[['userId', 'movieId', 'rating']], reader)"
   ]
  },
  {
   "cell_type": "code",
   "execution_count": 5,
   "id": "28cb6c72-e025-4e24-a3b5-313016dc24f7",
   "metadata": {},
   "outputs": [],
   "source": [
    "# Разделяем данные на train и test\n",
    "trainset, testset = train_test_split(data_surprise, test_size=.2)"
   ]
  },
  {
   "cell_type": "markdown",
   "id": "c30fcac9-37e7-4531-9e51-0c5325d0b751",
   "metadata": {},
   "source": [
    "#### Обучение моделей"
   ]
  },
  {
   "cell_type": "code",
   "execution_count": 6,
   "id": "7d0a9b86-ae09-4209-8fa0-31bbdea7689c",
   "metadata": {},
   "outputs": [
    {
     "data": {
      "text/plain": [
       "<surprise.prediction_algorithms.matrix_factorization.SVD at 0x16e6e560670>"
      ]
     },
     "execution_count": 6,
     "metadata": {},
     "output_type": "execute_result"
    }
   ],
   "source": [
    "# Обучаем модель SVD с подобранными в прошлой работе наилучшими параметрами\n",
    "svd = SVD(n_factors=350, n_epochs=70, lr_all=0.007, reg_all=0.09, random_state=42)\n",
    "svd.fit(trainset)"
   ]
  },
  {
   "cell_type": "code",
   "execution_count": 7,
   "id": "b1901744-6da4-44fd-8667-ac028259b498",
   "metadata": {},
   "outputs": [
    {
     "data": {
      "text/plain": [
       "<surprise.prediction_algorithms.matrix_factorization.NMF at 0x16e6b923280>"
      ]
     },
     "execution_count": 7,
     "metadata": {},
     "output_type": "execute_result"
    }
   ],
   "source": [
    "# Обучаем модель ALS с параметрами по умолчанию и фиксированной случайностью\n",
    "from surprise import NMF\n",
    "als = NMF(random_state=42)\n",
    "als.fit(trainset)"
   ]
  },
  {
   "cell_type": "markdown",
   "id": "85ebc410-d349-4bc3-bf64-de4db7bd1b72",
   "metadata": {},
   "source": [
    "#### Реализация гибридной рекомендательной системы"
   ]
  },
  {
   "cell_type": "code",
   "execution_count": 8,
   "id": "ced0a62f-9f8f-41ea-9241-22548919597e",
   "metadata": {},
   "outputs": [],
   "source": [
    "# Вычисляем взвешенную оценку фильмов для каждого пользователя\n",
    "def get_weighted_ratings(user_id, trainset, model1, model2, weights=[0.7, 0.3]):\n",
    "    \"\"\"Вычисляет взвешенную оценку фильмов для заданного пользователя.\n",
    "\n",
    "    Args:\n",
    "        user_id (int): Идентификатор пользователя.\n",
    "        trainset (surprise.Trainset): Тренировочный набор данных.\n",
    "        model1 (surprise.AlgoBase): Первая модель.\n",
    "        model2 (surprise.AlgoBase): Вторая модель.\n",
    "        weights (list): Веса для каждой модели.\n",
    "\n",
    "    Returns:\n",
    "        dict: Словарь с оценками фильмов для данного пользователя.\n",
    "    \"\"\"\n",
    "    user_ratings = trainset.ur[user_id]  # Получаем оценки пользователя\n",
    "    ratings = {}\n",
    "    for movie_id in trainset.all_items():  # Проходим по всем фильмам\n",
    "        if movie_id not in user_ratings:  # Если пользователь не оценил фильм\n",
    "            rating1 = model1.predict(user_id, movie_id).est  # Получаем оценку первой модели\n",
    "            rating2 = model2.predict(user_id, movie_id).est  # Получаем оценку второй модели\n",
    "            weighted_rating = weights[0] * rating1 + weights[1] * rating2  # Вычисляем взвешенную оценку\n",
    "            ratings[movie_id] = weighted_rating  # Добавляем оценку в словарь\n",
    "    return ratings"
   ]
  },
  {
   "cell_type": "code",
   "execution_count": 9,
   "id": "d51d9264-b3a8-4b7c-bfbc-24976f265da5",
   "metadata": {},
   "outputs": [],
   "source": [
    "# Загружаем названия фильмов\n",
    "movies = pd.read_csv('movies.csv')"
   ]
  },
  {
   "cell_type": "code",
   "execution_count": 10,
   "id": "b3237e71-a88d-4d8d-953d-2189ab6700cb",
   "metadata": {},
   "outputs": [
    {
     "name": "stdout",
     "output_type": "stream",
     "text": [
      "3502 (My Life (1993)): 4.73\n",
      "3200 (Last Detail, The (1973)): 4.72\n",
      "550 (Threesome (1994)): 4.68\n",
      "2905 (Sanjuro (Tsubaki Sanjûrô) (1962)): 4.67\n",
      "213 (Burnt by the Sun (Utomlyonnye solntsem) (1994)): 4.65\n"
     ]
    }
   ],
   "source": [
    "# Выводим топ-5 рекомендуемых фильмов для заданного пользователя\n",
    "user_id = 42\n",
    "ratings = get_weighted_ratings(user_id, trainset, svd, als)\n",
    "top_5_movies = sorted(ratings.items(), key=lambda x: x[1], reverse=True)[:5]\n",
    "for movie_id, rating in top_5_movies:\n",
    "    movie_title = movies[movies['movieId'] == movie_id]['title'].values[0]\n",
    "    print(f'{movie_id} ({movie_title}): {rating:.2f}')"
   ]
  }
 ],
 "metadata": {
  "kernelspec": {
   "display_name": "Python 3 (ipykernel)",
   "language": "python",
   "name": "python3"
  },
  "language_info": {
   "codemirror_mode": {
    "name": "ipython",
    "version": 3
   },
   "file_extension": ".py",
   "mimetype": "text/x-python",
   "name": "python",
   "nbconvert_exporter": "python",
   "pygments_lexer": "ipython3",
   "version": "3.9.15"
  }
 },
 "nbformat": 4,
 "nbformat_minor": 5
}
