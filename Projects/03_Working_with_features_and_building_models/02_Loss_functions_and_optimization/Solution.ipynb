{
 "cells": [
  {
   "cell_type": "markdown",
   "id": "33f47bae",
   "metadata": {},
   "source": [
    "### Задание"
   ]
  },
  {
   "cell_type": "markdown",
   "id": "89824705",
   "metadata": {},
   "source": [
    "1. Загрузите данные. Используйте датасет с ирисами. Его можно загрузить непосредственно из библиотеки `Sklearn`. В данных оставьте только 2 класса: `Iris Versicolor`, `Iris Virginica`.\n",
    "2. Самостоятельно реализуйте логистическую регрессию, без использования метода `LogisticRegression` из библиотеки. Можете использовать библиотеки `pandas`, `numpy`, `math` для реализации. Оформите в виде функции. *Оформите в виде класса с методами.*\n",
    "3. Реализуйте метод градиентного спуска. Обучите логистическую регрессию этим методом. Выберете и посчитайте метрику качества. Метрика должна быть одинакова для всех пунктов домашнего задания. Для упрощения сравнения выберете только одну метрику.\n",
    "4. Повторите п. 3 для метода скользящего среднего (`Root Mean Square Propagation, RMSProp`).\n",
    "5. Повторите п. 3 для ускоренного по Нестерову метода адаптивной оценки моментов (`Nesterov–accelerated Adaptive Moment Estimation, Nadam`).\n",
    "6. Сравните значение метрик для реализованных методов оптимизации. Можно оформить в виде таблицы вида |метод|метрика|время работы| (время работы опционально). Напишите вывод."
   ]
  },
  {
   "cell_type": "code",
   "execution_count": 1,
   "id": "19385a50",
   "metadata": {},
   "outputs": [],
   "source": [
    "import time\n",
    "import numpy as np\n",
    "import pandas as pd\n",
    "from sklearn.model_selection import train_test_split\n",
    "from sklearn.preprocessing import StandardScaler\n",
    "from sklearn.metrics import accuracy_score\n",
    "from sklearn.datasets import load_iris"
   ]
  },
  {
   "cell_type": "code",
   "execution_count": 2,
   "id": "d9937b22",
   "metadata": {},
   "outputs": [],
   "source": [
    "# Загрузим датасет Iris\n",
    "iris = load_iris()\n",
    "X = iris.data\n",
    "y = iris.target\n",
    "\n",
    "# Оставим только два класса: Iris Versicolor (1) и Iris Virginica (2)\n",
    "X = X[y != 0]\n",
    "y = y[y != 0]\n",
    "y = np.where(y == 1, 0, 1)"
   ]
  },
  {
   "cell_type": "code",
   "execution_count": 3,
   "id": "b313f42c",
   "metadata": {},
   "outputs": [],
   "source": [
    "# Реализуем логистическую регрессию в виде класса с различными методами оптимизации\n",
    "class MyLogisticRegression:\n",
    "    def __init__(self, learning_rate=0.01, n_iterations=1000, beta1=0.9, beta2=0.999, epsilon=1e-8):\n",
    "        self.learning_rate = learning_rate\n",
    "        self.n_iterations = n_iterations\n",
    "        self.beta1 = beta1\n",
    "        self.beta2 = beta2\n",
    "        self.epsilon = epsilon\n",
    "        self.weights = None\n",
    "        self.bias = None\n",
    "        self.s = None\n",
    "        self.m = None\n",
    "        self.v = None        \n",
    "\n",
    "    def sigmoid(self, z):\n",
    "        return 1 / (1 + np.exp(-z))\n",
    "    \n",
    "    # Обучение модели\n",
    "    def fit(self, X, y, optimizer='gradient_descent'):\n",
    "        num_samples, num_features = X.shape\n",
    "        \n",
    "        self.bias = 0\n",
    "        self.weights = np.zeros(num_features)\n",
    "        self.s = np.zeros(num_features)\n",
    "        self.m = np.zeros(num_features)\n",
    "        self.v = np.zeros(num_features)\n",
    "        \n",
    "        for t in range(1, self.n_iterations+1):\n",
    "            \n",
    "            # Вычисление линейной модели и прогноза модели с помощью сигмоиды\n",
    "            linear_model = np.dot(X, self.weights) + self.bias\n",
    "            y_pred = self.sigmoid(linear_model)\n",
    "            \n",
    "            # Вычисление градиентов весов и смещения\n",
    "            dw = (1 / num_samples) * np.dot(X.T, (y_pred - y))\n",
    "            db = (1 / num_samples) * np.sum(y_pred - y)\n",
    "\n",
    "            # Обновление весов и смещения с помощью выбранного оптимизатора\n",
    "            if optimizer == 'gradient_descent':\n",
    "                self.weights -= self.learning_rate * dw\n",
    "                self.bias -= self.learning_rate * db\n",
    "                \n",
    "            elif optimizer == 'rmsprop':\n",
    "                self.s = self.beta1 * self.s + (1 - self.beta1) * np.square(dw)\n",
    "                self.weights -= self.learning_rate * dw / (np.sqrt(self.s) + self.epsilon)\n",
    "                self.bias -= self.learning_rate * db\n",
    "                \n",
    "            elif optimizer == 'nadam':\n",
    "                self.m = self.beta1 * self.m + (1 - self.beta1) * dw\n",
    "                self.v = self.beta2 * self.v + (1 - self.beta2) * np.square(dw)\n",
    "            \n",
    "                m_hat = self.m / (1 - self.beta1 ** t)\n",
    "                v_hat = self.v / (1 - self.beta2 ** t)\n",
    "            \n",
    "                self.weights -= self.learning_rate * m_hat / (np.sqrt(v_hat) + self.epsilon)\n",
    "                self.bias -= self.learning_rate * db\n",
    "    \n",
    "    # Прогноз метки классов для новых данных на основе обученной модели\n",
    "    def predict(self, X):\n",
    "        linear_model = np.dot(X, self.weights) + self.bias\n",
    "        y_pred = self.sigmoid(linear_model)\n",
    "        return np.round(y_pred)\n",
    "    \n",
    "    # Вычисление точность модели\n",
    "    def accuracy(self, y_true, y_pred):\n",
    "        return np.mean(y_true == y_pred)"
   ]
  },
  {
   "cell_type": "code",
   "execution_count": 4,
   "id": "8990ed20",
   "metadata": {},
   "outputs": [],
   "source": [
    "# Разделим данные на обучающую и тестовую выборки\n",
    "X_train, X_test, y_train, y_test = train_test_split(X, y, test_size=0.2, random_state=42)"
   ]
  },
  {
   "cell_type": "code",
   "execution_count": 5,
   "id": "298c8274",
   "metadata": {},
   "outputs": [],
   "source": [
    "# Выполним стандартизацию признаков\n",
    "scaler = StandardScaler()\n",
    "X_train_scaled = scaler.fit_transform(X_train)\n",
    "X_test_scaled = scaler.transform(X_test)"
   ]
  },
  {
   "cell_type": "code",
   "execution_count": 6,
   "id": "0b385a7f",
   "metadata": {},
   "outputs": [],
   "source": [
    "# Инициализируем и обученим модель с различными методами оптимизации\n",
    "methods = {'Gradient Descent':'gradient_descent', 'RMSProp':'rmsprop', 'Nadam':'nadam'}\n",
    "results = {}\n",
    "\n",
    "for name, method in methods.items():\n",
    "    start_time = time.time()\n",
    "    model = MyLogisticRegression()\n",
    "    model.fit(X_train, y_train, optimizer=method)\n",
    "    end_time = time.time()\n",
    "    \n",
    "    y_pred = model.predict(X_test)\n",
    "    accuracy = model.accuracy(y_test, y_pred)\n",
    "    runtime = end_time - start_time\n",
    "    \n",
    "    results[name] = {'Accuracy': accuracy, 'Runtime': runtime}"
   ]
  },
  {
   "cell_type": "code",
   "execution_count": 7,
   "id": "d3e8107f",
   "metadata": {},
   "outputs": [
    {
     "name": "stdout",
     "output_type": "stream",
     "text": [
      "                  Accuracy   Runtime\n",
      "Gradient Descent      0.85  0.033039\n",
      "RMSProp               0.85  0.039028\n",
      "Nadam                 0.85  0.048044\n"
     ]
    }
   ],
   "source": [
    "res_df = pd.DataFrame.from_dict(results, orient='index')\n",
    "print(res_df)"
   ]
  },
  {
   "cell_type": "markdown",
   "id": "234468a3",
   "metadata": {},
   "source": [
    "### Вывод:"
   ]
  },
  {
   "cell_type": "markdown",
   "id": "46aa0685",
   "metadata": {},
   "source": [
    "В ходе работы была осуществлена реализация логистической регрессии и трёх методов оптимизации (`градиентный спуск`, `RMSProp`, `Nadam`). Для каждого метода выполнен подсчёт выбранной метрики качества (`accuracy`), а также произведён замер времени работы. Результаты представлены в виде таблицы.\n",
    "\n",
    "Можно заметить, что все методы достигли одинакового значения метрики качества и лишь незначительно отличаются по скорости работы. "
   ]
  }
 ],
 "metadata": {
  "kernelspec": {
   "display_name": "Python 3 (ipykernel)",
   "language": "python",
   "name": "python3"
  },
  "language_info": {
   "codemirror_mode": {
    "name": "ipython",
    "version": 3
   },
   "file_extension": ".py",
   "mimetype": "text/x-python",
   "name": "python",
   "nbconvert_exporter": "python",
   "pygments_lexer": "ipython3",
   "version": "3.10.9"
  }
 },
 "nbformat": 4,
 "nbformat_minor": 5
}
