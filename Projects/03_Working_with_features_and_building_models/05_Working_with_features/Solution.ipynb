{
 "cells": [
  {
   "cell_type": "markdown",
   "id": "1322b933",
   "metadata": {},
   "source": [
    "### Задание"
   ]
  },
  {
   "cell_type": "markdown",
   "id": "cc3c4102",
   "metadata": {},
   "source": [
    "#### 1.Получите данные и загрузите их в рабочую среду."
   ]
  },
  {
   "cell_type": "code",
   "execution_count": 1,
   "id": "25e00cb3",
   "metadata": {},
   "outputs": [],
   "source": [
    "import matplotlib.pyplot as plt\n",
    "import seaborn as sns\n",
    "import pandas as pd\n",
    "import numpy as np\n",
    "from sklearn.metrics import r2_score, mean_squared_error\n",
    "from sklearn.datasets import fetch_california_housing\n",
    "from sklearn.model_selection import train_test_split\n",
    "from sklearn.linear_model import LinearRegression"
   ]
  },
  {
   "cell_type": "code",
   "execution_count": 2,
   "id": "9fa767dd",
   "metadata": {},
   "outputs": [],
   "source": [
    "# Загрузим датасет fetch_california_housing\n",
    "real_estate = fetch_california_housing()"
   ]
  },
  {
   "cell_type": "code",
   "execution_count": 3,
   "id": "7a81bc02",
   "metadata": {},
   "outputs": [
    {
     "data": {
      "text/html": [
       "<div>\n",
       "<style scoped>\n",
       "    .dataframe tbody tr th:only-of-type {\n",
       "        vertical-align: middle;\n",
       "    }\n",
       "\n",
       "    .dataframe tbody tr th {\n",
       "        vertical-align: top;\n",
       "    }\n",
       "\n",
       "    .dataframe thead th {\n",
       "        text-align: right;\n",
       "    }\n",
       "</style>\n",
       "<table border=\"1\" class=\"dataframe\">\n",
       "  <thead>\n",
       "    <tr style=\"text-align: right;\">\n",
       "      <th></th>\n",
       "      <th>MedInc</th>\n",
       "      <th>HouseAge</th>\n",
       "      <th>AveRooms</th>\n",
       "      <th>AveBedrms</th>\n",
       "      <th>Population</th>\n",
       "      <th>AveOccup</th>\n",
       "      <th>Latitude</th>\n",
       "      <th>Longitude</th>\n",
       "      <th>MedHouseValue</th>\n",
       "    </tr>\n",
       "  </thead>\n",
       "  <tbody>\n",
       "    <tr>\n",
       "      <th>0</th>\n",
       "      <td>8.3252</td>\n",
       "      <td>41.0</td>\n",
       "      <td>6.984127</td>\n",
       "      <td>1.023810</td>\n",
       "      <td>322.0</td>\n",
       "      <td>2.555556</td>\n",
       "      <td>37.88</td>\n",
       "      <td>-122.23</td>\n",
       "      <td>4.526</td>\n",
       "    </tr>\n",
       "    <tr>\n",
       "      <th>1</th>\n",
       "      <td>8.3014</td>\n",
       "      <td>21.0</td>\n",
       "      <td>6.238137</td>\n",
       "      <td>0.971880</td>\n",
       "      <td>2401.0</td>\n",
       "      <td>2.109842</td>\n",
       "      <td>37.86</td>\n",
       "      <td>-122.22</td>\n",
       "      <td>3.585</td>\n",
       "    </tr>\n",
       "    <tr>\n",
       "      <th>2</th>\n",
       "      <td>7.2574</td>\n",
       "      <td>52.0</td>\n",
       "      <td>8.288136</td>\n",
       "      <td>1.073446</td>\n",
       "      <td>496.0</td>\n",
       "      <td>2.802260</td>\n",
       "      <td>37.85</td>\n",
       "      <td>-122.24</td>\n",
       "      <td>3.521</td>\n",
       "    </tr>\n",
       "    <tr>\n",
       "      <th>3</th>\n",
       "      <td>5.6431</td>\n",
       "      <td>52.0</td>\n",
       "      <td>5.817352</td>\n",
       "      <td>1.073059</td>\n",
       "      <td>558.0</td>\n",
       "      <td>2.547945</td>\n",
       "      <td>37.85</td>\n",
       "      <td>-122.25</td>\n",
       "      <td>3.413</td>\n",
       "    </tr>\n",
       "    <tr>\n",
       "      <th>4</th>\n",
       "      <td>3.8462</td>\n",
       "      <td>52.0</td>\n",
       "      <td>6.281853</td>\n",
       "      <td>1.081081</td>\n",
       "      <td>565.0</td>\n",
       "      <td>2.181467</td>\n",
       "      <td>37.85</td>\n",
       "      <td>-122.25</td>\n",
       "      <td>3.422</td>\n",
       "    </tr>\n",
       "  </tbody>\n",
       "</table>\n",
       "</div>"
      ],
      "text/plain": [
       "   MedInc  HouseAge  AveRooms  AveBedrms  Population  AveOccup  Latitude  \\\n",
       "0  8.3252      41.0  6.984127   1.023810       322.0  2.555556     37.88   \n",
       "1  8.3014      21.0  6.238137   0.971880      2401.0  2.109842     37.86   \n",
       "2  7.2574      52.0  8.288136   1.073446       496.0  2.802260     37.85   \n",
       "3  5.6431      52.0  5.817352   1.073059       558.0  2.547945     37.85   \n",
       "4  3.8462      52.0  6.281853   1.081081       565.0  2.181467     37.85   \n",
       "\n",
       "   Longitude  MedHouseValue  \n",
       "0    -122.23          4.526  \n",
       "1    -122.22          3.585  \n",
       "2    -122.24          3.521  \n",
       "3    -122.25          3.413  \n",
       "4    -122.25          3.422  "
      ]
     },
     "execution_count": 3,
     "metadata": {},
     "output_type": "execute_result"
    }
   ],
   "source": [
    "# Составим датафрейм из необходимых данных\n",
    "data = pd.DataFrame(real_estate.data, columns=real_estate.feature_names)\n",
    "\n",
    "# Добавим столбец с целевой переменной\n",
    "data['MedHouseValue'] = real_estate.target\n",
    "data.head()"
   ]
  },
  {
   "cell_type": "markdown",
   "id": "80e21a25",
   "metadata": {},
   "source": [
    "#### 2. Проверьте данные на наличие пропусков. Удалите их в случае обнаружения."
   ]
  },
  {
   "cell_type": "code",
   "execution_count": 4,
   "id": "52230fe8",
   "metadata": {},
   "outputs": [
    {
     "data": {
      "text/plain": [
       "MedInc           0\n",
       "HouseAge         0\n",
       "AveRooms         0\n",
       "AveBedrms        0\n",
       "Population       0\n",
       "AveOccup         0\n",
       "Latitude         0\n",
       "Longitude        0\n",
       "MedHouseValue    0\n",
       "dtype: int64"
      ]
     },
     "execution_count": 4,
     "metadata": {},
     "output_type": "execute_result"
    }
   ],
   "source": [
    "data.isna().sum()"
   ]
  },
  {
   "cell_type": "markdown",
   "id": "2322055e",
   "metadata": {},
   "source": [
    "#### 3. Разделите выборку на обучающее и тестовое подмножества. 80% данных оставить на обучающее множество, 20% - на тестовое."
   ]
  },
  {
   "cell_type": "code",
   "execution_count": 5,
   "id": "c8d9e5a0",
   "metadata": {},
   "outputs": [],
   "source": [
    "X = data.iloc[:, :-1]\n",
    "y = data['MedHouseValue']"
   ]
  },
  {
   "cell_type": "code",
   "execution_count": 6,
   "id": "50e892e8",
   "metadata": {},
   "outputs": [],
   "source": [
    "X_train, X_test, y_train, y_test = train_test_split(X, y, test_size=0.2, random_state=42)"
   ]
  },
  {
   "cell_type": "markdown",
   "id": "b603efdf",
   "metadata": {},
   "source": [
    "#### 4. Постройте модель линейной регрессии. Вычислите метрики RMSE, R2 на обучающем и тестовом множестве."
   ]
  },
  {
   "cell_type": "code",
   "execution_count": 7,
   "id": "79da9860",
   "metadata": {},
   "outputs": [],
   "source": [
    "model = LinearRegression()"
   ]
  },
  {
   "cell_type": "code",
   "execution_count": 8,
   "id": "dd47be9e",
   "metadata": {},
   "outputs": [
    {
     "data": {
      "text/html": [
       "<style>#sk-container-id-1 {color: black;background-color: white;}#sk-container-id-1 pre{padding: 0;}#sk-container-id-1 div.sk-toggleable {background-color: white;}#sk-container-id-1 label.sk-toggleable__label {cursor: pointer;display: block;width: 100%;margin-bottom: 0;padding: 0.3em;box-sizing: border-box;text-align: center;}#sk-container-id-1 label.sk-toggleable__label-arrow:before {content: \"▸\";float: left;margin-right: 0.25em;color: #696969;}#sk-container-id-1 label.sk-toggleable__label-arrow:hover:before {color: black;}#sk-container-id-1 div.sk-estimator:hover label.sk-toggleable__label-arrow:before {color: black;}#sk-container-id-1 div.sk-toggleable__content {max-height: 0;max-width: 0;overflow: hidden;text-align: left;background-color: #f0f8ff;}#sk-container-id-1 div.sk-toggleable__content pre {margin: 0.2em;color: black;border-radius: 0.25em;background-color: #f0f8ff;}#sk-container-id-1 input.sk-toggleable__control:checked~div.sk-toggleable__content {max-height: 200px;max-width: 100%;overflow: auto;}#sk-container-id-1 input.sk-toggleable__control:checked~label.sk-toggleable__label-arrow:before {content: \"▾\";}#sk-container-id-1 div.sk-estimator input.sk-toggleable__control:checked~label.sk-toggleable__label {background-color: #d4ebff;}#sk-container-id-1 div.sk-label input.sk-toggleable__control:checked~label.sk-toggleable__label {background-color: #d4ebff;}#sk-container-id-1 input.sk-hidden--visually {border: 0;clip: rect(1px 1px 1px 1px);clip: rect(1px, 1px, 1px, 1px);height: 1px;margin: -1px;overflow: hidden;padding: 0;position: absolute;width: 1px;}#sk-container-id-1 div.sk-estimator {font-family: monospace;background-color: #f0f8ff;border: 1px dotted black;border-radius: 0.25em;box-sizing: border-box;margin-bottom: 0.5em;}#sk-container-id-1 div.sk-estimator:hover {background-color: #d4ebff;}#sk-container-id-1 div.sk-parallel-item::after {content: \"\";width: 100%;border-bottom: 1px solid gray;flex-grow: 1;}#sk-container-id-1 div.sk-label:hover label.sk-toggleable__label {background-color: #d4ebff;}#sk-container-id-1 div.sk-serial::before {content: \"\";position: absolute;border-left: 1px solid gray;box-sizing: border-box;top: 0;bottom: 0;left: 50%;z-index: 0;}#sk-container-id-1 div.sk-serial {display: flex;flex-direction: column;align-items: center;background-color: white;padding-right: 0.2em;padding-left: 0.2em;position: relative;}#sk-container-id-1 div.sk-item {position: relative;z-index: 1;}#sk-container-id-1 div.sk-parallel {display: flex;align-items: stretch;justify-content: center;background-color: white;position: relative;}#sk-container-id-1 div.sk-item::before, #sk-container-id-1 div.sk-parallel-item::before {content: \"\";position: absolute;border-left: 1px solid gray;box-sizing: border-box;top: 0;bottom: 0;left: 50%;z-index: -1;}#sk-container-id-1 div.sk-parallel-item {display: flex;flex-direction: column;z-index: 1;position: relative;background-color: white;}#sk-container-id-1 div.sk-parallel-item:first-child::after {align-self: flex-end;width: 50%;}#sk-container-id-1 div.sk-parallel-item:last-child::after {align-self: flex-start;width: 50%;}#sk-container-id-1 div.sk-parallel-item:only-child::after {width: 0;}#sk-container-id-1 div.sk-dashed-wrapped {border: 1px dashed gray;margin: 0 0.4em 0.5em 0.4em;box-sizing: border-box;padding-bottom: 0.4em;background-color: white;}#sk-container-id-1 div.sk-label label {font-family: monospace;font-weight: bold;display: inline-block;line-height: 1.2em;}#sk-container-id-1 div.sk-label-container {text-align: center;}#sk-container-id-1 div.sk-container {/* jupyter's `normalize.less` sets `[hidden] { display: none; }` but bootstrap.min.css set `[hidden] { display: none !important; }` so we also need the `!important` here to be able to override the default hidden behavior on the sphinx rendered scikit-learn.org. See: https://github.com/scikit-learn/scikit-learn/issues/21755 */display: inline-block !important;position: relative;}#sk-container-id-1 div.sk-text-repr-fallback {display: none;}</style><div id=\"sk-container-id-1\" class=\"sk-top-container\"><div class=\"sk-text-repr-fallback\"><pre>LinearRegression()</pre><b>In a Jupyter environment, please rerun this cell to show the HTML representation or trust the notebook. <br />On GitHub, the HTML representation is unable to render, please try loading this page with nbviewer.org.</b></div><div class=\"sk-container\" hidden><div class=\"sk-item\"><div class=\"sk-estimator sk-toggleable\"><input class=\"sk-toggleable__control sk-hidden--visually\" id=\"sk-estimator-id-1\" type=\"checkbox\" checked><label for=\"sk-estimator-id-1\" class=\"sk-toggleable__label sk-toggleable__label-arrow\">LinearRegression</label><div class=\"sk-toggleable__content\"><pre>LinearRegression()</pre></div></div></div></div></div>"
      ],
      "text/plain": [
       "LinearRegression()"
      ]
     },
     "execution_count": 8,
     "metadata": {},
     "output_type": "execute_result"
    }
   ],
   "source": [
    "model.fit(X_train, y_train)"
   ]
  },
  {
   "cell_type": "code",
   "execution_count": 9,
   "id": "8234bee4",
   "metadata": {},
   "outputs": [],
   "source": [
    "y_train_pred = model.predict(X_train)\n",
    "y_test_pred = model.predict(X_test)"
   ]
  },
  {
   "cell_type": "code",
   "execution_count": 10,
   "id": "0b537ba4",
   "metadata": {},
   "outputs": [
    {
     "name": "stdout",
     "output_type": "stream",
     "text": [
      "RMSE train: 0.7196757085831575\n",
      "RMSE test: 0.7455813830127761\n"
     ]
    }
   ],
   "source": [
    "rmse_train = mean_squared_error(y_train, y_train_pred, squared=False)\n",
    "rmse_test = mean_squared_error(y_test, y_test_pred, squared=False)\n",
    "print('RMSE train:', rmse_train)\n",
    "print('RMSE test:', rmse_test)"
   ]
  },
  {
   "cell_type": "code",
   "execution_count": 11,
   "id": "a2a1fc55",
   "metadata": {},
   "outputs": [
    {
     "name": "stdout",
     "output_type": "stream",
     "text": [
      "R2 train: 0.6125511913966952\n",
      "R2 test: 0.5757877060324511\n"
     ]
    }
   ],
   "source": [
    "r2_train = r2_score(y_train, y_train_pred)\n",
    "r2_test = r2_score(y_test, y_test_pred)\n",
    "print('R2 train:', r2_train)\n",
    "print('R2 test:', r2_test)"
   ]
  },
  {
   "cell_type": "markdown",
   "id": "731e40b0",
   "metadata": {},
   "source": [
    "В целях дальнейшего упрощения работы, запишем функцию, для выполнения пунктов 3 и 4."
   ]
  },
  {
   "cell_type": "code",
   "execution_count": 12,
   "id": "f7f7eaea",
   "metadata": {},
   "outputs": [],
   "source": [
    "def metric_counting(data, model=LinearRegression(), test_size=0.2, random_state=42):\n",
    "    X = data.iloc[:, :-1]\n",
    "    y = data['MedHouseValue']\n",
    "    X_train, X_test, y_train, y_test = train_test_split(X, y, test_size = test_size, random_state = random_state)\n",
    "    model = model\n",
    "    model.fit(X_train, y_train)\n",
    "    y_train_pred = model.predict(X_train)\n",
    "    y_test_pred = model.predict(X_test)\n",
    "    rmse_train = mean_squared_error(y_train, y_train_pred, squared=False)\n",
    "    rmse_test = mean_squared_error(y_test, y_test_pred, squared=False)\n",
    "    r2_train = r2_score(y_train, y_train_pred)\n",
    "    r2_test = r2_score(y_test, y_test_pred)\n",
    "\n",
    "    print('RMSE train:', rmse_train)\n",
    "    print('RMSE test:', rmse_test)\n",
    "    print()\n",
    "    print('R2 train:', r2_train)\n",
    "    print('R2 test:', r2_test)"
   ]
  },
  {
   "cell_type": "markdown",
   "id": "c0823139",
   "metadata": {},
   "source": [
    "#### 5. Постройте график распределения целевой переменной. Сделайте вывод. Присутствуют ли в этом признаке выбросы?"
   ]
  },
  {
   "cell_type": "code",
   "execution_count": 13,
   "id": "806c6e55",
   "metadata": {
    "scrolled": false
   },
   "outputs": [
    {
     "data": {
      "image/png": "[encoded data removed]",
      "text/plain": [
       "<Figure size 640x480 with 1 Axes>"
      ]
     },
     "metadata": {},
     "output_type": "display_data"
    }
   ],
   "source": [
    "plt.hist(y, bins=30, edgecolor='black')\n",
    "plt.xlabel('MedHouseValue')\n",
    "plt.ylabel('Frequency')\n",
    "plt.title('Distribution of MedHouseValue')\n",
    "plt.show()"
   ]
  },
  {
   "cell_type": "markdown",
   "id": "57787167",
   "metadata": {},
   "source": [
    "Видим явный выброс для целевой переменной в значении \"5\". Кроме того, \"5\" является наибольшим (предельным) значением для данного признака."
   ]
  },
  {
   "cell_type": "markdown",
   "id": "558e575f",
   "metadata": {},
   "source": [
    "#### 6. Посчитайте и выведите корреляционную матрицу. Убедитесь, что ячейки матрицы поделены на цветные категории, в ячейках указано числовое значение корреляции."
   ]
  },
  {
   "cell_type": "code",
   "execution_count": 14,
   "id": "104fe073",
   "metadata": {},
   "outputs": [],
   "source": [
    "# Вычисление корреляционной матрицы\n",
    "correlation_matrix = X.corr()"
   ]
  },
  {
   "cell_type": "code",
   "execution_count": 15,
   "id": "9d477f35",
   "metadata": {},
   "outputs": [
    {
     "data": {
      "image/png": "[encoded data removed]",
      "text/plain": [
       "<Figure size 1200x900 with 2 Axes>"
      ]
     },
     "metadata": {},
     "output_type": "display_data"
    }
   ],
   "source": [
    "# Построение тепловой карты корреляционной матрицы\n",
    "plt.figure(figsize=(12, 9))\n",
    "sns.heatmap(correlation_matrix, annot=True, cmap='Spectral', fmt='.2f', square=True)\n",
    "plt.yticks(rotation=0)\n",
    "plt.xticks(rotation=0)\n",
    "plt.title('Correlation matrix')\n",
    "plt.show()"
   ]
  },
  {
   "cell_type": "markdown",
   "id": "1b53f889",
   "metadata": {},
   "source": [
    "##### a. Сделайте выводы."
   ]
  },
  {
   "cell_type": "markdown",
   "id": "9cb84c6e",
   "metadata": {},
   "source": [
    "Из полученной матрицы корреляции можем выделить пары признаков, между которыми наблюдается сильная корреляция: `AveBedrms - AveRooms` и `Longitude - Latitude`. Попробуем удалить признак `AveBedrms`, чтобы избежать мультиколлинеарности."
   ]
  },
  {
   "cell_type": "markdown",
   "id": "8336f57b",
   "metadata": {},
   "source": [
    "##### b. Удалите признаки на основании полученных значений, выводов."
   ]
  },
  {
   "cell_type": "code",
   "execution_count": 16,
   "id": "f74391cc",
   "metadata": {},
   "outputs": [],
   "source": [
    "data_first_mod = data.drop(['AveBedrms'], axis=1)"
   ]
  },
  {
   "cell_type": "code",
   "execution_count": 17,
   "id": "b5362a4a",
   "metadata": {},
   "outputs": [
    {
     "data": {
      "text/html": [
       "<div>\n",
       "<style scoped>\n",
       "    .dataframe tbody tr th:only-of-type {\n",
       "        vertical-align: middle;\n",
       "    }\n",
       "\n",
       "    .dataframe tbody tr th {\n",
       "        vertical-align: top;\n",
       "    }\n",
       "\n",
       "    .dataframe thead th {\n",
       "        text-align: right;\n",
       "    }\n",
       "</style>\n",
       "<table border=\"1\" class=\"dataframe\">\n",
       "  <thead>\n",
       "    <tr style=\"text-align: right;\">\n",
       "      <th></th>\n",
       "      <th>MedInc</th>\n",
       "      <th>HouseAge</th>\n",
       "      <th>AveRooms</th>\n",
       "      <th>Population</th>\n",
       "      <th>AveOccup</th>\n",
       "      <th>Latitude</th>\n",
       "      <th>Longitude</th>\n",
       "      <th>MedHouseValue</th>\n",
       "    </tr>\n",
       "  </thead>\n",
       "  <tbody>\n",
       "    <tr>\n",
       "      <th>0</th>\n",
       "      <td>8.3252</td>\n",
       "      <td>41.0</td>\n",
       "      <td>6.984127</td>\n",
       "      <td>322.0</td>\n",
       "      <td>2.555556</td>\n",
       "      <td>37.88</td>\n",
       "      <td>-122.23</td>\n",
       "      <td>4.526</td>\n",
       "    </tr>\n",
       "    <tr>\n",
       "      <th>1</th>\n",
       "      <td>8.3014</td>\n",
       "      <td>21.0</td>\n",
       "      <td>6.238137</td>\n",
       "      <td>2401.0</td>\n",
       "      <td>2.109842</td>\n",
       "      <td>37.86</td>\n",
       "      <td>-122.22</td>\n",
       "      <td>3.585</td>\n",
       "    </tr>\n",
       "    <tr>\n",
       "      <th>2</th>\n",
       "      <td>7.2574</td>\n",
       "      <td>52.0</td>\n",
       "      <td>8.288136</td>\n",
       "      <td>496.0</td>\n",
       "      <td>2.802260</td>\n",
       "      <td>37.85</td>\n",
       "      <td>-122.24</td>\n",
       "      <td>3.521</td>\n",
       "    </tr>\n",
       "    <tr>\n",
       "      <th>3</th>\n",
       "      <td>5.6431</td>\n",
       "      <td>52.0</td>\n",
       "      <td>5.817352</td>\n",
       "      <td>558.0</td>\n",
       "      <td>2.547945</td>\n",
       "      <td>37.85</td>\n",
       "      <td>-122.25</td>\n",
       "      <td>3.413</td>\n",
       "    </tr>\n",
       "    <tr>\n",
       "      <th>4</th>\n",
       "      <td>3.8462</td>\n",
       "      <td>52.0</td>\n",
       "      <td>6.281853</td>\n",
       "      <td>565.0</td>\n",
       "      <td>2.181467</td>\n",
       "      <td>37.85</td>\n",
       "      <td>-122.25</td>\n",
       "      <td>3.422</td>\n",
       "    </tr>\n",
       "  </tbody>\n",
       "</table>\n",
       "</div>"
      ],
      "text/plain": [
       "   MedInc  HouseAge  AveRooms  Population  AveOccup  Latitude  Longitude  \\\n",
       "0  8.3252      41.0  6.984127       322.0  2.555556     37.88    -122.23   \n",
       "1  8.3014      21.0  6.238137      2401.0  2.109842     37.86    -122.22   \n",
       "2  7.2574      52.0  8.288136       496.0  2.802260     37.85    -122.24   \n",
       "3  5.6431      52.0  5.817352       558.0  2.547945     37.85    -122.25   \n",
       "4  3.8462      52.0  6.281853       565.0  2.181467     37.85    -122.25   \n",
       "\n",
       "   MedHouseValue  \n",
       "0          4.526  \n",
       "1          3.585  \n",
       "2          3.521  \n",
       "3          3.413  \n",
       "4          3.422  "
      ]
     },
     "execution_count": 17,
     "metadata": {},
     "output_type": "execute_result"
    }
   ],
   "source": [
    "data_first_mod.head()"
   ]
  },
  {
   "cell_type": "markdown",
   "id": "5b534d73",
   "metadata": {},
   "source": [
    "##### c. Повторите п. 3, п. 4 на измененных данных."
   ]
  },
  {
   "cell_type": "code",
   "execution_count": 18,
   "id": "7c6683b6",
   "metadata": {
    "scrolled": true
   },
   "outputs": [
    {
     "name": "stdout",
     "output_type": "stream",
     "text": [
      "RMSE train: 0.7316746485880745\n",
      "RMSE test: 0.7398151789804083\n",
      "\n",
      "R2 train: 0.5995238502055928\n",
      "R2 test: 0.5823239094526445\n"
     ]
    }
   ],
   "source": [
    "metric_counting(data_first_mod)"
   ]
  },
  {
   "cell_type": "markdown",
   "id": "a63366da",
   "metadata": {},
   "source": [
    "####  7. Исследуйте оставленные признаки на выбросы."
   ]
  },
  {
   "cell_type": "code",
   "execution_count": 19,
   "id": "0f98fa7c",
   "metadata": {},
   "outputs": [],
   "source": [
    "data_second_mod = data_first_mod.copy()"
   ]
  },
  {
   "cell_type": "code",
   "execution_count": 20,
   "id": "8084e7ad",
   "metadata": {
    "scrolled": true
   },
   "outputs": [
    {
     "data": {
      "text/html": [
       "<div>\n",
       "<style scoped>\n",
       "    .dataframe tbody tr th:only-of-type {\n",
       "        vertical-align: middle;\n",
       "    }\n",
       "\n",
       "    .dataframe tbody tr th {\n",
       "        vertical-align: top;\n",
       "    }\n",
       "\n",
       "    .dataframe thead th {\n",
       "        text-align: right;\n",
       "    }\n",
       "</style>\n",
       "<table border=\"1\" class=\"dataframe\">\n",
       "  <thead>\n",
       "    <tr style=\"text-align: right;\">\n",
       "      <th></th>\n",
       "      <th>MedInc</th>\n",
       "      <th>HouseAge</th>\n",
       "      <th>AveRooms</th>\n",
       "      <th>Population</th>\n",
       "      <th>AveOccup</th>\n",
       "      <th>Latitude</th>\n",
       "      <th>Longitude</th>\n",
       "      <th>MedHouseValue</th>\n",
       "    </tr>\n",
       "  </thead>\n",
       "  <tbody>\n",
       "    <tr>\n",
       "      <th>count</th>\n",
       "      <td>20640.000000</td>\n",
       "      <td>20640.000000</td>\n",
       "      <td>20640.000000</td>\n",
       "      <td>20640.000000</td>\n",
       "      <td>20640.000000</td>\n",
       "      <td>20640.000000</td>\n",
       "      <td>20640.000000</td>\n",
       "      <td>20640.000000</td>\n",
       "    </tr>\n",
       "    <tr>\n",
       "      <th>mean</th>\n",
       "      <td>3.870671</td>\n",
       "      <td>28.639486</td>\n",
       "      <td>5.429000</td>\n",
       "      <td>1425.476744</td>\n",
       "      <td>3.070655</td>\n",
       "      <td>35.631861</td>\n",
       "      <td>-119.569704</td>\n",
       "      <td>2.068558</td>\n",
       "    </tr>\n",
       "    <tr>\n",
       "      <th>std</th>\n",
       "      <td>1.899822</td>\n",
       "      <td>12.585558</td>\n",
       "      <td>2.474173</td>\n",
       "      <td>1132.462122</td>\n",
       "      <td>10.386050</td>\n",
       "      <td>2.135952</td>\n",
       "      <td>2.003532</td>\n",
       "      <td>1.153956</td>\n",
       "    </tr>\n",
       "    <tr>\n",
       "      <th>min</th>\n",
       "      <td>0.499900</td>\n",
       "      <td>1.000000</td>\n",
       "      <td>0.846154</td>\n",
       "      <td>3.000000</td>\n",
       "      <td>0.692308</td>\n",
       "      <td>32.540000</td>\n",
       "      <td>-124.350000</td>\n",
       "      <td>0.149990</td>\n",
       "    </tr>\n",
       "    <tr>\n",
       "      <th>25%</th>\n",
       "      <td>2.563400</td>\n",
       "      <td>18.000000</td>\n",
       "      <td>4.440716</td>\n",
       "      <td>787.000000</td>\n",
       "      <td>2.429741</td>\n",
       "      <td>33.930000</td>\n",
       "      <td>-121.800000</td>\n",
       "      <td>1.196000</td>\n",
       "    </tr>\n",
       "    <tr>\n",
       "      <th>50%</th>\n",
       "      <td>3.534800</td>\n",
       "      <td>29.000000</td>\n",
       "      <td>5.229129</td>\n",
       "      <td>1166.000000</td>\n",
       "      <td>2.818116</td>\n",
       "      <td>34.260000</td>\n",
       "      <td>-118.490000</td>\n",
       "      <td>1.797000</td>\n",
       "    </tr>\n",
       "    <tr>\n",
       "      <th>75%</th>\n",
       "      <td>4.743250</td>\n",
       "      <td>37.000000</td>\n",
       "      <td>6.052381</td>\n",
       "      <td>1725.000000</td>\n",
       "      <td>3.282261</td>\n",
       "      <td>37.710000</td>\n",
       "      <td>-118.010000</td>\n",
       "      <td>2.647250</td>\n",
       "    </tr>\n",
       "    <tr>\n",
       "      <th>max</th>\n",
       "      <td>15.000100</td>\n",
       "      <td>52.000000</td>\n",
       "      <td>141.909091</td>\n",
       "      <td>35682.000000</td>\n",
       "      <td>1243.333333</td>\n",
       "      <td>41.950000</td>\n",
       "      <td>-114.310000</td>\n",
       "      <td>5.000010</td>\n",
       "    </tr>\n",
       "  </tbody>\n",
       "</table>\n",
       "</div>"
      ],
      "text/plain": [
       "             MedInc      HouseAge      AveRooms    Population      AveOccup  \\\n",
       "count  20640.000000  20640.000000  20640.000000  20640.000000  20640.000000   \n",
       "mean       3.870671     28.639486      5.429000   1425.476744      3.070655   \n",
       "std        1.899822     12.585558      2.474173   1132.462122     10.386050   \n",
       "min        0.499900      1.000000      0.846154      3.000000      0.692308   \n",
       "25%        2.563400     18.000000      4.440716    787.000000      2.429741   \n",
       "50%        3.534800     29.000000      5.229129   1166.000000      2.818116   \n",
       "75%        4.743250     37.000000      6.052381   1725.000000      3.282261   \n",
       "max       15.000100     52.000000    141.909091  35682.000000   1243.333333   \n",
       "\n",
       "           Latitude     Longitude  MedHouseValue  \n",
       "count  20640.000000  20640.000000   20640.000000  \n",
       "mean      35.631861   -119.569704       2.068558  \n",
       "std        2.135952      2.003532       1.153956  \n",
       "min       32.540000   -124.350000       0.149990  \n",
       "25%       33.930000   -121.800000       1.196000  \n",
       "50%       34.260000   -118.490000       1.797000  \n",
       "75%       37.710000   -118.010000       2.647250  \n",
       "max       41.950000   -114.310000       5.000010  "
      ]
     },
     "execution_count": 20,
     "metadata": {},
     "output_type": "execute_result"
    }
   ],
   "source": [
    "data_second_mod.describe()"
   ]
  },
  {
   "cell_type": "code",
   "execution_count": 21,
   "id": "950c8d19",
   "metadata": {},
   "outputs": [
    {
     "data": {
      "image/png": "[encoded data removed]",
      "text/plain": [
       "<Figure size 1100x700 with 1 Axes>"
      ]
     },
     "metadata": {},
     "output_type": "display_data"
    }
   ],
   "source": [
    "plt.figure(figsize=(11, 7))\n",
    "\n",
    "# Приведём данные к одному масштабу\n",
    "data_scaled = (data_second_mod - data_second_mod.min()) / (data_second_mod.max() - data_second_mod.min())\n",
    "\n",
    "# Построим boxplot для каждого столбца\n",
    "plt.boxplot(data_scaled.values)\n",
    "plt.xticks(range(1, len(data_scaled.columns) + 1), data_scaled.columns)\n",
    "\n",
    "plt.title('Boxplot for each column')\n",
    "plt.xlabel('Columns')\n",
    "plt.ylabel('Values')\n",
    "plt.show()"
   ]
  },
  {
   "cell_type": "code",
   "execution_count": 22,
   "id": "8b4f5ac0",
   "metadata": {},
   "outputs": [],
   "source": [
    "features_with_outliers = ['MedInc', 'AveRooms', 'Population', 'AveOccup']"
   ]
  },
  {
   "cell_type": "markdown",
   "id": "05c9812b",
   "metadata": {},
   "source": [
    "##### a. Удалите выбросы в случае обнаружения."
   ]
  },
  {
   "cell_type": "code",
   "execution_count": 23,
   "id": "4b70e91a",
   "metadata": {},
   "outputs": [],
   "source": [
    "# Запишем функцию для поиска выбросов через межквартильный размах\n",
    "def remove_outlier(df, feature):\n",
    "    q1 = df[feature].quantile(0.25)\n",
    "    q3 = df[feature].quantile(0.75)\n",
    "    iqr = q3 - q1\n",
    "    lower_bound = q1 - 1.5 * iqr\n",
    "    upper_bound = q3 + 1.5 * iqr\n",
    "    df_out = df[df[feature].between(lower_bound, upper_bound, inclusive='both')]\n",
    "    return df_out"
   ]
  },
  {
   "cell_type": "code",
   "execution_count": 24,
   "id": "c4a3520d",
   "metadata": {},
   "outputs": [],
   "source": [
    "for feature in features_with_outliers:\n",
    "    data_second_mod = remove_outlier(data_second_mod, feature)"
   ]
  },
  {
   "cell_type": "markdown",
   "id": "60f3c52c",
   "metadata": {},
   "source": [
    "##### b. Повторите п. 3, п. 4 на измененных данных."
   ]
  },
  {
   "cell_type": "code",
   "execution_count": 25,
   "id": "ff7c0edf",
   "metadata": {},
   "outputs": [
    {
     "name": "stdout",
     "output_type": "stream",
     "text": [
      "RMSE train: 0.6610299227496499\n",
      "RMSE test: 0.6682884986543767\n",
      "\n",
      "R2 train: 0.6236572448199893\n",
      "R2 test: 0.6227130683101156\n"
     ]
    }
   ],
   "source": [
    "metric_counting(data_second_mod)"
   ]
  },
  {
   "cell_type": "markdown",
   "id": "df040806",
   "metadata": {},
   "source": [
    "#### 8. Измените несколько признаков на выбор математически. Например, вычислите логарифм, возведите в квадрат, извлеките квадратный корень."
   ]
  },
  {
   "cell_type": "code",
   "execution_count": 26,
   "id": "53e620e4",
   "metadata": {},
   "outputs": [],
   "source": [
    "data_third_mod = data_second_mod.copy()"
   ]
  },
  {
   "cell_type": "code",
   "execution_count": 27,
   "id": "074270c8",
   "metadata": {},
   "outputs": [],
   "source": [
    "# Выполним преобразование признака \"AveOccup\" с помощью логарифмирования\n",
    "data_third_mod['AveOccup'] = np.log(data_third_mod['AveOccup'])\n",
    "\n",
    "# Выполним преобразование признака \"AveRooms\" с помощью извлечения квадратного корня\n",
    "data_third_mod['AveRooms'] = np.sqrt(data_third_mod['AveRooms'])\n",
    "\n",
    "# Выполним преобразование признака \"MedInc\" с помощью возведения в квадрат\n",
    "data_third_mod['MedInc'] = np.square(data_third_mod['MedInc'])"
   ]
  },
  {
   "cell_type": "markdown",
   "id": "fa33ae5d",
   "metadata": {},
   "source": [
    "##### a. Повторите п. 3, п. 4 на измененных данных."
   ]
  },
  {
   "cell_type": "code",
   "execution_count": 28,
   "id": "600fe5d9",
   "metadata": {
    "scrolled": false
   },
   "outputs": [
    {
     "name": "stdout",
     "output_type": "stream",
     "text": [
      "RMSE train: 0.6542877061741172\n",
      "RMSE test: 0.6586338813593554\n",
      "\n",
      "R2 train: 0.6312951570200278\n",
      "R2 test: 0.6335354879803332\n"
     ]
    }
   ],
   "source": [
    "metric_counting(data_third_mod)"
   ]
  },
  {
   "cell_type": "markdown",
   "id": "29d80e2a",
   "metadata": {},
   "source": [
    "#### 9. Сформулируйте выводы по проделанной работе."
   ]
  },
  {
   "cell_type": "markdown",
   "id": "017c0182",
   "metadata": {},
   "source": [
    "Преобразование данных может иметь как положительное, так и отрицательное влияние на качество модели. Для достижения наилучшего результата необходимо экспериментировать и использовать различные преобразования.  \n",
    "В ходе выполнения работы, удалось на каждом из этапов добиться улучшения метрик RMSE и R2 модели линейной регрессии путём работы с данными."
   ]
  }
 ],
 "metadata": {
  "kernelspec": {
   "display_name": "Python 3 (ipykernel)",
   "language": "python",
   "name": "python3"
  },
  "language_info": {
   "codemirror_mode": {
    "name": "ipython",
    "version": 3
   },
   "file_extension": ".py",
   "mimetype": "text/x-python",
   "name": "python",
   "nbconvert_exporter": "python",
   "pygments_lexer": "ipython3",
   "version": "3.10.9"
  }
 },
 "nbformat": 4,
 "nbformat_minor": 5
}
