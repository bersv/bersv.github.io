{
 "cells": [
  {
   "cell_type": "markdown",
   "id": "576d24bd",
   "metadata": {},
   "source": [
    "### Задание"
   ]
  },
  {
   "cell_type": "markdown",
   "id": "0966ee06",
   "metadata": {},
   "source": [
    "#### 1. Получите данные и загрузите их в рабочую среду."
   ]
  },
  {
   "cell_type": "code",
   "execution_count": 1,
   "id": "f60c0f36",
   "metadata": {},
   "outputs": [],
   "source": [
    "import pandas as pd\n",
    "import seaborn as sns\n",
    "import numpy as np\n",
    "import matplotlib.pyplot as plt\n",
    "from sklearn.model_selection import train_test_split\n",
    "from sklearn.preprocessing import StandardScaler\n",
    "from sklearn.ensemble import RandomForestClassifier\n",
    "from sklearn.metrics import accuracy_score\n",
    "from scipy import stats"
   ]
  },
  {
   "cell_type": "code",
   "execution_count": 2,
   "id": "d7020cb2",
   "metadata": {},
   "outputs": [],
   "source": [
    "glass_data = pd.read_csv('glass.csv')"
   ]
  },
  {
   "cell_type": "markdown",
   "id": "2af53cf7",
   "metadata": {},
   "source": [
    "#### 2. Проведите первичный анализ."
   ]
  },
  {
   "cell_type": "code",
   "execution_count": 3,
   "id": "625d67bd",
   "metadata": {},
   "outputs": [
    {
     "data": {
      "text/html": [
       "<div>\n",
       "<style scoped>\n",
       "    .dataframe tbody tr th:only-of-type {\n",
       "        vertical-align: middle;\n",
       "    }\n",
       "\n",
       "    .dataframe tbody tr th {\n",
       "        vertical-align: top;\n",
       "    }\n",
       "\n",
       "    .dataframe thead th {\n",
       "        text-align: right;\n",
       "    }\n",
       "</style>\n",
       "<table border=\"1\" class=\"dataframe\">\n",
       "  <thead>\n",
       "    <tr style=\"text-align: right;\">\n",
       "      <th></th>\n",
       "      <th>RI</th>\n",
       "      <th>Na</th>\n",
       "      <th>Mg</th>\n",
       "      <th>Al</th>\n",
       "      <th>Si</th>\n",
       "      <th>K</th>\n",
       "      <th>Ca</th>\n",
       "      <th>Ba</th>\n",
       "      <th>Fe</th>\n",
       "      <th>Type</th>\n",
       "    </tr>\n",
       "  </thead>\n",
       "  <tbody>\n",
       "    <tr>\n",
       "      <th>0</th>\n",
       "      <td>1.52101</td>\n",
       "      <td>13.64</td>\n",
       "      <td>4.49</td>\n",
       "      <td>1.10</td>\n",
       "      <td>71.78</td>\n",
       "      <td>0.06</td>\n",
       "      <td>8.75</td>\n",
       "      <td>0.0</td>\n",
       "      <td>0.0</td>\n",
       "      <td>1</td>\n",
       "    </tr>\n",
       "    <tr>\n",
       "      <th>1</th>\n",
       "      <td>1.51761</td>\n",
       "      <td>13.89</td>\n",
       "      <td>3.60</td>\n",
       "      <td>1.36</td>\n",
       "      <td>72.73</td>\n",
       "      <td>0.48</td>\n",
       "      <td>7.83</td>\n",
       "      <td>0.0</td>\n",
       "      <td>0.0</td>\n",
       "      <td>1</td>\n",
       "    </tr>\n",
       "    <tr>\n",
       "      <th>2</th>\n",
       "      <td>1.51618</td>\n",
       "      <td>13.53</td>\n",
       "      <td>3.55</td>\n",
       "      <td>1.54</td>\n",
       "      <td>72.99</td>\n",
       "      <td>0.39</td>\n",
       "      <td>7.78</td>\n",
       "      <td>0.0</td>\n",
       "      <td>0.0</td>\n",
       "      <td>1</td>\n",
       "    </tr>\n",
       "    <tr>\n",
       "      <th>3</th>\n",
       "      <td>1.51766</td>\n",
       "      <td>13.21</td>\n",
       "      <td>3.69</td>\n",
       "      <td>1.29</td>\n",
       "      <td>72.61</td>\n",
       "      <td>0.57</td>\n",
       "      <td>8.22</td>\n",
       "      <td>0.0</td>\n",
       "      <td>0.0</td>\n",
       "      <td>1</td>\n",
       "    </tr>\n",
       "    <tr>\n",
       "      <th>4</th>\n",
       "      <td>1.51742</td>\n",
       "      <td>13.27</td>\n",
       "      <td>3.62</td>\n",
       "      <td>1.24</td>\n",
       "      <td>73.08</td>\n",
       "      <td>0.55</td>\n",
       "      <td>8.07</td>\n",
       "      <td>0.0</td>\n",
       "      <td>0.0</td>\n",
       "      <td>1</td>\n",
       "    </tr>\n",
       "  </tbody>\n",
       "</table>\n",
       "</div>"
      ],
      "text/plain": [
       "        RI     Na    Mg    Al     Si     K    Ca   Ba   Fe  Type\n",
       "0  1.52101  13.64  4.49  1.10  71.78  0.06  8.75  0.0  0.0     1\n",
       "1  1.51761  13.89  3.60  1.36  72.73  0.48  7.83  0.0  0.0     1\n",
       "2  1.51618  13.53  3.55  1.54  72.99  0.39  7.78  0.0  0.0     1\n",
       "3  1.51766  13.21  3.69  1.29  72.61  0.57  8.22  0.0  0.0     1\n",
       "4  1.51742  13.27  3.62  1.24  73.08  0.55  8.07  0.0  0.0     1"
      ]
     },
     "execution_count": 3,
     "metadata": {},
     "output_type": "execute_result"
    }
   ],
   "source": [
    "glass_data.head()"
   ]
  },
  {
   "cell_type": "code",
   "execution_count": 4,
   "id": "2c4771f9",
   "metadata": {
    "scrolled": true
   },
   "outputs": [
    {
     "name": "stdout",
     "output_type": "stream",
     "text": [
      "<class 'pandas.core.frame.DataFrame'>\n",
      "RangeIndex: 214 entries, 0 to 213\n",
      "Data columns (total 10 columns):\n",
      " #   Column  Non-Null Count  Dtype  \n",
      "---  ------  --------------  -----  \n",
      " 0   RI      214 non-null    float64\n",
      " 1   Na      214 non-null    float64\n",
      " 2   Mg      214 non-null    float64\n",
      " 3   Al      214 non-null    float64\n",
      " 4   Si      214 non-null    float64\n",
      " 5   K       214 non-null    float64\n",
      " 6   Ca      214 non-null    float64\n",
      " 7   Ba      214 non-null    float64\n",
      " 8   Fe      214 non-null    float64\n",
      " 9   Type    214 non-null    int64  \n",
      "dtypes: float64(9), int64(1)\n",
      "memory usage: 16.8 KB\n"
     ]
    }
   ],
   "source": [
    "glass_data.info()"
   ]
  },
  {
   "cell_type": "markdown",
   "id": "294816b3",
   "metadata": {},
   "source": [
    "##### а) Проверьте количество записей для каждого класса."
   ]
  },
  {
   "cell_type": "code",
   "execution_count": 22,
   "id": "65a5df5a",
   "metadata": {},
   "outputs": [
    {
     "name": "stdout",
     "output_type": "stream",
     "text": [
      "Количество записей для каждого класса:\n",
      "1    70\n",
      "2    76\n",
      "3    17\n",
      "5    13\n",
      "6     9\n",
      "7    29\n",
      "Name: Type, dtype: int64\n"
     ]
    }
   ],
   "source": [
    "class_counts = glass_data['Type'].value_counts().sort_index()\n",
    "print(\"Количество записей для каждого класса:\")\n",
    "print(class_counts)"
   ]
  },
  {
   "cell_type": "markdown",
   "id": "2eb04dd7",
   "metadata": {},
   "source": [
    "Видим, что наибольшее количество данных относится к двум классам: 1 и 2."
   ]
  },
  {
   "cell_type": "markdown",
   "id": "02fef3d6",
   "metadata": {},
   "source": [
    "#### Разделите выборку на обучающее и тестовое подмножество. 80% данных оставить на обучающее множество, 20% на тестовое."
   ]
  },
  {
   "cell_type": "code",
   "execution_count": 6,
   "id": "baf94d03",
   "metadata": {},
   "outputs": [],
   "source": [
    "X, y = glass_data.iloc[:, :-1], glass_data['Type']"
   ]
  },
  {
   "cell_type": "code",
   "execution_count": 7,
   "id": "36abdd3b",
   "metadata": {},
   "outputs": [],
   "source": [
    "X_train, X_test, y_train, y_test = train_test_split(X, y, test_size=0.2, random_state=42)"
   ]
  },
  {
   "cell_type": "markdown",
   "id": "05275be1",
   "metadata": {},
   "source": [
    "#### 4. Обучите модель дерева решений `RandomForestClassifier` на обучающем множестве."
   ]
  },
  {
   "cell_type": "code",
   "execution_count": 8,
   "id": "d008434e",
   "metadata": {},
   "outputs": [],
   "source": [
    "random_forest_model = RandomForestClassifier(random_state=42)"
   ]
  },
  {
   "cell_type": "code",
   "execution_count": 9,
   "id": "e2fd827d",
   "metadata": {},
   "outputs": [
    {
     "data": {
      "text/html": [
       "<style>#sk-container-id-1 {color: black;background-color: white;}#sk-container-id-1 pre{padding: 0;}#sk-container-id-1 div.sk-toggleable {background-color: white;}#sk-container-id-1 label.sk-toggleable__label {cursor: pointer;display: block;width: 100%;margin-bottom: 0;padding: 0.3em;box-sizing: border-box;text-align: center;}#sk-container-id-1 label.sk-toggleable__label-arrow:before {content: \"▸\";float: left;margin-right: 0.25em;color: #696969;}#sk-container-id-1 label.sk-toggleable__label-arrow:hover:before {color: black;}#sk-container-id-1 div.sk-estimator:hover label.sk-toggleable__label-arrow:before {color: black;}#sk-container-id-1 div.sk-toggleable__content {max-height: 0;max-width: 0;overflow: hidden;text-align: left;background-color: #f0f8ff;}#sk-container-id-1 div.sk-toggleable__content pre {margin: 0.2em;color: black;border-radius: 0.25em;background-color: #f0f8ff;}#sk-container-id-1 input.sk-toggleable__control:checked~div.sk-toggleable__content {max-height: 200px;max-width: 100%;overflow: auto;}#sk-container-id-1 input.sk-toggleable__control:checked~label.sk-toggleable__label-arrow:before {content: \"▾\";}#sk-container-id-1 div.sk-estimator input.sk-toggleable__control:checked~label.sk-toggleable__label {background-color: #d4ebff;}#sk-container-id-1 div.sk-label input.sk-toggleable__control:checked~label.sk-toggleable__label {background-color: #d4ebff;}#sk-container-id-1 input.sk-hidden--visually {border: 0;clip: rect(1px 1px 1px 1px);clip: rect(1px, 1px, 1px, 1px);height: 1px;margin: -1px;overflow: hidden;padding: 0;position: absolute;width: 1px;}#sk-container-id-1 div.sk-estimator {font-family: monospace;background-color: #f0f8ff;border: 1px dotted black;border-radius: 0.25em;box-sizing: border-box;margin-bottom: 0.5em;}#sk-container-id-1 div.sk-estimator:hover {background-color: #d4ebff;}#sk-container-id-1 div.sk-parallel-item::after {content: \"\";width: 100%;border-bottom: 1px solid gray;flex-grow: 1;}#sk-container-id-1 div.sk-label:hover label.sk-toggleable__label {background-color: #d4ebff;}#sk-container-id-1 div.sk-serial::before {content: \"\";position: absolute;border-left: 1px solid gray;box-sizing: border-box;top: 0;bottom: 0;left: 50%;z-index: 0;}#sk-container-id-1 div.sk-serial {display: flex;flex-direction: column;align-items: center;background-color: white;padding-right: 0.2em;padding-left: 0.2em;position: relative;}#sk-container-id-1 div.sk-item {position: relative;z-index: 1;}#sk-container-id-1 div.sk-parallel {display: flex;align-items: stretch;justify-content: center;background-color: white;position: relative;}#sk-container-id-1 div.sk-item::before, #sk-container-id-1 div.sk-parallel-item::before {content: \"\";position: absolute;border-left: 1px solid gray;box-sizing: border-box;top: 0;bottom: 0;left: 50%;z-index: -1;}#sk-container-id-1 div.sk-parallel-item {display: flex;flex-direction: column;z-index: 1;position: relative;background-color: white;}#sk-container-id-1 div.sk-parallel-item:first-child::after {align-self: flex-end;width: 50%;}#sk-container-id-1 div.sk-parallel-item:last-child::after {align-self: flex-start;width: 50%;}#sk-container-id-1 div.sk-parallel-item:only-child::after {width: 0;}#sk-container-id-1 div.sk-dashed-wrapped {border: 1px dashed gray;margin: 0 0.4em 0.5em 0.4em;box-sizing: border-box;padding-bottom: 0.4em;background-color: white;}#sk-container-id-1 div.sk-label label {font-family: monospace;font-weight: bold;display: inline-block;line-height: 1.2em;}#sk-container-id-1 div.sk-label-container {text-align: center;}#sk-container-id-1 div.sk-container {/* jupyter's `normalize.less` sets `[hidden] { display: none; }` but bootstrap.min.css set `[hidden] { display: none !important; }` so we also need the `!important` here to be able to override the default hidden behavior on the sphinx rendered scikit-learn.org. See: https://github.com/scikit-learn/scikit-learn/issues/21755 */display: inline-block !important;position: relative;}#sk-container-id-1 div.sk-text-repr-fallback {display: none;}</style><div id=\"sk-container-id-1\" class=\"sk-top-container\"><div class=\"sk-text-repr-fallback\"><pre>RandomForestClassifier(random_state=42)</pre><b>In a Jupyter environment, please rerun this cell to show the HTML representation or trust the notebook. <br />On GitHub, the HTML representation is unable to render, please try loading this page with nbviewer.org.</b></div><div class=\"sk-container\" hidden><div class=\"sk-item\"><div class=\"sk-estimator sk-toggleable\"><input class=\"sk-toggleable__control sk-hidden--visually\" id=\"sk-estimator-id-1\" type=\"checkbox\" checked><label for=\"sk-estimator-id-1\" class=\"sk-toggleable__label sk-toggleable__label-arrow\">RandomForestClassifier</label><div class=\"sk-toggleable__content\"><pre>RandomForestClassifier(random_state=42)</pre></div></div></div></div></div>"
      ],
      "text/plain": [
       "RandomForestClassifier(random_state=42)"
      ]
     },
     "execution_count": 9,
     "metadata": {},
     "output_type": "execute_result"
    }
   ],
   "source": [
    "random_forest_model.fit(X_train, y_train)"
   ]
  },
  {
   "cell_type": "markdown",
   "id": "f16caf03",
   "metadata": {},
   "source": [
    "#### 5. Для тестового множества предскажите тип стекла и сравните с истинным значением, посчитав точность предсказания модели (`accuracy`)."
   ]
  },
  {
   "cell_type": "code",
   "execution_count": 10,
   "id": "3f2049b6",
   "metadata": {},
   "outputs": [],
   "source": [
    "y_test_pred_forest = random_forest_model.predict(X_test)"
   ]
  },
  {
   "cell_type": "code",
   "execution_count": 11,
   "id": "68e265e8",
   "metadata": {},
   "outputs": [
    {
     "data": {
      "text/plain": [
       "0.8372093023255814"
      ]
     },
     "execution_count": 11,
     "metadata": {},
     "output_type": "execute_result"
    }
   ],
   "source": [
    "accuracy_score(y_test, y_test_pred_forest)"
   ]
  },
  {
   "cell_type": "markdown",
   "id": "45476f41",
   "metadata": {},
   "source": [
    "#### 6. Обработайте выбросы в данных."
   ]
  },
  {
   "cell_type": "markdown",
   "id": "a897d5f7",
   "metadata": {},
   "source": [
    "***а) Визуализируйте распределение значений для каждой переменной. Есть ли признаки с нормальным распределением?  \n",
    "b) Исследуйте признаки на выбросы несколькими способами.  \n",
    "c) Удалите выбросы. Посчитайте процент удаленных записей от общего числа записей для каждого класса.***"
   ]
  },
  {
   "cell_type": "code",
   "execution_count": 12,
   "id": "6a85e5dd",
   "metadata": {},
   "outputs": [
    {
     "data": {
      "image/png": "[encoded data removed]",
      "text/plain": [
       "<Figure size 1000x800 with 1 Axes>"
      ]
     },
     "metadata": {},
     "output_type": "display_data"
    }
   ],
   "source": [
    "# Приведём данные к одному масштабу\n",
    "scaler = StandardScaler()\n",
    "data_scaled = pd.DataFrame(scaler.fit_transform(X.values), columns = X.columns)\n",
    "\n",
    "# Выполним визуализацию через boxplot\n",
    "plt.figure(figsize=(10, 8))\n",
    "sns.set(style=\"darkgrid\")\n",
    "sns.boxplot(data=data_scaled)\n",
    "plt.show()"
   ]
  },
  {
   "cell_type": "code",
   "execution_count": 13,
   "id": "e71ad35d",
   "metadata": {},
   "outputs": [
    {
     "data": {
      "image/png": "[encoded data removed]",
      "text/plain": [
       "<Figure size 1200x1200 with 9 Axes>"
      ]
     },
     "metadata": {},
     "output_type": "display_data"
    }
   ],
   "source": [
    "# Выполним визуализацию через histplot\n",
    "plt.figure(figsize=(12, 12))\n",
    "for i, column in enumerate(X.columns, 1):\n",
    "    plt.subplot(3, 3, i)\n",
    "    sns.histplot(X[column])   "
   ]
  },
  {
   "cell_type": "markdown",
   "id": "55f907be",
   "metadata": {},
   "source": [
    "Больше всего, нормальное распределение напоминают распределения следующих признаков: 'RI', 'Na', 'Al', 'Si', 'Ca'."
   ]
  },
  {
   "cell_type": "code",
   "execution_count": 14,
   "id": "9039f484",
   "metadata": {},
   "outputs": [],
   "source": [
    "# Запишем функцию для поиска выбросов через межквартильный размах\n",
    "def remove_outliers(df, features):\n",
    "    for feature in features:\n",
    "        q1 = df[feature].quantile(0.25)\n",
    "        q3 = df[feature].quantile(0.75)\n",
    "        iqr = q3 - q1\n",
    "        lower_bound = q1 - 1.5 * iqr\n",
    "        upper_bound = q3 + 1.5 * iqr\n",
    "        df_out = df[df[feature].between(lower_bound, upper_bound, inclusive='both')]\n",
    "    return df_out"
   ]
  },
  {
   "cell_type": "code",
   "execution_count": 15,
   "id": "7a455c39",
   "metadata": {},
   "outputs": [
    {
     "name": "stdout",
     "output_type": "stream",
     "text": [
      "Общий процент удаленных записей: 5.61%\n",
      "Процент удаленных записей от общего числа записей для каждого класса:\n",
      "1     4.285714\n",
      "2     7.894737\n",
      "3     5.882353\n",
      "5    15.384615\n",
      "6     0.000000\n",
      "7     0.000000\n",
      "Name: Type, dtype: float64\n"
     ]
    }
   ],
   "source": [
    "# Произведём обработку выбросов в данных с использованием межквартильного размаха\n",
    "outlier_features = ['RI', 'Na', 'Mg', 'Al', 'Si', 'K', 'Ca', 'Ba', 'Fe']\n",
    "data_no_outliers_iqr = remove_outliers(glass_data, outlier_features)\n",
    "\n",
    "# Сравним размеры данных до и после удаления выбросов\n",
    "percentage_removed = (1 - len(data_no_outliers_iqr) / len(glass_data)) * 100\n",
    "\n",
    "print(f'Общий процент удаленных записей: {percentage_removed:.2f}%')\n",
    "print(\"Процент удаленных записей от общего числа записей для каждого класса:\")\n",
    "print((1 - data_no_outliers_iqr['Type'].value_counts() / class_counts) * 100)"
   ]
  },
  {
   "cell_type": "code",
   "execution_count": 16,
   "id": "4144fe31",
   "metadata": {
    "scrolled": true
   },
   "outputs": [
    {
     "name": "stdout",
     "output_type": "stream",
     "text": [
      "Общий процент удаленных записей: 9.35%\n",
      "Процент удаленных записей от общего числа записей для каждого класса:\n",
      "1     0.000000\n",
      "2    10.526316\n",
      "3     5.882353\n",
      "5    30.769231\n",
      "6    11.111111\n",
      "7    20.689655\n",
      "Name: Type, dtype: float64\n"
     ]
    }
   ],
   "source": [
    "# Произведём обработку выбросов в данных с использованием Z-Score\n",
    "data_no_outliers_zscore = glass_data[(np.abs(stats.zscore(glass_data.drop('Type', axis=1))) < 3).all(axis=1)]\n",
    "percentage_removed = (1 - len(data_no_outliers_zscore) / len(glass_data)) * 100\n",
    "\n",
    "# Сравним размеры данных до и после удаления выбросов\n",
    "print(f'Общий процент удаленных записей: {percentage_removed:.2f}%')\n",
    "print(\"Процент удаленных записей от общего числа записей для каждого класса:\")\n",
    "print((1 - data_no_outliers_zscore['Type'].value_counts() / class_counts) * 100)"
   ]
  },
  {
   "cell_type": "markdown",
   "id": "f0d70b1c",
   "metadata": {},
   "source": [
    "#### 7. Повторите п. 4, п. 5."
   ]
  },
  {
   "cell_type": "code",
   "execution_count": 17,
   "id": "e41829f0",
   "metadata": {},
   "outputs": [],
   "source": [
    "# Запишем функцию, для выполнения пунктов 4 и 5\n",
    "def accuracy_counting(data):\n",
    "    X = data.iloc[:, :-1]\n",
    "    y = data['Type']\n",
    "    X_train, X_test, y_train, y_test = train_test_split(X, y, test_size = 0.2, random_state = 42)\n",
    "    model = RandomForestClassifier(random_state=42)\n",
    "    model.fit(X_train, y_train)\n",
    "    y_test_pred = model.predict(X_test)\n",
    "    accuracy = accuracy_score(y_test, y_test_pred)\n",
    "    \n",
    "    print('Accuracy:', accuracy)"
   ]
  },
  {
   "cell_type": "code",
   "execution_count": 18,
   "id": "0d953129",
   "metadata": {
    "scrolled": true
   },
   "outputs": [
    {
     "name": "stdout",
     "output_type": "stream",
     "text": [
      "Accuracy: 0.8372093023255814\n"
     ]
    }
   ],
   "source": [
    "# Точность модели без удаления выбросов\n",
    "accuracy_counting(glass_data)"
   ]
  },
  {
   "cell_type": "code",
   "execution_count": 19,
   "id": "e61ae179",
   "metadata": {},
   "outputs": [
    {
     "name": "stdout",
     "output_type": "stream",
     "text": [
      "Accuracy: 0.8292682926829268\n"
     ]
    }
   ],
   "source": [
    "# Точность модели с удалением выбросов через межквартильный размах\n",
    "accuracy_counting(data_no_outliers_iqr)"
   ]
  },
  {
   "cell_type": "code",
   "execution_count": 20,
   "id": "e61a9215",
   "metadata": {},
   "outputs": [
    {
     "name": "stdout",
     "output_type": "stream",
     "text": [
      "Accuracy: 0.7435897435897436\n"
     ]
    }
   ],
   "source": [
    "# Точность модели с удалением выбросов через Z-Score\n",
    "accuracy_counting(data_no_outliers_zscore)"
   ]
  },
  {
   "cell_type": "markdown",
   "id": "4bc8b352",
   "metadata": {},
   "source": [
    "#### 8. Сформулируйте выводы по проделанной работе."
   ]
  },
  {
   "cell_type": "markdown",
   "id": "6a8f2824",
   "metadata": {},
   "source": [
    "Исследование данных на выбросы важно, так как выбросы могут исказить результаты модели, ухудшая ее предсказательную способность. Однако, удаление выбросов также может привести к потере информации и сужению обобщающей способности модели.  \n",
    "Плюсы: повышение качества модели, улучшение интерпретации данных,  уменьшение влияния шумовых данных.\n",
    "Минусы: потеря информации, изменение распределения данных, возможное искажение реальности."
   ]
  }
 ],
 "metadata": {
  "kernelspec": {
   "display_name": "Python 3 (ipykernel)",
   "language": "python",
   "name": "python3"
  },
  "language_info": {
   "codemirror_mode": {
    "name": "ipython",
    "version": 3
   },
   "file_extension": ".py",
   "mimetype": "text/x-python",
   "name": "python",
   "nbconvert_exporter": "python",
   "pygments_lexer": "ipython3",
   "version": "3.10.9"
  }
 },
 "nbformat": 4,
 "nbformat_minor": 5
}
