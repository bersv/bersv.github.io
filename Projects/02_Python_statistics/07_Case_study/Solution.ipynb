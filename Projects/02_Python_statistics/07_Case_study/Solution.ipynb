{
 "cells": [
  {
   "cell_type": "markdown",
   "id": "3c4f5761",
   "metadata": {},
   "source": [
    "### Задание 1"
   ]
  },
  {
   "cell_type": "markdown",
   "id": "83b621dc",
   "metadata": {},
   "source": [
    "Найти угол между векторами-фильмами `\"Ярость\"` и `\"12 лет рабства\"`. Результатом будет являться косинусная мера, которую можно использовать для определения похожести векторов."
   ]
  },
  {
   "cell_type": "code",
   "execution_count": 1,
   "id": "2b263395",
   "metadata": {},
   "outputs": [],
   "source": [
    "import numpy as np"
   ]
  },
  {
   "cell_type": "code",
   "execution_count": 2,
   "id": "20c01dd4",
   "metadata": {},
   "outputs": [],
   "source": [
    "film_1 = np.array([0, 0, 0, 0, 1, 0])      # Игра в имитацию\n",
    "film_2 = np.array([0, 1, 0, 1, 0, 0])      # Ярость\n",
    "film_3 = np.array([0, 0, 1, 1, 1, 0])      # 12 лет рабства\n",
    "film_4 = np.array([1, 0, 0, 1, 0, 1])      # Однажды в Голливуде"
   ]
  },
  {
   "cell_type": "code",
   "execution_count": 3,
   "id": "b257858c",
   "metadata": {},
   "outputs": [
    {
     "data": {
      "text/plain": [
       "65.90515744788931"
      ]
     },
     "execution_count": 3,
     "metadata": {},
     "output_type": "execute_result"
    }
   ],
   "source": [
    "# Вычислим угол между векторами-фильмами\n",
    "np.rad2deg(np.arccos(np.dot(film_2, film_3) / (np.linalg.norm(film_2) * np.linalg.norm(film_3))))"
   ]
  },
  {
   "cell_type": "markdown",
   "id": "ea76d8b4",
   "metadata": {},
   "source": [
    "### Задание 2"
   ]
  },
  {
   "cell_type": "markdown",
   "id": "0bf17a46",
   "metadata": {},
   "source": [
    "Вычислить с помощью `Python` значение первой производной для функции $8x(x+3)^2$ в точке $x=1$."
   ]
  },
  {
   "cell_type": "code",
   "execution_count": 6,
   "id": "3b31f65d",
   "metadata": {},
   "outputs": [],
   "source": [
    "import sympy as sym"
   ]
  },
  {
   "cell_type": "code",
   "execution_count": 9,
   "id": "8cdbfdd5",
   "metadata": {},
   "outputs": [],
   "source": [
    "# Определим 'x' как аналитический параметр\n",
    "x = sym.Symbol('x')"
   ]
  },
  {
   "cell_type": "code",
   "execution_count": 12,
   "id": "f59b356a",
   "metadata": {},
   "outputs": [
    {
     "data": {
      "text/latex": [
       "$\\displaystyle 8 x \\left(2 x + 6\\right) + 8 \\left(x + 3\\right)^{2}$"
      ],
      "text/plain": [
       "8*x*(2*x + 6) + 8*(x + 3)**2"
      ]
     },
     "execution_count": 12,
     "metadata": {},
     "output_type": "execute_result"
    }
   ],
   "source": [
    "# Найдём первую производную для заданной функции\n",
    "res = sym.diff(8 * x * (x + 3)**2, x)\n",
    "res"
   ]
  },
  {
   "cell_type": "code",
   "execution_count": 13,
   "id": "17203904",
   "metadata": {},
   "outputs": [
    {
     "data": {
      "text/latex": [
       "$\\displaystyle 192$"
      ],
      "text/plain": [
       "192"
      ]
     },
     "execution_count": 13,
     "metadata": {},
     "output_type": "execute_result"
    }
   ],
   "source": [
    "# Вычислим значение производной в точке x=1\n",
    "res.subs(x, 1)"
   ]
  },
  {
   "cell_type": "markdown",
   "id": "8d5e969c",
   "metadata": {},
   "source": [
    "### Задание 3"
   ]
  },
  {
   "cell_type": "markdown",
   "id": "419650ef",
   "metadata": {},
   "source": [
    "Объединить векторы фильмов в матрицу, где каждый вектор является строкой матрицы.  \n",
    "Умножить вектор [1, 2, 3, 4] на полученную матрицу."
   ]
  },
  {
   "cell_type": "code",
   "execution_count": 14,
   "id": "717fc0fc",
   "metadata": {},
   "outputs": [
    {
     "data": {
      "text/plain": [
       "array([[0, 0, 0, 0, 1, 0],\n",
       "       [0, 1, 0, 1, 0, 0],\n",
       "       [0, 0, 1, 1, 1, 0],\n",
       "       [1, 0, 0, 1, 0, 1]])"
      ]
     },
     "execution_count": 14,
     "metadata": {},
     "output_type": "execute_result"
    }
   ],
   "source": [
    "# Создадим матрицу из векторов фильмов\n",
    "A = np.array([film_1, film_2, film_3, film_4])\n",
    "A"
   ]
  },
  {
   "cell_type": "code",
   "execution_count": 17,
   "id": "94ccc37b",
   "metadata": {},
   "outputs": [
    {
     "data": {
      "text/plain": [
       "array([1, 2, 3, 4])"
      ]
     },
     "execution_count": 17,
     "metadata": {},
     "output_type": "execute_result"
    }
   ],
   "source": [
    "# Создадим вектор\n",
    "A1 = np.array([1, 2, 3, 4])\n",
    "A1"
   ]
  },
  {
   "cell_type": "code",
   "execution_count": 27,
   "id": "6ffcc48d",
   "metadata": {},
   "outputs": [
    {
     "data": {
      "text/plain": [
       "array([4, 2, 3, 9, 4, 4])"
      ]
     },
     "execution_count": 27,
     "metadata": {},
     "output_type": "execute_result"
    }
   ],
   "source": [
    "# Выполним умножение матриц\n",
    "A1 @ A"
   ]
  }
 ],
 "metadata": {
  "kernelspec": {
   "display_name": "Python 3 (ipykernel)",
   "language": "python",
   "name": "python3"
  },
  "language_info": {
   "codemirror_mode": {
    "name": "ipython",
    "version": 3
   },
   "file_extension": ".py",
   "mimetype": "text/x-python",
   "name": "python",
   "nbconvert_exporter": "python",
   "pygments_lexer": "ipython3",
   "version": "3.10.9"
  }
 },
 "nbformat": 4,
 "nbformat_minor": 5
}
