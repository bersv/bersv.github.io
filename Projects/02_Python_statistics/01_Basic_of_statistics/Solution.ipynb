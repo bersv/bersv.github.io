{
 "cells": [
  {
   "cell_type": "markdown",
   "id": "fb9f40e7",
   "metadata": {},
   "source": [
    "### Задание 1. Загрузка данных"
   ]
  },
  {
   "cell_type": "markdown",
   "id": "ecfd035f",
   "metadata": {},
   "source": [
    "Изучить представленный набор данных на основе описания его столбцов, загрузить его и оставить 8 столбцов для дальнейшего изучения: `surgery?`, `Age`, `rectal temperature`, `pulse`, `respiratory rate`, `temperature of extremities`, `pain`, `outcome`."
   ]
  },
  {
   "cell_type": "code",
   "execution_count": 33,
   "id": "1da8bbf3",
   "metadata": {},
   "outputs": [],
   "source": [
    "import pandas as pd\n",
    "import numpy as np"
   ]
  },
  {
   "cell_type": "code",
   "execution_count": 34,
   "id": "1b7bdb3a",
   "metadata": {
    "scrolled": true
   },
   "outputs": [
    {
     "data": {
      "text/html": [
       "<div>\n",
       "<style scoped>\n",
       "    .dataframe tbody tr th:only-of-type {\n",
       "        vertical-align: middle;\n",
       "    }\n",
       "\n",
       "    .dataframe tbody tr th {\n",
       "        vertical-align: top;\n",
       "    }\n",
       "\n",
       "    .dataframe thead th {\n",
       "        text-align: right;\n",
       "    }\n",
       "</style>\n",
       "<table border=\"1\" class=\"dataframe\">\n",
       "  <thead>\n",
       "    <tr style=\"text-align: right;\">\n",
       "      <th></th>\n",
       "      <th>0</th>\n",
       "      <th>1</th>\n",
       "      <th>2</th>\n",
       "      <th>3</th>\n",
       "      <th>4</th>\n",
       "      <th>5</th>\n",
       "      <th>6</th>\n",
       "      <th>7</th>\n",
       "      <th>8</th>\n",
       "      <th>9</th>\n",
       "      <th>...</th>\n",
       "      <th>18</th>\n",
       "      <th>19</th>\n",
       "      <th>20</th>\n",
       "      <th>21</th>\n",
       "      <th>22</th>\n",
       "      <th>23</th>\n",
       "      <th>24</th>\n",
       "      <th>25</th>\n",
       "      <th>26</th>\n",
       "      <th>27</th>\n",
       "    </tr>\n",
       "  </thead>\n",
       "  <tbody>\n",
       "    <tr>\n",
       "      <th>0</th>\n",
       "      <td>2.0</td>\n",
       "      <td>1</td>\n",
       "      <td>530101</td>\n",
       "      <td>38.5</td>\n",
       "      <td>66.0</td>\n",
       "      <td>28.0</td>\n",
       "      <td>3.0</td>\n",
       "      <td>3.0</td>\n",
       "      <td>NaN</td>\n",
       "      <td>2.0</td>\n",
       "      <td>...</td>\n",
       "      <td>45.0</td>\n",
       "      <td>8.4</td>\n",
       "      <td>NaN</td>\n",
       "      <td>NaN</td>\n",
       "      <td>2.0</td>\n",
       "      <td>2</td>\n",
       "      <td>11300</td>\n",
       "      <td>0</td>\n",
       "      <td>0</td>\n",
       "      <td>2</td>\n",
       "    </tr>\n",
       "    <tr>\n",
       "      <th>1</th>\n",
       "      <td>1.0</td>\n",
       "      <td>1</td>\n",
       "      <td>534817</td>\n",
       "      <td>39.2</td>\n",
       "      <td>88.0</td>\n",
       "      <td>20.0</td>\n",
       "      <td>NaN</td>\n",
       "      <td>NaN</td>\n",
       "      <td>4.0</td>\n",
       "      <td>1.0</td>\n",
       "      <td>...</td>\n",
       "      <td>50.0</td>\n",
       "      <td>85.0</td>\n",
       "      <td>2.0</td>\n",
       "      <td>2.0</td>\n",
       "      <td>3.0</td>\n",
       "      <td>2</td>\n",
       "      <td>2208</td>\n",
       "      <td>0</td>\n",
       "      <td>0</td>\n",
       "      <td>2</td>\n",
       "    </tr>\n",
       "    <tr>\n",
       "      <th>2</th>\n",
       "      <td>2.0</td>\n",
       "      <td>1</td>\n",
       "      <td>530334</td>\n",
       "      <td>38.3</td>\n",
       "      <td>40.0</td>\n",
       "      <td>24.0</td>\n",
       "      <td>1.0</td>\n",
       "      <td>1.0</td>\n",
       "      <td>3.0</td>\n",
       "      <td>1.0</td>\n",
       "      <td>...</td>\n",
       "      <td>33.0</td>\n",
       "      <td>6.7</td>\n",
       "      <td>NaN</td>\n",
       "      <td>NaN</td>\n",
       "      <td>1.0</td>\n",
       "      <td>2</td>\n",
       "      <td>0</td>\n",
       "      <td>0</td>\n",
       "      <td>0</td>\n",
       "      <td>1</td>\n",
       "    </tr>\n",
       "    <tr>\n",
       "      <th>3</th>\n",
       "      <td>1.0</td>\n",
       "      <td>9</td>\n",
       "      <td>5290409</td>\n",
       "      <td>39.1</td>\n",
       "      <td>164.0</td>\n",
       "      <td>84.0</td>\n",
       "      <td>4.0</td>\n",
       "      <td>1.0</td>\n",
       "      <td>6.0</td>\n",
       "      <td>2.0</td>\n",
       "      <td>...</td>\n",
       "      <td>48.0</td>\n",
       "      <td>7.2</td>\n",
       "      <td>3.0</td>\n",
       "      <td>5.3</td>\n",
       "      <td>2.0</td>\n",
       "      <td>1</td>\n",
       "      <td>2208</td>\n",
       "      <td>0</td>\n",
       "      <td>0</td>\n",
       "      <td>1</td>\n",
       "    </tr>\n",
       "    <tr>\n",
       "      <th>4</th>\n",
       "      <td>2.0</td>\n",
       "      <td>1</td>\n",
       "      <td>530255</td>\n",
       "      <td>37.3</td>\n",
       "      <td>104.0</td>\n",
       "      <td>35.0</td>\n",
       "      <td>NaN</td>\n",
       "      <td>NaN</td>\n",
       "      <td>6.0</td>\n",
       "      <td>2.0</td>\n",
       "      <td>...</td>\n",
       "      <td>74.0</td>\n",
       "      <td>7.4</td>\n",
       "      <td>NaN</td>\n",
       "      <td>NaN</td>\n",
       "      <td>2.0</td>\n",
       "      <td>2</td>\n",
       "      <td>4300</td>\n",
       "      <td>0</td>\n",
       "      <td>0</td>\n",
       "      <td>2</td>\n",
       "    </tr>\n",
       "  </tbody>\n",
       "</table>\n",
       "<p>5 rows × 28 columns</p>\n",
       "</div>"
      ],
      "text/plain": [
       "    0   1        2     3      4     5    6    7    8    9   ...    18    19  \\\n",
       "0  2.0   1   530101  38.5   66.0  28.0  3.0  3.0  NaN  2.0  ...  45.0   8.4   \n",
       "1  1.0   1   534817  39.2   88.0  20.0  NaN  NaN  4.0  1.0  ...  50.0  85.0   \n",
       "2  2.0   1   530334  38.3   40.0  24.0  1.0  1.0  3.0  1.0  ...  33.0   6.7   \n",
       "3  1.0   9  5290409  39.1  164.0  84.0  4.0  1.0  6.0  2.0  ...  48.0   7.2   \n",
       "4  2.0   1   530255  37.3  104.0  35.0  NaN  NaN  6.0  2.0  ...  74.0   7.4   \n",
       "\n",
       "    20   21   22  23     24  25  26  27  \n",
       "0  NaN  NaN  2.0   2  11300   0   0   2  \n",
       "1  2.0  2.0  3.0   2   2208   0   0   2  \n",
       "2  NaN  NaN  1.0   2      0   0   0   1  \n",
       "3  3.0  5.3  2.0   1   2208   0   0   1  \n",
       "4  NaN  NaN  2.0   2   4300   0   0   2  \n",
       "\n",
       "[5 rows x 28 columns]"
      ]
     },
     "execution_count": 34,
     "metadata": {},
     "output_type": "execute_result"
    }
   ],
   "source": [
    "data = pd.read_csv('raw.githubusercontent.com_obulygin_pyda_homeworks_master_statistics_basics_horse_data.csv',\n",
    "                 header=None, sep=',', na_values=['?'])\n",
    "data.head()"
   ]
  },
  {
   "cell_type": "code",
   "execution_count": 35,
   "id": "52b42ca3",
   "metadata": {},
   "outputs": [
    {
     "data": {
      "text/html": [
       "<div>\n",
       "<style scoped>\n",
       "    .dataframe tbody tr th:only-of-type {\n",
       "        vertical-align: middle;\n",
       "    }\n",
       "\n",
       "    .dataframe tbody tr th {\n",
       "        vertical-align: top;\n",
       "    }\n",
       "\n",
       "    .dataframe thead th {\n",
       "        text-align: right;\n",
       "    }\n",
       "</style>\n",
       "<table border=\"1\" class=\"dataframe\">\n",
       "  <thead>\n",
       "    <tr style=\"text-align: right;\">\n",
       "      <th></th>\n",
       "      <th>Surgery</th>\n",
       "      <th>Age</th>\n",
       "      <th>Rectal temperature</th>\n",
       "      <th>Pulse</th>\n",
       "      <th>Respiratory rate</th>\n",
       "      <th>Temperature of extremities</th>\n",
       "      <th>Pain</th>\n",
       "      <th>Outcome</th>\n",
       "    </tr>\n",
       "  </thead>\n",
       "  <tbody>\n",
       "    <tr>\n",
       "      <th>0</th>\n",
       "      <td>2.0</td>\n",
       "      <td>1</td>\n",
       "      <td>38.5</td>\n",
       "      <td>66.0</td>\n",
       "      <td>28.0</td>\n",
       "      <td>3.0</td>\n",
       "      <td>5.0</td>\n",
       "      <td>2.0</td>\n",
       "    </tr>\n",
       "    <tr>\n",
       "      <th>1</th>\n",
       "      <td>1.0</td>\n",
       "      <td>1</td>\n",
       "      <td>39.2</td>\n",
       "      <td>88.0</td>\n",
       "      <td>20.0</td>\n",
       "      <td>NaN</td>\n",
       "      <td>3.0</td>\n",
       "      <td>3.0</td>\n",
       "    </tr>\n",
       "    <tr>\n",
       "      <th>2</th>\n",
       "      <td>2.0</td>\n",
       "      <td>1</td>\n",
       "      <td>38.3</td>\n",
       "      <td>40.0</td>\n",
       "      <td>24.0</td>\n",
       "      <td>1.0</td>\n",
       "      <td>3.0</td>\n",
       "      <td>1.0</td>\n",
       "    </tr>\n",
       "    <tr>\n",
       "      <th>3</th>\n",
       "      <td>1.0</td>\n",
       "      <td>9</td>\n",
       "      <td>39.1</td>\n",
       "      <td>164.0</td>\n",
       "      <td>84.0</td>\n",
       "      <td>4.0</td>\n",
       "      <td>2.0</td>\n",
       "      <td>2.0</td>\n",
       "    </tr>\n",
       "    <tr>\n",
       "      <th>4</th>\n",
       "      <td>2.0</td>\n",
       "      <td>1</td>\n",
       "      <td>37.3</td>\n",
       "      <td>104.0</td>\n",
       "      <td>35.0</td>\n",
       "      <td>NaN</td>\n",
       "      <td>NaN</td>\n",
       "      <td>2.0</td>\n",
       "    </tr>\n",
       "  </tbody>\n",
       "</table>\n",
       "</div>"
      ],
      "text/plain": [
       "   Surgery  Age  Rectal temperature  Pulse  Respiratory rate  \\\n",
       "0      2.0    1                38.5   66.0              28.0   \n",
       "1      1.0    1                39.2   88.0              20.0   \n",
       "2      2.0    1                38.3   40.0              24.0   \n",
       "3      1.0    9                39.1  164.0              84.0   \n",
       "4      2.0    1                37.3  104.0              35.0   \n",
       "\n",
       "   Temperature of extremities  Pain  Outcome  \n",
       "0                         3.0   5.0      2.0  \n",
       "1                         NaN   3.0      3.0  \n",
       "2                         1.0   3.0      1.0  \n",
       "3                         4.0   2.0      2.0  \n",
       "4                         NaN   NaN      2.0  "
      ]
     },
     "execution_count": 35,
     "metadata": {},
     "output_type": "execute_result"
    }
   ],
   "source": [
    "df = data[[0, 1, 3, 4, 5, 6, 10, 22]]\n",
    "df.columns = ['Surgery', 'Age', 'Rectal temperature', 'Pulse', 'Respiratory rate',\n",
    "                      'Temperature of extremities', 'Pain', 'Outcome']\n",
    "df.head()"
   ]
  },
  {
   "cell_type": "markdown",
   "id": "e7a0346a",
   "metadata": {},
   "source": [
    "### Задание 2. Первичное изучение данных"
   ]
  },
  {
   "cell_type": "markdown",
   "id": "b4a3d196",
   "metadata": {},
   "source": [
    "Проанализировать значения по столбцам, рассчитать базовые статистики, найти выбросы."
   ]
  },
  {
   "cell_type": "code",
   "execution_count": 36,
   "id": "3d3db2b0",
   "metadata": {
    "scrolled": true
   },
   "outputs": [
    {
     "name": "stdout",
     "output_type": "stream",
     "text": [
      "<class 'pandas.core.frame.DataFrame'>\n",
      "RangeIndex: 300 entries, 0 to 299\n",
      "Data columns (total 8 columns):\n",
      " #   Column                      Non-Null Count  Dtype  \n",
      "---  ------                      --------------  -----  \n",
      " 0   Surgery                     299 non-null    float64\n",
      " 1   Age                         300 non-null    int64  \n",
      " 2   Rectal temperature          240 non-null    float64\n",
      " 3   Pulse                       276 non-null    float64\n",
      " 4   Respiratory rate            242 non-null    float64\n",
      " 5   Temperature of extremities  244 non-null    float64\n",
      " 6   Pain                        245 non-null    float64\n",
      " 7   Outcome                     299 non-null    float64\n",
      "dtypes: float64(7), int64(1)\n",
      "memory usage: 18.9 KB\n",
      "None\n"
     ]
    }
   ],
   "source": [
    "print(df.info())"
   ]
  },
  {
   "cell_type": "code",
   "execution_count": 37,
   "id": "63cb9bdd",
   "metadata": {},
   "outputs": [
    {
     "data": {
      "text/html": [
       "<div>\n",
       "<style scoped>\n",
       "    .dataframe tbody tr th:only-of-type {\n",
       "        vertical-align: middle;\n",
       "    }\n",
       "\n",
       "    .dataframe tbody tr th {\n",
       "        vertical-align: top;\n",
       "    }\n",
       "\n",
       "    .dataframe thead th {\n",
       "        text-align: right;\n",
       "    }\n",
       "</style>\n",
       "<table border=\"1\" class=\"dataframe\">\n",
       "  <thead>\n",
       "    <tr style=\"text-align: right;\">\n",
       "      <th></th>\n",
       "      <th>Surgery</th>\n",
       "      <th>Age</th>\n",
       "      <th>Rectal temperature</th>\n",
       "      <th>Pulse</th>\n",
       "      <th>Respiratory rate</th>\n",
       "      <th>Temperature of extremities</th>\n",
       "      <th>Pain</th>\n",
       "      <th>Outcome</th>\n",
       "    </tr>\n",
       "  </thead>\n",
       "  <tbody>\n",
       "    <tr>\n",
       "      <th>count</th>\n",
       "      <td>299.00</td>\n",
       "      <td>300.00</td>\n",
       "      <td>240.00</td>\n",
       "      <td>276.00</td>\n",
       "      <td>242.00</td>\n",
       "      <td>244.00</td>\n",
       "      <td>245.00</td>\n",
       "      <td>299.00</td>\n",
       "    </tr>\n",
       "    <tr>\n",
       "      <th>mean</th>\n",
       "      <td>1.40</td>\n",
       "      <td>1.64</td>\n",
       "      <td>38.17</td>\n",
       "      <td>71.91</td>\n",
       "      <td>30.42</td>\n",
       "      <td>2.35</td>\n",
       "      <td>2.95</td>\n",
       "      <td>1.55</td>\n",
       "    </tr>\n",
       "    <tr>\n",
       "      <th>std</th>\n",
       "      <td>0.49</td>\n",
       "      <td>2.17</td>\n",
       "      <td>0.73</td>\n",
       "      <td>28.63</td>\n",
       "      <td>17.64</td>\n",
       "      <td>1.05</td>\n",
       "      <td>1.31</td>\n",
       "      <td>0.74</td>\n",
       "    </tr>\n",
       "    <tr>\n",
       "      <th>min</th>\n",
       "      <td>1.00</td>\n",
       "      <td>1.00</td>\n",
       "      <td>35.40</td>\n",
       "      <td>30.00</td>\n",
       "      <td>8.00</td>\n",
       "      <td>1.00</td>\n",
       "      <td>1.00</td>\n",
       "      <td>1.00</td>\n",
       "    </tr>\n",
       "    <tr>\n",
       "      <th>25%</th>\n",
       "      <td>1.00</td>\n",
       "      <td>1.00</td>\n",
       "      <td>37.80</td>\n",
       "      <td>48.00</td>\n",
       "      <td>18.50</td>\n",
       "      <td>1.00</td>\n",
       "      <td>2.00</td>\n",
       "      <td>1.00</td>\n",
       "    </tr>\n",
       "    <tr>\n",
       "      <th>50%</th>\n",
       "      <td>1.00</td>\n",
       "      <td>1.00</td>\n",
       "      <td>38.20</td>\n",
       "      <td>64.00</td>\n",
       "      <td>24.50</td>\n",
       "      <td>3.00</td>\n",
       "      <td>3.00</td>\n",
       "      <td>1.00</td>\n",
       "    </tr>\n",
       "    <tr>\n",
       "      <th>75%</th>\n",
       "      <td>2.00</td>\n",
       "      <td>1.00</td>\n",
       "      <td>38.50</td>\n",
       "      <td>88.00</td>\n",
       "      <td>36.00</td>\n",
       "      <td>3.00</td>\n",
       "      <td>4.00</td>\n",
       "      <td>2.00</td>\n",
       "    </tr>\n",
       "    <tr>\n",
       "      <th>max</th>\n",
       "      <td>2.00</td>\n",
       "      <td>9.00</td>\n",
       "      <td>40.80</td>\n",
       "      <td>184.00</td>\n",
       "      <td>96.00</td>\n",
       "      <td>4.00</td>\n",
       "      <td>5.00</td>\n",
       "      <td>3.00</td>\n",
       "    </tr>\n",
       "  </tbody>\n",
       "</table>\n",
       "</div>"
      ],
      "text/plain": [
       "      Surgery     Age Rectal temperature   Pulse Respiratory rate  \\\n",
       "count  299.00  300.00             240.00  276.00           242.00   \n",
       "mean     1.40    1.64              38.17   71.91            30.42   \n",
       "std      0.49    2.17               0.73   28.63            17.64   \n",
       "min      1.00    1.00              35.40   30.00             8.00   \n",
       "25%      1.00    1.00              37.80   48.00            18.50   \n",
       "50%      1.00    1.00              38.20   64.00            24.50   \n",
       "75%      2.00    1.00              38.50   88.00            36.00   \n",
       "max      2.00    9.00              40.80  184.00            96.00   \n",
       "\n",
       "      Temperature of extremities    Pain Outcome  \n",
       "count                     244.00  245.00  299.00  \n",
       "mean                        2.35    2.95    1.55  \n",
       "std                         1.05    1.31    0.74  \n",
       "min                         1.00    1.00    1.00  \n",
       "25%                         1.00    2.00    1.00  \n",
       "50%                         3.00    3.00    1.00  \n",
       "75%                         3.00    4.00    2.00  \n",
       "max                         4.00    5.00    3.00  "
      ]
     },
     "execution_count": 37,
     "metadata": {},
     "output_type": "execute_result"
    }
   ],
   "source": [
    "# Расчёт базовых статистик с использованием метода describe():\n",
    "\n",
    "stats = df.describe(include=\"all\").applymap('{:,.2f}'.format)\n",
    "stats "
   ]
  },
  {
   "cell_type": "code",
   "execution_count": 24,
   "id": "c09a20e8",
   "metadata": {},
   "outputs": [
    {
     "data": {
      "text/html": [
       "<div>\n",
       "<style scoped>\n",
       "    .dataframe tbody tr th:only-of-type {\n",
       "        vertical-align: middle;\n",
       "    }\n",
       "\n",
       "    .dataframe tbody tr th {\n",
       "        vertical-align: top;\n",
       "    }\n",
       "\n",
       "    .dataframe thead th {\n",
       "        text-align: right;\n",
       "    }\n",
       "</style>\n",
       "<table border=\"1\" class=\"dataframe\">\n",
       "  <thead>\n",
       "    <tr style=\"text-align: right;\">\n",
       "      <th></th>\n",
       "      <th>Max</th>\n",
       "      <th>Min</th>\n",
       "      <th>Range</th>\n",
       "      <th>Dispersion</th>\n",
       "      <th>Mean</th>\n",
       "      <th>Median</th>\n",
       "      <th>Mode</th>\n",
       "    </tr>\n",
       "  </thead>\n",
       "  <tbody>\n",
       "    <tr>\n",
       "      <th>Surgery</th>\n",
       "      <td>2.0</td>\n",
       "      <td>1.0</td>\n",
       "      <td>1.0</td>\n",
       "      <td>0.24</td>\n",
       "      <td>1.40</td>\n",
       "      <td>1.0</td>\n",
       "      <td>1.0</td>\n",
       "    </tr>\n",
       "    <tr>\n",
       "      <th>Age</th>\n",
       "      <td>9.0</td>\n",
       "      <td>1.0</td>\n",
       "      <td>8.0</td>\n",
       "      <td>4.73</td>\n",
       "      <td>1.64</td>\n",
       "      <td>1.0</td>\n",
       "      <td>1.0</td>\n",
       "    </tr>\n",
       "    <tr>\n",
       "      <th>Rectal temperature</th>\n",
       "      <td>40.8</td>\n",
       "      <td>35.4</td>\n",
       "      <td>5.4</td>\n",
       "      <td>0.54</td>\n",
       "      <td>38.17</td>\n",
       "      <td>38.2</td>\n",
       "      <td>38.0</td>\n",
       "    </tr>\n",
       "    <tr>\n",
       "      <th>Pulse</th>\n",
       "      <td>184.0</td>\n",
       "      <td>30.0</td>\n",
       "      <td>154.0</td>\n",
       "      <td>819.71</td>\n",
       "      <td>71.91</td>\n",
       "      <td>64.0</td>\n",
       "      <td>48.0</td>\n",
       "    </tr>\n",
       "    <tr>\n",
       "      <th>Respiratory rate</th>\n",
       "      <td>96.0</td>\n",
       "      <td>8.0</td>\n",
       "      <td>88.0</td>\n",
       "      <td>311.25</td>\n",
       "      <td>30.42</td>\n",
       "      <td>24.5</td>\n",
       "      <td>20.0</td>\n",
       "    </tr>\n",
       "    <tr>\n",
       "      <th>Temperature of extremities</th>\n",
       "      <td>4.0</td>\n",
       "      <td>1.0</td>\n",
       "      <td>3.0</td>\n",
       "      <td>1.09</td>\n",
       "      <td>2.35</td>\n",
       "      <td>3.0</td>\n",
       "      <td>3.0</td>\n",
       "    </tr>\n",
       "    <tr>\n",
       "      <th>Pain</th>\n",
       "      <td>5.0</td>\n",
       "      <td>1.0</td>\n",
       "      <td>4.0</td>\n",
       "      <td>1.71</td>\n",
       "      <td>2.95</td>\n",
       "      <td>3.0</td>\n",
       "      <td>3.0</td>\n",
       "    </tr>\n",
       "    <tr>\n",
       "      <th>Outcome</th>\n",
       "      <td>3.0</td>\n",
       "      <td>1.0</td>\n",
       "      <td>2.0</td>\n",
       "      <td>0.54</td>\n",
       "      <td>1.55</td>\n",
       "      <td>1.0</td>\n",
       "      <td>1.0</td>\n",
       "    </tr>\n",
       "  </tbody>\n",
       "</table>\n",
       "</div>"
      ],
      "text/plain": [
       "                              Max   Min  Range  Dispersion   Mean  Median  \\\n",
       "Surgery                       2.0   1.0    1.0        0.24   1.40     1.0   \n",
       "Age                           9.0   1.0    8.0        4.73   1.64     1.0   \n",
       "Rectal temperature           40.8  35.4    5.4        0.54  38.17    38.2   \n",
       "Pulse                       184.0  30.0  154.0      819.71  71.91    64.0   \n",
       "Respiratory rate             96.0   8.0   88.0      311.25  30.42    24.5   \n",
       "Temperature of extremities    4.0   1.0    3.0        1.09   2.35     3.0   \n",
       "Pain                          5.0   1.0    4.0        1.71   2.95     3.0   \n",
       "Outcome                       3.0   1.0    2.0        0.54   1.55     1.0   \n",
       "\n",
       "                            Mode  \n",
       "Surgery                      1.0  \n",
       "Age                          1.0  \n",
       "Rectal temperature          38.0  \n",
       "Pulse                       48.0  \n",
       "Respiratory rate            20.0  \n",
       "Temperature of extremities   3.0  \n",
       "Pain                         3.0  \n",
       "Outcome                      1.0  "
      ]
     },
     "execution_count": 24,
     "metadata": {},
     "output_type": "execute_result"
    }
   ],
   "source": [
    "# Расчёт базовых статистик 'ручным' методом (по примеру из тренажёра):\n",
    "\n",
    "df_max = pd.DataFrame(df_filtred.max(), columns=['Max'])\n",
    "\n",
    "df_min = pd.DataFrame(df_filtred.min(), columns=['Min'])\n",
    "\n",
    "df_range = pd.DataFrame(df_filtred.max() - df_filtred.min(), columns=['Range'])\n",
    "\n",
    "df_var = pd.DataFrame(df_filtred.var().round(2), columns=['Dispersion'])\n",
    "\n",
    "df_mean = pd.DataFrame(df_filtred.mean().round(2), columns=['Mean'])\n",
    "\n",
    "df_median = pd.DataFrame(df_filtred.median(), columns=['Median'])\n",
    "\n",
    "df_mode = pd.DataFrame(df_filtred.mode().iloc[0])\n",
    "df_mode.rename(columns = {0 : 'Mode'}, inplace = True)\n",
    "\n",
    "df_result = pd.concat([df_max, df_min, df_range, df_var, df_mean, df_median, df_mode], axis=1)\n",
    "df_result\n",
    "\n"
   ]
  },
  {
   "cell_type": "markdown",
   "id": "39eaa083",
   "metadata": {},
   "source": [
    "Поиск выбросов:"
   ]
  },
  {
   "cell_type": "code",
   "execution_count": 38,
   "id": "2be58943",
   "metadata": {},
   "outputs": [],
   "source": [
    "# Функция для поиска выбросов\n",
    "\n",
    "def find_outliers(data, column):\n",
    "    q1 = data[column].quantile(0.25)\n",
    "    q3 = data[column].quantile(0.75)\n",
    "    iqr = q3 - q1\n",
    "    lower_bound = q1 - 1.5 * iqr\n",
    "    upper_bound = q3 + 1.5 * iqr\n",
    "    outliers = data[(data[column] < lower_bound) | (data[column] > upper_bound)]\n",
    "    return outliers"
   ]
  },
  {
   "cell_type": "code",
   "execution_count": 39,
   "id": "c88a4af3",
   "metadata": {},
   "outputs": [
    {
     "name": "stdout",
     "output_type": "stream",
     "text": [
      "Series([], Name: Surgery, dtype: float64)\n"
     ]
    }
   ],
   "source": [
    "# Поиск выбросов по столбцу 'Surgery' - делалась ли операция (возможные значения 1, 2):\n",
    "\n",
    "print(df[(df['Surgery'] > 2.0) | (df['Surgery'] < 1.0)]['Surgery'])"
   ]
  },
  {
   "cell_type": "code",
   "execution_count": 40,
   "id": "6e9f83bc",
   "metadata": {
    "scrolled": true
   },
   "outputs": [
    {
     "name": "stdout",
     "output_type": "stream",
     "text": [
      "3      9\n",
      "9      9\n",
      "13     9\n",
      "16     9\n",
      "23     9\n",
      "39     9\n",
      "41     9\n",
      "55     9\n",
      "74     9\n",
      "75     9\n",
      "82     9\n",
      "103    9\n",
      "109    9\n",
      "135    9\n",
      "191    9\n",
      "212    9\n",
      "227    9\n",
      "229    9\n",
      "244    9\n",
      "252    9\n",
      "255    9\n",
      "262    9\n",
      "275    9\n",
      "287    9\n",
      "Name: Age, dtype: int64\n"
     ]
    }
   ],
   "source": [
    "# Поиск выбросов по столбцу 'Age' - взрослая или молодая лошадь (возможные значения 1, 2):\n",
    "\n",
    "print(df[(df['Age']  > 2.0) | (df['Age'] < 1.0)]['Age'])"
   ]
  },
  {
   "cell_type": "code",
   "execution_count": 41,
   "id": "7ac032bd",
   "metadata": {
    "scrolled": true
   },
   "outputs": [
    {
     "name": "stdout",
     "output_type": "stream",
     "text": [
      "3      2\n",
      "9      2\n",
      "13     2\n",
      "16     2\n",
      "23     2\n",
      "39     2\n",
      "41     2\n",
      "55     2\n",
      "74     2\n",
      "75     2\n",
      "82     2\n",
      "103    2\n",
      "109    2\n",
      "135    2\n",
      "191    2\n",
      "212    2\n",
      "227    2\n",
      "229    2\n",
      "244    2\n",
      "252    2\n",
      "255    2\n",
      "262    2\n",
      "275    2\n",
      "287    2\n",
      "Name: Age, dtype: int64\n"
     ]
    }
   ],
   "source": [
    "# Проанализировав данные, обнаружил, что в столбце 'Age' значения '2', соответствующие \n",
    "# молодым лошадям, отсутствуют впринципе. \n",
    "# Решил заменить предположительно ошибочные данные:\n",
    "\n",
    "df.loc[df['Age'] == 9, 'Age'] = 2\n",
    "print(df[(df['Age'] != 1)]['Age'])"
   ]
  },
  {
   "cell_type": "code",
   "execution_count": 42,
   "id": "2366543c",
   "metadata": {
    "scrolled": true
   },
   "outputs": [
    {
     "data": {
      "text/plain": [
       "20     39.9\n",
       "44     35.4\n",
       "54     40.3\n",
       "75     39.7\n",
       "80     36.4\n",
       "91     40.3\n",
       "99     39.6\n",
       "118    36.5\n",
       "141    36.0\n",
       "238    36.1\n",
       "251    36.6\n",
       "259    40.8\n",
       "281    40.0\n",
       "298    36.5\n",
       "Name: Rectal temperature, dtype: float64"
      ]
     },
     "execution_count": 42,
     "metadata": {},
     "output_type": "execute_result"
    }
   ],
   "source": [
    "# Поиск выбросов по столбцу 'Rectal temperature' - ректальная температура (норма - 37.8):\n",
    "\n",
    "rectal_temp_outliers = find_outliers(df, 'Rectal temperature')['Rectal temperature']\n",
    "rectal_temp_outliers"
   ]
  },
  {
   "cell_type": "code",
   "execution_count": 43,
   "id": "4c45d2ba",
   "metadata": {},
   "outputs": [
    {
     "data": {
      "text/plain": [
       "3      164.0\n",
       "41     150.0\n",
       "55     160.0\n",
       "255    184.0\n",
       "275    150.0\n",
       "Name: Pulse, dtype: float64"
      ]
     },
     "execution_count": 43,
     "metadata": {},
     "output_type": "execute_result"
    }
   ],
   "source": [
    "# Поиск выбросов по столбцу 'Pulse' - пульс (норма для взрослых: 30-40, у тренированных 20-25):\n",
    "\n",
    "pulse_outliers = find_outliers(df, 'Pulse')['Pulse']\n",
    "pulse_outliers"
   ]
  },
  {
   "cell_type": "code",
   "execution_count": 44,
   "id": "df6c9b44",
   "metadata": {
    "scrolled": true
   },
   "outputs": [
    {
     "data": {
      "text/plain": [
       "3      84.0\n",
       "39     96.0\n",
       "41     72.0\n",
       "82     80.0\n",
       "84     80.0\n",
       "103    68.0\n",
       "106    96.0\n",
       "120    66.0\n",
       "125    68.0\n",
       "186    90.0\n",
       "208    80.0\n",
       "229    70.0\n",
       "244    88.0\n",
       "255    84.0\n",
       "265    68.0\n",
       "269    90.0\n",
       "295    70.0\n",
       "Name: Respiratory rate, dtype: float64"
      ]
     },
     "execution_count": 44,
     "metadata": {},
     "output_type": "execute_result"
    }
   ],
   "source": [
    "# Поиск выбросов по столбцу 'Respiratory rate' - частота дыхания:\n",
    "\n",
    "resp_rate_outliers = find_outliers(df, 'Respiratory rate')['Respiratory rate']\n",
    "resp_rate_outliers"
   ]
  },
  {
   "cell_type": "code",
   "execution_count": 45,
   "id": "a1830173",
   "metadata": {},
   "outputs": [
    {
     "name": "stdout",
     "output_type": "stream",
     "text": [
      "Series([], Name: Temperature of extremities, dtype: float64)\n"
     ]
    }
   ],
   "source": [
    "# Поиск выбросов по столбцу 'Temperature of extremities' - температура конечностей\n",
    "# (возможные значения 1, 2, 3, 4):\n",
    "\n",
    "print(df[(df['Temperature of extremities'] < 1.0) |\n",
    "         (df['Temperature of extremities'] > 4.0)]['Temperature of extremities'])"
   ]
  },
  {
   "cell_type": "code",
   "execution_count": 47,
   "id": "413bcc15",
   "metadata": {},
   "outputs": [
    {
     "name": "stdout",
     "output_type": "stream",
     "text": [
      "Series([], Name: Pain, dtype: float64)\n"
     ]
    }
   ],
   "source": [
    "# Поиск выбросов по столбцу 'Pain' - боль (возможные значения 1, 2, 3, 4, 5):\n",
    "\n",
    "print(df[(df['Pain'] < 1.0) | (df['Pain'] > 5.0)]['Pain'])"
   ]
  },
  {
   "cell_type": "code",
   "execution_count": 46,
   "id": "98373b6a",
   "metadata": {},
   "outputs": [
    {
     "name": "stdout",
     "output_type": "stream",
     "text": [
      "Series([], Name: Outcome, dtype: float64)\n"
     ]
    }
   ],
   "source": [
    "# Поиск выбросов по столбцу 'Outcome' - результат лечения (возможные значения 1, 2, 3):\n",
    "\n",
    "print(df[(df['Outcome'] < 1.0) | (df['Outcome'] > 3.0)]['Outcome'])"
   ]
  },
  {
   "cell_type": "markdown",
   "id": "e3ce7c16",
   "metadata": {},
   "source": [
    "### Задание 3. Работа с пропусками"
   ]
  },
  {
   "cell_type": "markdown",
   "id": "8c36b1e8",
   "metadata": {},
   "source": [
    "Рассчитать количество пропусков для всех выбранных столбцов. Принять и обосновать решение о методе заполнения пропусков по каждому столбцу на основе рассчитанных статистик и возможной взаимосвязи значений в них. Сформировать датафрейм, в котором пропуски будут отсутствовать."
   ]
  },
  {
   "cell_type": "code",
   "execution_count": 56,
   "id": "0aeb8e4f",
   "metadata": {},
   "outputs": [
    {
     "data": {
      "text/plain": [
       "Surgery                        1\n",
       "Age                            0\n",
       "Rectal temperature            60\n",
       "Pulse                         24\n",
       "Respiratory rate              58\n",
       "Temperature of extremities    56\n",
       "Pain                          55\n",
       "Outcome                        1\n",
       "dtype: int64"
      ]
     },
     "execution_count": 56,
     "metadata": {},
     "output_type": "execute_result"
    }
   ],
   "source": [
    "# Рассчитаем количество пропусков для каждого столбца\n",
    "\n",
    "df.isnull().sum()"
   ]
  },
  {
   "cell_type": "code",
   "execution_count": 57,
   "id": "99af05d7",
   "metadata": {
    "scrolled": true
   },
   "outputs": [
    {
     "data": {
      "text/plain": [
       "Surgery                        0.33\n",
       "Age                            0.00\n",
       "Rectal temperature            20.00\n",
       "Pulse                          8.00\n",
       "Respiratory rate              19.33\n",
       "Temperature of extremities    18.67\n",
       "Pain                          18.33\n",
       "Outcome                        0.33\n",
       "dtype: float64"
      ]
     },
     "execution_count": 57,
     "metadata": {},
     "output_type": "execute_result"
    }
   ],
   "source": [
    "# Рассчитаем количество пропусков для каждого столбца в %\n",
    "\n",
    "(df.isna().mean() * 100).round(2)"
   ]
  },
  {
   "cell_type": "markdown",
   "id": "bee07f52",
   "metadata": {},
   "source": [
    "Путём изучения данных с точки зрения не ветеринара, а также анализа изменений в подсчётах медиан по искомым столбцам с использованием `print()` с различными группировками, пришёл к следующим результатам:"
   ]
  },
  {
   "cell_type": "code",
   "execution_count": 61,
   "id": "34940d0f",
   "metadata": {},
   "outputs": [],
   "source": [
    "# Замена пропусков для 'Pain':\n",
    "\n",
    "fill_median_by_pain = df.copy()\n",
    "fill_median_by_pain['Pain'] = fill_median_by_pain['Pain'].fillna(df.groupby(['Surgery', 'Age', 'Outcome'])['Pain'].transform('median').round(0))"
   ]
  },
  {
   "cell_type": "code",
   "execution_count": 62,
   "id": "c9172c88",
   "metadata": {},
   "outputs": [],
   "source": [
    "# Замена пропусков для 'Respiratory rate':\n",
    "\n",
    "fill_median_by_resp_rate = fill_median_by_pain.copy()\n",
    "fill_median_by_resp_rate['Respiratory rate'] = fill_median_by_resp_rate['Respiratory rate'].fillna(fill_median_by_pain.groupby(['Age', 'Pain'])['Respiratory rate'].transform('median'))"
   ]
  },
  {
   "cell_type": "code",
   "execution_count": 63,
   "id": "9d201313",
   "metadata": {},
   "outputs": [],
   "source": [
    "# Замена пропусков для 'Temperature of extremities':\n",
    "\n",
    "fill_median_by_extremities_temp = fill_median_by_resp_rate.copy()\n",
    "fill_median_by_extremities_temp['Temperature of extremities'] = fill_median_by_extremities_temp['Temperature of extremities'].fillna(fill_median_by_resp_rate.groupby(['Age', 'Pain', 'Outcome'])['Temperature of extremities'].transform('median').round(0))"
   ]
  },
  {
   "cell_type": "code",
   "execution_count": 64,
   "id": "f6d105df",
   "metadata": {},
   "outputs": [],
   "source": [
    "# Замена пропусков для 'Pulse':\n",
    "\n",
    "fill_median_by_pulse = fill_median_by_extremities_temp.copy()\n",
    "fill_median_by_pulse['Pulse'] = fill_median_by_pulse['Pulse'].fillna(fill_median_by_extremities_temp.groupby(['Surgery', 'Age', 'Pain'])['Pulse'].transform('median'))"
   ]
  },
  {
   "cell_type": "code",
   "execution_count": 65,
   "id": "77a89c36",
   "metadata": {},
   "outputs": [],
   "source": [
    "# Замена пропусков для 'Rectal temperature':\n",
    "\n",
    "fill_median_by_rectal_temp = fill_median_by_pulse.copy()\n",
    "fill_median_by_rectal_temp['Rectal temperature'] = fill_median_by_rectal_temp['Rectal temperature'].fillna(fill_median_by_pulse.groupby(['Surgery', 'Age', 'Temperature of extremities'])['Rectal temperature'].transform('median'))"
   ]
  },
  {
   "cell_type": "code",
   "execution_count": 66,
   "id": "9da5943e",
   "metadata": {},
   "outputs": [],
   "source": [
    "# Замена пропусков для 'Surgery':\n",
    "\n",
    "fill_median_by_surgery = fill_median_by_rectal_temp.copy()\n",
    "fill_median_by_surgery['Surgery'] = fill_median_by_surgery['Surgery'].fillna(fill_median_by_pulse.groupby(['Age', 'Temperature of extremities', 'Pain'])['Surgery'].transform('median').round(0))"
   ]
  },
  {
   "cell_type": "code",
   "execution_count": 72,
   "id": "04240d0f",
   "metadata": {},
   "outputs": [],
   "source": [
    "# Замена пропусков для 'Outcome':\n",
    "\n",
    "dataframe_without_spaces = fill_median_by_surgery.copy()\n",
    "dataframe_without_spaces['Outcome'] = dataframe_without_spaces['Outcome'].fillna(fill_median_by_surgery.groupby(['Surgery', 'Age', 'Pain'])['Outcome'].transform('median').round(0))"
   ]
  },
  {
   "cell_type": "code",
   "execution_count": 73,
   "id": "b28bcddf",
   "metadata": {},
   "outputs": [
    {
     "data": {
      "text/html": [
       "<div>\n",
       "<style scoped>\n",
       "    .dataframe tbody tr th:only-of-type {\n",
       "        vertical-align: middle;\n",
       "    }\n",
       "\n",
       "    .dataframe tbody tr th {\n",
       "        vertical-align: top;\n",
       "    }\n",
       "\n",
       "    .dataframe thead th {\n",
       "        text-align: right;\n",
       "    }\n",
       "</style>\n",
       "<table border=\"1\" class=\"dataframe\">\n",
       "  <thead>\n",
       "    <tr style=\"text-align: right;\">\n",
       "      <th></th>\n",
       "      <th>Surgery</th>\n",
       "      <th>Age</th>\n",
       "      <th>Rectal temperature</th>\n",
       "      <th>Pulse</th>\n",
       "      <th>Respiratory rate</th>\n",
       "      <th>Temperature of extremities</th>\n",
       "      <th>Pain</th>\n",
       "      <th>Outcome</th>\n",
       "    </tr>\n",
       "  </thead>\n",
       "  <tbody>\n",
       "    <tr>\n",
       "      <th>0</th>\n",
       "      <td>2.0</td>\n",
       "      <td>1</td>\n",
       "      <td>38.5</td>\n",
       "      <td>66.0</td>\n",
       "      <td>28.0</td>\n",
       "      <td>3.0</td>\n",
       "      <td>5.0</td>\n",
       "      <td>2.0</td>\n",
       "    </tr>\n",
       "    <tr>\n",
       "      <th>1</th>\n",
       "      <td>1.0</td>\n",
       "      <td>1</td>\n",
       "      <td>39.2</td>\n",
       "      <td>88.0</td>\n",
       "      <td>20.0</td>\n",
       "      <td>3.0</td>\n",
       "      <td>3.0</td>\n",
       "      <td>3.0</td>\n",
       "    </tr>\n",
       "    <tr>\n",
       "      <th>2</th>\n",
       "      <td>2.0</td>\n",
       "      <td>1</td>\n",
       "      <td>38.3</td>\n",
       "      <td>40.0</td>\n",
       "      <td>24.0</td>\n",
       "      <td>1.0</td>\n",
       "      <td>3.0</td>\n",
       "      <td>1.0</td>\n",
       "    </tr>\n",
       "    <tr>\n",
       "      <th>3</th>\n",
       "      <td>1.0</td>\n",
       "      <td>2</td>\n",
       "      <td>39.1</td>\n",
       "      <td>164.0</td>\n",
       "      <td>84.0</td>\n",
       "      <td>4.0</td>\n",
       "      <td>2.0</td>\n",
       "      <td>2.0</td>\n",
       "    </tr>\n",
       "    <tr>\n",
       "      <th>4</th>\n",
       "      <td>2.0</td>\n",
       "      <td>1</td>\n",
       "      <td>37.3</td>\n",
       "      <td>104.0</td>\n",
       "      <td>35.0</td>\n",
       "      <td>3.0</td>\n",
       "      <td>4.0</td>\n",
       "      <td>2.0</td>\n",
       "    </tr>\n",
       "    <tr>\n",
       "      <th>...</th>\n",
       "      <td>...</td>\n",
       "      <td>...</td>\n",
       "      <td>...</td>\n",
       "      <td>...</td>\n",
       "      <td>...</td>\n",
       "      <td>...</td>\n",
       "      <td>...</td>\n",
       "      <td>...</td>\n",
       "    </tr>\n",
       "    <tr>\n",
       "      <th>295</th>\n",
       "      <td>1.0</td>\n",
       "      <td>1</td>\n",
       "      <td>38.4</td>\n",
       "      <td>120.0</td>\n",
       "      <td>70.0</td>\n",
       "      <td>4.0</td>\n",
       "      <td>2.0</td>\n",
       "      <td>3.0</td>\n",
       "    </tr>\n",
       "    <tr>\n",
       "      <th>296</th>\n",
       "      <td>2.0</td>\n",
       "      <td>1</td>\n",
       "      <td>37.2</td>\n",
       "      <td>72.0</td>\n",
       "      <td>24.0</td>\n",
       "      <td>3.0</td>\n",
       "      <td>4.0</td>\n",
       "      <td>3.0</td>\n",
       "    </tr>\n",
       "    <tr>\n",
       "      <th>297</th>\n",
       "      <td>1.0</td>\n",
       "      <td>1</td>\n",
       "      <td>37.5</td>\n",
       "      <td>72.0</td>\n",
       "      <td>30.0</td>\n",
       "      <td>4.0</td>\n",
       "      <td>4.0</td>\n",
       "      <td>2.0</td>\n",
       "    </tr>\n",
       "    <tr>\n",
       "      <th>298</th>\n",
       "      <td>1.0</td>\n",
       "      <td>1</td>\n",
       "      <td>36.5</td>\n",
       "      <td>100.0</td>\n",
       "      <td>24.0</td>\n",
       "      <td>3.0</td>\n",
       "      <td>3.0</td>\n",
       "      <td>1.0</td>\n",
       "    </tr>\n",
       "    <tr>\n",
       "      <th>299</th>\n",
       "      <td>1.0</td>\n",
       "      <td>1</td>\n",
       "      <td>37.2</td>\n",
       "      <td>40.0</td>\n",
       "      <td>20.0</td>\n",
       "      <td>3.0</td>\n",
       "      <td>4.0</td>\n",
       "      <td>3.0</td>\n",
       "    </tr>\n",
       "  </tbody>\n",
       "</table>\n",
       "<p>300 rows × 8 columns</p>\n",
       "</div>"
      ],
      "text/plain": [
       "     Surgery  Age  Rectal temperature  Pulse  Respiratory rate  \\\n",
       "0        2.0    1                38.5   66.0              28.0   \n",
       "1        1.0    1                39.2   88.0              20.0   \n",
       "2        2.0    1                38.3   40.0              24.0   \n",
       "3        1.0    2                39.1  164.0              84.0   \n",
       "4        2.0    1                37.3  104.0              35.0   \n",
       "..       ...  ...                 ...    ...               ...   \n",
       "295      1.0    1                38.4  120.0              70.0   \n",
       "296      2.0    1                37.2   72.0              24.0   \n",
       "297      1.0    1                37.5   72.0              30.0   \n",
       "298      1.0    1                36.5  100.0              24.0   \n",
       "299      1.0    1                37.2   40.0              20.0   \n",
       "\n",
       "     Temperature of extremities  Pain  Outcome  \n",
       "0                           3.0   5.0      2.0  \n",
       "1                           3.0   3.0      3.0  \n",
       "2                           1.0   3.0      1.0  \n",
       "3                           4.0   2.0      2.0  \n",
       "4                           3.0   4.0      2.0  \n",
       "..                          ...   ...      ...  \n",
       "295                         4.0   2.0      3.0  \n",
       "296                         3.0   4.0      3.0  \n",
       "297                         4.0   4.0      2.0  \n",
       "298                         3.0   3.0      1.0  \n",
       "299                         3.0   4.0      3.0  \n",
       "\n",
       "[300 rows x 8 columns]"
      ]
     },
     "execution_count": 73,
     "metadata": {},
     "output_type": "execute_result"
    }
   ],
   "source": [
    "# Итоговый DataFrame:\n",
    "\n",
    "dataframe_without_spaces"
   ]
  }
 ],
 "metadata": {
  "kernelspec": {
   "display_name": "Python 3 (ipykernel)",
   "language": "python",
   "name": "python3"
  },
  "language_info": {
   "codemirror_mode": {
    "name": "ipython",
    "version": 3
   },
   "file_extension": ".py",
   "mimetype": "text/x-python",
   "name": "python",
   "nbconvert_exporter": "python",
   "pygments_lexer": "ipython3",
   "version": "3.9.15"
  }
 },
 "nbformat": 4,
 "nbformat_minor": 5
}
